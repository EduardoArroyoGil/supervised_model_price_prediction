{
 "cells": [
  {
   "cell_type": "markdown",
   "id": "b5b28c4b",
   "metadata": {},
   "source": [
    "## Importando librerias"
   ]
  },
  {
   "cell_type": "code",
   "execution_count": 1,
   "id": "d014b1e5",
   "metadata": {},
   "outputs": [],
   "source": [
    "import pandas as pd\n",
    "import numpy as np\n",
    "import sidetable\n",
    "\n",
    "import matplotlib.pyplot as plt\n",
    "import seaborn as sns\n",
    "\n",
    "import math\n",
    "from scipy.stats import chisquare\n",
    "from scipy.stats import shapiro\n",
    "import pylab\n",
    "import scipy.stats as stats\n",
    "\n",
    "from sklearn.preprocessing import MinMaxScaler\n",
    "from sklearn.preprocessing import StandardScaler\n",
    "from sklearn.model_selection import train_test_split\n",
    "\n",
    "\n",
    "from sklearn.linear_model import LinearRegression\n",
    "from sklearn.ensemble import RandomForestRegressor\n",
    "from sklearn.tree import DecisionTreeRegressor \n",
    "from sklearn.model_selection import GridSearchCV\n",
    "from sklearn import tree\n",
    "\n",
    "\n",
    "from sklearn.model_selection import cross_val_score\n",
    "from sklearn.model_selection import cross_validate\n",
    "from sklearn import metrics"
   ]
  },
  {
   "cell_type": "markdown",
   "id": "b257f1f2",
   "metadata": {},
   "source": [
    "## Leyendo fichero y renombrando columnas"
   ]
  },
  {
   "cell_type": "code",
   "execution_count": 2,
   "id": "6ac32cad",
   "metadata": {
    "scrolled": true
   },
   "outputs": [
    {
     "data": {
      "text/html": [
       "<div>\n",
       "<style scoped>\n",
       "    .dataframe tbody tr th:only-of-type {\n",
       "        vertical-align: middle;\n",
       "    }\n",
       "\n",
       "    .dataframe tbody tr th {\n",
       "        vertical-align: top;\n",
       "    }\n",
       "\n",
       "    .dataframe thead th {\n",
       "        text-align: right;\n",
       "    }\n",
       "</style>\n",
       "<table border=\"1\" class=\"dataframe\">\n",
       "  <thead>\n",
       "    <tr style=\"text-align: right;\">\n",
       "      <th></th>\n",
       "      <th>0</th>\n",
       "      <th>1</th>\n",
       "      <th>2</th>\n",
       "      <th>3</th>\n",
       "      <th>4</th>\n",
       "      <th>5</th>\n",
       "      <th>6</th>\n",
       "      <th>7</th>\n",
       "      <th>8</th>\n",
       "      <th>9</th>\n",
       "      <th>...</th>\n",
       "      <th>11</th>\n",
       "      <th>12</th>\n",
       "      <th>13</th>\n",
       "      <th>14</th>\n",
       "      <th>15</th>\n",
       "      <th>16</th>\n",
       "      <th>17</th>\n",
       "      <th>18</th>\n",
       "      <th>19</th>\n",
       "      <th>20</th>\n",
       "    </tr>\n",
       "  </thead>\n",
       "  <tbody>\n",
       "    <tr>\n",
       "      <th>0</th>\n",
       "      <td>7129300520</td>\n",
       "      <td>10/13/14</td>\n",
       "      <td>3</td>\n",
       "      <td>1.00</td>\n",
       "      <td>1180</td>\n",
       "      <td>5650</td>\n",
       "      <td>1.0</td>\n",
       "      <td>0</td>\n",
       "      <td>0</td>\n",
       "      <td>3</td>\n",
       "      <td>...</td>\n",
       "      <td>1180</td>\n",
       "      <td>0</td>\n",
       "      <td>1955</td>\n",
       "      <td>0</td>\n",
       "      <td>98178</td>\n",
       "      <td>47.5112</td>\n",
       "      <td>-122.257</td>\n",
       "      <td>1340</td>\n",
       "      <td>5650</td>\n",
       "      <td>221900</td>\n",
       "    </tr>\n",
       "    <tr>\n",
       "      <th>1</th>\n",
       "      <td>6414100192</td>\n",
       "      <td>12/9/14</td>\n",
       "      <td>3</td>\n",
       "      <td>2.25</td>\n",
       "      <td>2570</td>\n",
       "      <td>7242</td>\n",
       "      <td>2.0</td>\n",
       "      <td>0</td>\n",
       "      <td>0</td>\n",
       "      <td>3</td>\n",
       "      <td>...</td>\n",
       "      <td>2170</td>\n",
       "      <td>400</td>\n",
       "      <td>1951</td>\n",
       "      <td>1991</td>\n",
       "      <td>98125</td>\n",
       "      <td>47.7210</td>\n",
       "      <td>-122.319</td>\n",
       "      <td>1690</td>\n",
       "      <td>7639</td>\n",
       "      <td>538000</td>\n",
       "    </tr>\n",
       "  </tbody>\n",
       "</table>\n",
       "<p>2 rows × 21 columns</p>\n",
       "</div>"
      ],
      "text/plain": [
       "           0         1   2     3     4     5    6   7   8   9   ...    11  \\\n",
       "0  7129300520  10/13/14   3  1.00  1180  5650  1.0   0   0   3  ...  1180   \n",
       "1  6414100192   12/9/14   3  2.25  2570  7242  2.0   0   0   3  ...  2170   \n",
       "\n",
       "    12    13    14     15       16       17    18    19      20  \n",
       "0    0  1955     0  98178  47.5112 -122.257  1340  5650  221900  \n",
       "1  400  1951  1991  98125  47.7210 -122.319  1690  7639  538000  \n",
       "\n",
       "[2 rows x 21 columns]"
      ]
     },
     "execution_count": 2,
     "metadata": {},
     "output_type": "execute_result"
    }
   ],
   "source": [
    "df = pd.read_csv('regression_data.csv', header = None)\n",
    "df.head(2)"
   ]
  },
  {
   "cell_type": "code",
   "execution_count": 3,
   "id": "96b6ab4e",
   "metadata": {},
   "outputs": [],
   "source": [
    "columns_rename = {0:'id',\n",
    "                  1:'date',\n",
    "                  2:'bedrooms',\n",
    "                  3:'bathrooms',\n",
    "                  4:'sqft_living',\n",
    "                  5:'sqft_lot',\n",
    "                  6:'floors',\n",
    "                  7:'waterfront',\n",
    "                  8:'view',\n",
    "                  9:'condition',\n",
    "                  10:'grade',\n",
    "                  11:'sqft_above',\n",
    "                  12:'sqft_basement',\n",
    "                  13:'yr_built',\n",
    "                  14:'yr_renovated',\n",
    "                  15:'zipcode',\n",
    "                  16:'lat',\n",
    "                  17:'long',\n",
    "                  18:'sqft_living15',\n",
    "                  19:'sqft_lot15',\n",
    "                  20:'price'\n",
    "                 }\n"
   ]
  },
  {
   "cell_type": "code",
   "execution_count": 4,
   "id": "64ead4bd",
   "metadata": {},
   "outputs": [],
   "source": [
    "df.rename(columns = columns_rename, inplace = True)\n"
   ]
  },
  {
   "cell_type": "code",
   "execution_count": 5,
   "id": "68388de6",
   "metadata": {},
   "outputs": [
    {
     "data": {
      "text/html": [
       "<div>\n",
       "<style scoped>\n",
       "    .dataframe tbody tr th:only-of-type {\n",
       "        vertical-align: middle;\n",
       "    }\n",
       "\n",
       "    .dataframe tbody tr th {\n",
       "        vertical-align: top;\n",
       "    }\n",
       "\n",
       "    .dataframe thead th {\n",
       "        text-align: right;\n",
       "    }\n",
       "</style>\n",
       "<table border=\"1\" class=\"dataframe\">\n",
       "  <thead>\n",
       "    <tr style=\"text-align: right;\">\n",
       "      <th></th>\n",
       "      <th>id</th>\n",
       "      <th>date</th>\n",
       "      <th>bedrooms</th>\n",
       "      <th>bathrooms</th>\n",
       "      <th>sqft_living</th>\n",
       "      <th>sqft_lot</th>\n",
       "      <th>floors</th>\n",
       "      <th>waterfront</th>\n",
       "      <th>view</th>\n",
       "      <th>condition</th>\n",
       "      <th>...</th>\n",
       "      <th>sqft_above</th>\n",
       "      <th>sqft_basement</th>\n",
       "      <th>yr_built</th>\n",
       "      <th>yr_renovated</th>\n",
       "      <th>zipcode</th>\n",
       "      <th>lat</th>\n",
       "      <th>long</th>\n",
       "      <th>sqft_living15</th>\n",
       "      <th>sqft_lot15</th>\n",
       "      <th>price</th>\n",
       "    </tr>\n",
       "  </thead>\n",
       "  <tbody>\n",
       "    <tr>\n",
       "      <th>0</th>\n",
       "      <td>7129300520</td>\n",
       "      <td>10/13/14</td>\n",
       "      <td>3</td>\n",
       "      <td>1.00</td>\n",
       "      <td>1180</td>\n",
       "      <td>5650</td>\n",
       "      <td>1.0</td>\n",
       "      <td>0</td>\n",
       "      <td>0</td>\n",
       "      <td>3</td>\n",
       "      <td>...</td>\n",
       "      <td>1180</td>\n",
       "      <td>0</td>\n",
       "      <td>1955</td>\n",
       "      <td>0</td>\n",
       "      <td>98178</td>\n",
       "      <td>47.5112</td>\n",
       "      <td>-122.257</td>\n",
       "      <td>1340</td>\n",
       "      <td>5650</td>\n",
       "      <td>221900</td>\n",
       "    </tr>\n",
       "    <tr>\n",
       "      <th>1</th>\n",
       "      <td>6414100192</td>\n",
       "      <td>12/9/14</td>\n",
       "      <td>3</td>\n",
       "      <td>2.25</td>\n",
       "      <td>2570</td>\n",
       "      <td>7242</td>\n",
       "      <td>2.0</td>\n",
       "      <td>0</td>\n",
       "      <td>0</td>\n",
       "      <td>3</td>\n",
       "      <td>...</td>\n",
       "      <td>2170</td>\n",
       "      <td>400</td>\n",
       "      <td>1951</td>\n",
       "      <td>1991</td>\n",
       "      <td>98125</td>\n",
       "      <td>47.7210</td>\n",
       "      <td>-122.319</td>\n",
       "      <td>1690</td>\n",
       "      <td>7639</td>\n",
       "      <td>538000</td>\n",
       "    </tr>\n",
       "  </tbody>\n",
       "</table>\n",
       "<p>2 rows × 21 columns</p>\n",
       "</div>"
      ],
      "text/plain": [
       "           id      date  bedrooms  bathrooms  sqft_living  sqft_lot  floors  \\\n",
       "0  7129300520  10/13/14         3       1.00         1180      5650     1.0   \n",
       "1  6414100192   12/9/14         3       2.25         2570      7242     2.0   \n",
       "\n",
       "   waterfront  view  condition  ...  sqft_above  sqft_basement  yr_built  \\\n",
       "0           0     0          3  ...        1180              0      1955   \n",
       "1           0     0          3  ...        2170            400      1951   \n",
       "\n",
       "   yr_renovated  zipcode      lat     long  sqft_living15  sqft_lot15   price  \n",
       "0             0    98178  47.5112 -122.257           1340        5650  221900  \n",
       "1          1991    98125  47.7210 -122.319           1690        7639  538000  \n",
       "\n",
       "[2 rows x 21 columns]"
      ]
     },
     "execution_count": 5,
     "metadata": {},
     "output_type": "execute_result"
    }
   ],
   "source": [
    "df.head(2)"
   ]
  },
  {
   "cell_type": "markdown",
   "id": "389f8c05",
   "metadata": {},
   "source": [
    "## Identificando Nulos"
   ]
  },
  {
   "cell_type": "code",
   "execution_count": 6,
   "id": "e0c5b06c",
   "metadata": {
    "scrolled": false
   },
   "outputs": [
    {
     "data": {
      "text/html": [
       "<div>\n",
       "<style scoped>\n",
       "    .dataframe tbody tr th:only-of-type {\n",
       "        vertical-align: middle;\n",
       "    }\n",
       "\n",
       "    .dataframe tbody tr th {\n",
       "        vertical-align: top;\n",
       "    }\n",
       "\n",
       "    .dataframe thead th {\n",
       "        text-align: right;\n",
       "    }\n",
       "</style>\n",
       "<table border=\"1\" class=\"dataframe\">\n",
       "  <thead>\n",
       "    <tr style=\"text-align: right;\">\n",
       "      <th></th>\n",
       "      <th>missing</th>\n",
       "      <th>total</th>\n",
       "      <th>percent</th>\n",
       "    </tr>\n",
       "  </thead>\n",
       "  <tbody>\n",
       "    <tr>\n",
       "      <th>id</th>\n",
       "      <td>0</td>\n",
       "      <td>21597</td>\n",
       "      <td>0.0</td>\n",
       "    </tr>\n",
       "    <tr>\n",
       "      <th>sqft_above</th>\n",
       "      <td>0</td>\n",
       "      <td>21597</td>\n",
       "      <td>0.0</td>\n",
       "    </tr>\n",
       "    <tr>\n",
       "      <th>sqft_lot15</th>\n",
       "      <td>0</td>\n",
       "      <td>21597</td>\n",
       "      <td>0.0</td>\n",
       "    </tr>\n",
       "    <tr>\n",
       "      <th>sqft_living15</th>\n",
       "      <td>0</td>\n",
       "      <td>21597</td>\n",
       "      <td>0.0</td>\n",
       "    </tr>\n",
       "    <tr>\n",
       "      <th>long</th>\n",
       "      <td>0</td>\n",
       "      <td>21597</td>\n",
       "      <td>0.0</td>\n",
       "    </tr>\n",
       "    <tr>\n",
       "      <th>lat</th>\n",
       "      <td>0</td>\n",
       "      <td>21597</td>\n",
       "      <td>0.0</td>\n",
       "    </tr>\n",
       "    <tr>\n",
       "      <th>zipcode</th>\n",
       "      <td>0</td>\n",
       "      <td>21597</td>\n",
       "      <td>0.0</td>\n",
       "    </tr>\n",
       "    <tr>\n",
       "      <th>yr_renovated</th>\n",
       "      <td>0</td>\n",
       "      <td>21597</td>\n",
       "      <td>0.0</td>\n",
       "    </tr>\n",
       "    <tr>\n",
       "      <th>yr_built</th>\n",
       "      <td>0</td>\n",
       "      <td>21597</td>\n",
       "      <td>0.0</td>\n",
       "    </tr>\n",
       "    <tr>\n",
       "      <th>sqft_basement</th>\n",
       "      <td>0</td>\n",
       "      <td>21597</td>\n",
       "      <td>0.0</td>\n",
       "    </tr>\n",
       "    <tr>\n",
       "      <th>grade</th>\n",
       "      <td>0</td>\n",
       "      <td>21597</td>\n",
       "      <td>0.0</td>\n",
       "    </tr>\n",
       "    <tr>\n",
       "      <th>date</th>\n",
       "      <td>0</td>\n",
       "      <td>21597</td>\n",
       "      <td>0.0</td>\n",
       "    </tr>\n",
       "    <tr>\n",
       "      <th>condition</th>\n",
       "      <td>0</td>\n",
       "      <td>21597</td>\n",
       "      <td>0.0</td>\n",
       "    </tr>\n",
       "    <tr>\n",
       "      <th>view</th>\n",
       "      <td>0</td>\n",
       "      <td>21597</td>\n",
       "      <td>0.0</td>\n",
       "    </tr>\n",
       "    <tr>\n",
       "      <th>waterfront</th>\n",
       "      <td>0</td>\n",
       "      <td>21597</td>\n",
       "      <td>0.0</td>\n",
       "    </tr>\n",
       "    <tr>\n",
       "      <th>floors</th>\n",
       "      <td>0</td>\n",
       "      <td>21597</td>\n",
       "      <td>0.0</td>\n",
       "    </tr>\n",
       "    <tr>\n",
       "      <th>sqft_lot</th>\n",
       "      <td>0</td>\n",
       "      <td>21597</td>\n",
       "      <td>0.0</td>\n",
       "    </tr>\n",
       "    <tr>\n",
       "      <th>sqft_living</th>\n",
       "      <td>0</td>\n",
       "      <td>21597</td>\n",
       "      <td>0.0</td>\n",
       "    </tr>\n",
       "    <tr>\n",
       "      <th>bathrooms</th>\n",
       "      <td>0</td>\n",
       "      <td>21597</td>\n",
       "      <td>0.0</td>\n",
       "    </tr>\n",
       "    <tr>\n",
       "      <th>bedrooms</th>\n",
       "      <td>0</td>\n",
       "      <td>21597</td>\n",
       "      <td>0.0</td>\n",
       "    </tr>\n",
       "    <tr>\n",
       "      <th>price</th>\n",
       "      <td>0</td>\n",
       "      <td>21597</td>\n",
       "      <td>0.0</td>\n",
       "    </tr>\n",
       "  </tbody>\n",
       "</table>\n",
       "</div>"
      ],
      "text/plain": [
       "               missing  total  percent\n",
       "id                   0  21597      0.0\n",
       "sqft_above           0  21597      0.0\n",
       "sqft_lot15           0  21597      0.0\n",
       "sqft_living15        0  21597      0.0\n",
       "long                 0  21597      0.0\n",
       "lat                  0  21597      0.0\n",
       "zipcode              0  21597      0.0\n",
       "yr_renovated         0  21597      0.0\n",
       "yr_built             0  21597      0.0\n",
       "sqft_basement        0  21597      0.0\n",
       "grade                0  21597      0.0\n",
       "date                 0  21597      0.0\n",
       "condition            0  21597      0.0\n",
       "view                 0  21597      0.0\n",
       "waterfront           0  21597      0.0\n",
       "floors               0  21597      0.0\n",
       "sqft_lot             0  21597      0.0\n",
       "sqft_living          0  21597      0.0\n",
       "bathrooms            0  21597      0.0\n",
       "bedrooms             0  21597      0.0\n",
       "price                0  21597      0.0"
      ]
     },
     "execution_count": 6,
     "metadata": {},
     "output_type": "execute_result"
    }
   ],
   "source": [
    "df.stb.missing()"
   ]
  },
  {
   "cell_type": "markdown",
   "id": "8c01c86d",
   "metadata": {},
   "source": [
    "## Generando nueva columna para identificar si esta o no renovado el piso"
   ]
  },
  {
   "cell_type": "code",
   "execution_count": 7,
   "id": "b414c7bc",
   "metadata": {},
   "outputs": [],
   "source": [
    "def renovated(yr_renovated):\n",
    "    if yr_renovated == 0:\n",
    "        x = 0\n",
    "    else:\n",
    "        x = 1\n",
    "    \n",
    "    return x"
   ]
  },
  {
   "cell_type": "code",
   "execution_count": 8,
   "id": "39e2c167",
   "metadata": {},
   "outputs": [],
   "source": [
    "df[\"renovated\"] = df.apply(lambda x : renovated(x['yr_renovated']), axis=1)"
   ]
  },
  {
   "cell_type": "markdown",
   "id": "1f26484c",
   "metadata": {},
   "source": [
    "## Gestion de Outliers"
   ]
  },
  {
   "cell_type": "code",
   "execution_count": 9,
   "id": "89cc7ef4",
   "metadata": {},
   "outputs": [
    {
     "data": {
      "text/html": [
       "<div>\n",
       "<style scoped>\n",
       "    .dataframe tbody tr th:only-of-type {\n",
       "        vertical-align: middle;\n",
       "    }\n",
       "\n",
       "    .dataframe tbody tr th {\n",
       "        vertical-align: top;\n",
       "    }\n",
       "\n",
       "    .dataframe thead th {\n",
       "        text-align: right;\n",
       "    }\n",
       "</style>\n",
       "<table border=\"1\" class=\"dataframe\">\n",
       "  <thead>\n",
       "    <tr style=\"text-align: right;\">\n",
       "      <th></th>\n",
       "      <th>bedrooms</th>\n",
       "      <th>sqft_living</th>\n",
       "      <th>sqft_lot</th>\n",
       "      <th>sqft_basement</th>\n",
       "      <th>price</th>\n",
       "    </tr>\n",
       "  </thead>\n",
       "  <tbody>\n",
       "    <tr>\n",
       "      <th>0</th>\n",
       "      <td>3</td>\n",
       "      <td>1180</td>\n",
       "      <td>5650</td>\n",
       "      <td>0</td>\n",
       "      <td>221900</td>\n",
       "    </tr>\n",
       "    <tr>\n",
       "      <th>1</th>\n",
       "      <td>3</td>\n",
       "      <td>2570</td>\n",
       "      <td>7242</td>\n",
       "      <td>400</td>\n",
       "      <td>538000</td>\n",
       "    </tr>\n",
       "  </tbody>\n",
       "</table>\n",
       "</div>"
      ],
      "text/plain": [
       "   bedrooms  sqft_living  sqft_lot  sqft_basement   price\n",
       "0         3         1180      5650              0  221900\n",
       "1         3         2570      7242            400  538000"
      ]
     },
     "execution_count": 9,
     "metadata": {},
     "output_type": "execute_result"
    }
   ],
   "source": [
    "lista_columnas = ['bedrooms','sqft_living','sqft_lot','sqft_basement','price']\n",
    "#df_numericas = df.select_dtypes(include=np.number)\n",
    "df_numericas = df[lista_columnas]\n",
    "df_numericas.head(2)"
   ]
  },
  {
   "cell_type": "code",
   "execution_count": 10,
   "id": "d223051c",
   "metadata": {
    "scrolled": false
   },
   "outputs": [
    {
     "data": {
      "image/png": "[encoded data removed]",
      "text/plain": [
       "<Figure size 1440x1440 with 5 Axes>"
      ]
     },
     "metadata": {
      "needs_background": "light"
     },
     "output_type": "display_data"
    }
   ],
   "source": [
    "fig, ax = plt.subplots(len(df_numericas.columns), 1, figsize=(20,20))\n",
    "\n",
    "for i in range(len(df_numericas.columns)):\n",
    "    sns.boxplot(x=df_numericas.columns[i], data=df_numericas, ax=ax[i])\n",
    "plt.show()"
   ]
  },
  {
   "cell_type": "code",
   "execution_count": 11,
   "id": "73b6d77c",
   "metadata": {},
   "outputs": [],
   "source": [
    "# bedrooms -> eliminar outlier de 33\n",
    "# grade -> eliminar grade 3\n",
    "# sqft_living -> eliminar por encima de 2.5Q\n",
    "# sqft_lot -> eliminar por encima de 3.5Q\n",
    "# sqft_basement -> eliminar por encima de 2.5Q\n",
    "# price -> eliminar por encima de 1.5Q\n"
   ]
  },
  {
   "cell_type": "code",
   "execution_count": 12,
   "id": "166a735f",
   "metadata": {},
   "outputs": [],
   "source": [
    "def detectar_outliers(lista_columnas, dataframe, dict_criteria): \n",
    "    \n",
    "    dicc_indices = {} # creamos un diccionario donde almacenaremos índices de los outliers\n",
    "    \n",
    "    # iteramos por la lista de las columnas numéricas de nuestro dataframe\n",
    "    for col in lista_columnas:\n",
    "        \n",
    "        #calculamos los cuartiles Q1 y Q3\n",
    "        Q1 = np.nanpercentile(df[col], 25)\n",
    "        Q3 = np.nanpercentile(df[col], 75)\n",
    "        \n",
    "        # calculamos el rango intercuartil\n",
    "        IQR = Q3 - Q1\n",
    "        \n",
    "        # calculamos los límites\n",
    "        outlier_step = dict_criteria[col] * IQR\n",
    "        \n",
    "        # filtramos nuestro dataframe para indentificar los outliers\n",
    "        outliers_data = dataframe[(dataframe[col] < Q1 - outlier_step) | (dataframe[col] > Q3 + outlier_step)]\n",
    "        \n",
    "        \n",
    "        if outliers_data.shape[0] > 0: # chequeamos si nuestro dataframe tiene alguna fila. \n",
    "        \n",
    "            dicc_indices[col] = (list(outliers_data.index)) # si tiene fila es que hay outliers y por lo tanto lo añadimos a nuestro diccionario\n",
    "        \n",
    "\n",
    "    \n",
    "    return dicc_indices "
   ]
  },
  {
   "cell_type": "code",
   "execution_count": 13,
   "id": "908342ab",
   "metadata": {},
   "outputs": [],
   "source": [
    "\n",
    "dict_criteria = {'bedrooms':1.5,\n",
    "                'sqft_living':2.5,\n",
    "                 'sqft_lot':3.5,\n",
    "                 'sqft_basement':2.5,\n",
    "                 'price':1.5,}"
   ]
  },
  {
   "cell_type": "code",
   "execution_count": 14,
   "id": "b0c1b44a",
   "metadata": {},
   "outputs": [],
   "source": [
    "ind = detectar_outliers(lista_columnas, df,dict_criteria)"
   ]
  },
  {
   "cell_type": "code",
   "execution_count": 15,
   "id": "67a6f9b0",
   "metadata": {},
   "outputs": [],
   "source": [
    "valores = list(ind.values())\n",
    "valores = [indice for sublista in valores for indice in sublista]\n",
    "valores = set(valores)"
   ]
  },
  {
   "cell_type": "code",
   "execution_count": 16,
   "id": "29040e1c",
   "metadata": {},
   "outputs": [],
   "source": [
    "df_clean = df.copy()"
   ]
  },
  {
   "cell_type": "code",
   "execution_count": 17,
   "id": "8f1b6e67",
   "metadata": {},
   "outputs": [],
   "source": [
    "df_final = df_clean.drop(df_clean.index[list(valores)] )"
   ]
  },
  {
   "cell_type": "code",
   "execution_count": 18,
   "id": "d454f392",
   "metadata": {},
   "outputs": [],
   "source": [
    "\n",
    "def printing(df,lista_columnas):\n",
    "    df_numericas = df[lista_columnas]\n",
    "    df_numericas.head(2)\n",
    "    \n",
    "    fig, ax = plt.subplots(len(df_numericas.columns), 1, figsize=(20,20))\n",
    "\n",
    "    for i in range(len(df_numericas.columns)):\n",
    "        sns.boxplot(x=df_numericas.columns[i], data=df_numericas, ax=ax[i])\n",
    "    plt.show()"
   ]
  },
  {
   "cell_type": "code",
   "execution_count": 19,
   "id": "0b790be6",
   "metadata": {},
   "outputs": [
    {
     "data": {
      "image/png": "[encoded data removed]",
      "text/plain": [
       "<Figure size 1440x1440 with 5 Axes>"
      ]
     },
     "metadata": {
      "needs_background": "light"
     },
     "output_type": "display_data"
    }
   ],
   "source": [
    "printing(df_final,lista_columnas)"
   ]
  },
  {
   "cell_type": "code",
   "execution_count": 20,
   "id": "dd3754a5",
   "metadata": {},
   "outputs": [
    {
     "name": "stdout",
     "output_type": "stream",
     "text": [
      "21597 18477\n"
     ]
    }
   ],
   "source": [
    "\n",
    "print(df.shape[0],df_final.shape[0])"
   ]
  },
  {
   "cell_type": "code",
   "execution_count": 21,
   "id": "b056ad92",
   "metadata": {},
   "outputs": [],
   "source": [
    "df_final.drop(columns=['id','date'],inplace=True)"
   ]
  },
  {
   "cell_type": "code",
   "execution_count": 22,
   "id": "4251151b",
   "metadata": {},
   "outputs": [
    {
     "data": {
      "text/html": [
       "<div>\n",
       "<style scoped>\n",
       "    .dataframe tbody tr th:only-of-type {\n",
       "        vertical-align: middle;\n",
       "    }\n",
       "\n",
       "    .dataframe tbody tr th {\n",
       "        vertical-align: top;\n",
       "    }\n",
       "\n",
       "    .dataframe thead th {\n",
       "        text-align: right;\n",
       "    }\n",
       "</style>\n",
       "<table border=\"1\" class=\"dataframe\">\n",
       "  <thead>\n",
       "    <tr style=\"text-align: right;\">\n",
       "      <th></th>\n",
       "      <th>bedrooms</th>\n",
       "      <th>bathrooms</th>\n",
       "      <th>sqft_living</th>\n",
       "      <th>sqft_lot</th>\n",
       "      <th>floors</th>\n",
       "      <th>waterfront</th>\n",
       "      <th>view</th>\n",
       "      <th>condition</th>\n",
       "      <th>grade</th>\n",
       "      <th>sqft_above</th>\n",
       "      <th>sqft_basement</th>\n",
       "      <th>yr_built</th>\n",
       "      <th>yr_renovated</th>\n",
       "      <th>zipcode</th>\n",
       "      <th>lat</th>\n",
       "      <th>long</th>\n",
       "      <th>sqft_living15</th>\n",
       "      <th>sqft_lot15</th>\n",
       "      <th>price</th>\n",
       "      <th>renovated</th>\n",
       "    </tr>\n",
       "  </thead>\n",
       "  <tbody>\n",
       "    <tr>\n",
       "      <th>0</th>\n",
       "      <td>3</td>\n",
       "      <td>1.00</td>\n",
       "      <td>1180</td>\n",
       "      <td>5650</td>\n",
       "      <td>1.0</td>\n",
       "      <td>0</td>\n",
       "      <td>0</td>\n",
       "      <td>3</td>\n",
       "      <td>7</td>\n",
       "      <td>1180</td>\n",
       "      <td>0</td>\n",
       "      <td>1955</td>\n",
       "      <td>0</td>\n",
       "      <td>98178</td>\n",
       "      <td>47.5112</td>\n",
       "      <td>-122.257</td>\n",
       "      <td>1340</td>\n",
       "      <td>5650</td>\n",
       "      <td>221900</td>\n",
       "      <td>0</td>\n",
       "    </tr>\n",
       "    <tr>\n",
       "      <th>1</th>\n",
       "      <td>3</td>\n",
       "      <td>2.25</td>\n",
       "      <td>2570</td>\n",
       "      <td>7242</td>\n",
       "      <td>2.0</td>\n",
       "      <td>0</td>\n",
       "      <td>0</td>\n",
       "      <td>3</td>\n",
       "      <td>7</td>\n",
       "      <td>2170</td>\n",
       "      <td>400</td>\n",
       "      <td>1951</td>\n",
       "      <td>1991</td>\n",
       "      <td>98125</td>\n",
       "      <td>47.7210</td>\n",
       "      <td>-122.319</td>\n",
       "      <td>1690</td>\n",
       "      <td>7639</td>\n",
       "      <td>538000</td>\n",
       "      <td>1</td>\n",
       "    </tr>\n",
       "  </tbody>\n",
       "</table>\n",
       "</div>"
      ],
      "text/plain": [
       "   bedrooms  bathrooms  sqft_living  sqft_lot  floors  waterfront  view  \\\n",
       "0         3       1.00         1180      5650     1.0           0     0   \n",
       "1         3       2.25         2570      7242     2.0           0     0   \n",
       "\n",
       "   condition  grade  sqft_above  sqft_basement  yr_built  yr_renovated  \\\n",
       "0          3      7        1180              0      1955             0   \n",
       "1          3      7        2170            400      1951          1991   \n",
       "\n",
       "   zipcode      lat     long  sqft_living15  sqft_lot15   price  renovated  \n",
       "0    98178  47.5112 -122.257           1340        5650  221900          0  \n",
       "1    98125  47.7210 -122.319           1690        7639  538000          1  "
      ]
     },
     "execution_count": 22,
     "metadata": {},
     "output_type": "execute_result"
    }
   ],
   "source": [
    "df_final.head(2)"
   ]
  },
  {
   "cell_type": "markdown",
   "id": "1e7cc4bb",
   "metadata": {},
   "source": [
    "## Normalizacion y estandarizcion"
   ]
  },
  {
   "cell_type": "code",
   "execution_count": 23,
   "id": "3b20d566",
   "metadata": {},
   "outputs": [],
   "source": [
    "norm_column = ['price']"
   ]
  },
  {
   "cell_type": "code",
   "execution_count": 24,
   "id": "1f12dda5",
   "metadata": {},
   "outputs": [
    {
     "data": {
      "image/png": "[encoded data removed]",
      "text/plain": [
       "<Figure size 1440x360 with 2 Axes>"
      ]
     },
     "metadata": {
      "needs_background": "light"
     },
     "output_type": "display_data"
    }
   ],
   "source": [
    "fig, ax = plt.subplots(1,2, figsize = (20,5))\n",
    "\n",
    "for i in range(len(norm_column)):\n",
    "    sns.histplot(df_final[norm_column[i]], kde = True, ax = ax[i])\n",
    "plt.show()"
   ]
  },
  {
   "cell_type": "markdown",
   "id": "50d4ebef",
   "metadata": {},
   "source": [
    "#### Usando sklearn"
   ]
  },
  {
   "cell_type": "code",
   "execution_count": 25,
   "id": "5c2af7cf",
   "metadata": {},
   "outputs": [
    {
     "data": {
      "text/plain": [
       "MinMaxScaler()"
      ]
     },
     "execution_count": 25,
     "metadata": {},
     "output_type": "execute_result"
    }
   ],
   "source": [
    "df = df_final.copy()\n",
    "\n",
    "# construir el modelo de escalador\n",
    "minmax = MinMaxScaler()\n",
    "\n",
    "# ajustamos el modelo utilizando nuestro set de datos\n",
    "minmax.fit(df[norm_column])\n"
   ]
  },
  {
   "cell_type": "code",
   "execution_count": 26,
   "id": "c3a8ef6e",
   "metadata": {},
   "outputs": [],
   "source": [
    "# transformamos los datos\n",
    "X_normalizadas = minmax.transform(df[norm_column])"
   ]
  },
  {
   "cell_type": "code",
   "execution_count": 27,
   "id": "60533113",
   "metadata": {},
   "outputs": [],
   "source": [
    "# lo unimos a nuestro dataframe original\n",
    "df[\"price_NORM_sklearn\"] = X_normalizadas"
   ]
  },
  {
   "cell_type": "code",
   "execution_count": 28,
   "id": "3b7ade8f",
   "metadata": {},
   "outputs": [
    {
     "name": "stderr",
     "output_type": "stream",
     "text": [
      "/Users/eduardoarroyo/opt/anaconda3/lib/python3.9/site-packages/seaborn/distributions.py:2619: FutureWarning: `distplot` is a deprecated function and will be removed in a future version. Please adapt your code to use either `displot` (a figure-level function with similar flexibility) or `histplot` (an axes-level function for histograms).\n",
      "  warnings.warn(msg, FutureWarning)\n",
      "/Users/eduardoarroyo/opt/anaconda3/lib/python3.9/site-packages/seaborn/distributions.py:2619: FutureWarning: `distplot` is a deprecated function and will be removed in a future version. Please adapt your code to use either `displot` (a figure-level function with similar flexibility) or `histplot` (an axes-level function for histograms).\n",
      "  warnings.warn(msg, FutureWarning)\n"
     ]
    },
    {
     "data": {
      "image/png": "[encoded data removed]",
      "text/plain": [
       "<Figure size 1080x360 with 2 Axes>"
      ]
     },
     "metadata": {
      "needs_background": "light"
     },
     "output_type": "display_data"
    }
   ],
   "source": [
    "\n",
    "\n",
    "fig, axes = plt.subplots(1, 2, figsize = (15,5))\n",
    "\n",
    "axes[0].set_title('price original')\n",
    "axes[1].set_title('price normalizado con sklearn')\n",
    "\n",
    "sns.distplot(df['price'] ,ax = axes[0])\n",
    "sns.distplot(df['price_NORM_sklearn'], ax = axes[1]);"
   ]
  },
  {
   "cell_type": "markdown",
   "id": "76d29402",
   "metadata": {},
   "source": [
    "No vale para nada hacerlo con sklearn. Empezamos a aplicar logaritmica y cuadratica"
   ]
  },
  {
   "cell_type": "markdown",
   "id": "83e1f7fe",
   "metadata": {},
   "source": [
    "#### Logaritmica"
   ]
  },
  {
   "cell_type": "code",
   "execution_count": 29,
   "id": "4fe34f38",
   "metadata": {},
   "outputs": [],
   "source": [
    "df['price_LOG'] = df['price'].apply(lambda x: np.log(x) if x != 0 else 0)"
   ]
  },
  {
   "cell_type": "code",
   "execution_count": 30,
   "id": "45479128",
   "metadata": {},
   "outputs": [
    {
     "name": "stderr",
     "output_type": "stream",
     "text": [
      "/Users/eduardoarroyo/opt/anaconda3/lib/python3.9/site-packages/seaborn/distributions.py:2619: FutureWarning: `distplot` is a deprecated function and will be removed in a future version. Please adapt your code to use either `displot` (a figure-level function with similar flexibility) or `histplot` (an axes-level function for histograms).\n",
      "  warnings.warn(msg, FutureWarning)\n",
      "/Users/eduardoarroyo/opt/anaconda3/lib/python3.9/site-packages/seaborn/distributions.py:2619: FutureWarning: `distplot` is a deprecated function and will be removed in a future version. Please adapt your code to use either `displot` (a figure-level function with similar flexibility) or `histplot` (an axes-level function for histograms).\n",
      "  warnings.warn(msg, FutureWarning)\n"
     ]
    },
    {
     "data": {
      "image/png": "[encoded data removed]",
      "text/plain": [
       "<Figure size 1080x360 with 2 Axes>"
      ]
     },
     "metadata": {
      "needs_background": "light"
     },
     "output_type": "display_data"
    }
   ],
   "source": [
    "fig, axes = plt.subplots(1, 2, figsize = (15,5))\n",
    "\n",
    "axes[0].set_title('price original')\n",
    "axes[1].set_title('price normalizado con escala logaritmica')\n",
    "\n",
    "sns.distplot(df['price'] ,ax = axes[0])\n",
    "sns.distplot(df['price_LOG'], ax = axes[1]);"
   ]
  },
  {
   "cell_type": "markdown",
   "id": "7b45da90",
   "metadata": {},
   "source": [
    "#### Raiz cuadrada"
   ]
  },
  {
   "cell_type": "code",
   "execution_count": 31,
   "id": "4e07e933",
   "metadata": {},
   "outputs": [],
   "source": [
    " df['price_SQRT'] = df['price'].apply(lambda x: math.sqrt(x))"
   ]
  },
  {
   "cell_type": "code",
   "execution_count": 32,
   "id": "c99c109c",
   "metadata": {
    "scrolled": false
   },
   "outputs": [
    {
     "name": "stderr",
     "output_type": "stream",
     "text": [
      "/Users/eduardoarroyo/opt/anaconda3/lib/python3.9/site-packages/seaborn/distributions.py:2619: FutureWarning: `distplot` is a deprecated function and will be removed in a future version. Please adapt your code to use either `displot` (a figure-level function with similar flexibility) or `histplot` (an axes-level function for histograms).\n",
      "  warnings.warn(msg, FutureWarning)\n",
      "/Users/eduardoarroyo/opt/anaconda3/lib/python3.9/site-packages/seaborn/distributions.py:2619: FutureWarning: `distplot` is a deprecated function and will be removed in a future version. Please adapt your code to use either `displot` (a figure-level function with similar flexibility) or `histplot` (an axes-level function for histograms).\n",
      "  warnings.warn(msg, FutureWarning)\n"
     ]
    },
    {
     "data": {
      "image/png": "[encoded data removed]",
      "text/plain": [
       "<Figure size 1080x360 with 2 Axes>"
      ]
     },
     "metadata": {
      "needs_background": "light"
     },
     "output_type": "display_data"
    }
   ],
   "source": [
    "fig, axes = plt.subplots(1, 2, figsize = (15,5))\n",
    "\n",
    "axes[0].set_title('price original')\n",
    "axes[1].set_title('price normalizado con raiz cuadrada')\n",
    "\n",
    "sns.distplot(df['price'] ,ax = axes[0])\n",
    "sns.distplot(df['price_SQRT'], ax = axes[1]);"
   ]
  },
  {
   "cell_type": "markdown",
   "id": "b20c775a",
   "metadata": {},
   "source": [
    "#### Examen de Normalidad de cada metodo"
   ]
  },
  {
   "cell_type": "code",
   "execution_count": 33,
   "id": "80806ca8",
   "metadata": {},
   "outputs": [],
   "source": [
    "def normalidad_chicuadrado(data, method):\n",
    "    statistic,pvalue = chisquare(data)\n",
    "    print(method, ' by Chi Cuadrado ','---> statistics=%.3f, p=%.3f\\n' % (statistic, pvalue))\n",
    "    if pvalue > 0.05:\n",
    "        print('Probably Gaussian\\n')\n",
    "    else:\n",
    "        print('Probably not Gaussian\\n')\n",
    "        \n",
    "def normalidad_shapiro(data,method):\n",
    "    stat, p = shapiro(data)\n",
    "    print(method, ' by shapiro ','---> stat=%.3f, p=%.3f\\n' % (stat,p))\n",
    "    if p > 0.05:\n",
    "        print('Probably Gaussian\\n')\n",
    "    else:\n",
    "        print('Probably not Gaussian\\n')\n",
    "        \n",
    "def quantil_print(data,method):\n",
    "    stats.probplot(data,dist=\"norm\", plot=pylab)\n",
    "    print(method)\n",
    "    pylab.show()\n",
    "    "
   ]
  },
  {
   "cell_type": "code",
   "execution_count": 34,
   "id": "878a7cda",
   "metadata": {},
   "outputs": [
    {
     "name": "stdout",
     "output_type": "stream",
     "text": [
      "price_NORM_sklearn  by Chi Cuadrado  ---> statistics=1904.643, p=1.000\n",
      "\n",
      "Probably Gaussian\n",
      "\n",
      "price_NORM_sklearn  by shapiro  ---> stat=0.948, p=0.000\n",
      "\n",
      "Probably not Gaussian\n",
      "\n",
      "price_NORM_sklearn\n"
     ]
    },
    {
     "name": "stderr",
     "output_type": "stream",
     "text": [
      "/Users/eduardoarroyo/opt/anaconda3/lib/python3.9/site-packages/scipy/stats/morestats.py:1760: UserWarning: p-value may not be accurate for N > 5000.\n",
      "  warnings.warn(\"p-value may not be accurate for N > 5000.\")\n"
     ]
    },
    {
     "data": {
      "image/png": "[encoded data removed]",
      "text/plain": [
       "<Figure size 432x288 with 1 Axes>"
      ]
     },
     "metadata": {
      "needs_background": "light"
     },
     "output_type": "display_data"
    },
    {
     "name": "stdout",
     "output_type": "stream",
     "text": [
      "price_LOG  by Chi Cuadrado  ---> statistics=278.940, p=1.000\n",
      "\n",
      "Probably Gaussian\n",
      "\n",
      "price_LOG  by shapiro  ---> stat=0.993, p=0.000\n",
      "\n",
      "Probably not Gaussian\n",
      "\n"
     ]
    },
    {
     "name": "stderr",
     "output_type": "stream",
     "text": [
      "/Users/eduardoarroyo/opt/anaconda3/lib/python3.9/site-packages/scipy/stats/morestats.py:1760: UserWarning: p-value may not be accurate for N > 5000.\n",
      "  warnings.warn(\"p-value may not be accurate for N > 5000.\")\n"
     ]
    },
    {
     "name": "stdout",
     "output_type": "stream",
     "text": [
      "price_LOG\n"
     ]
    },
    {
     "data": {
      "image/png": "[encoded data removed]",
      "text/plain": [
       "<Figure size 432x288 with 1 Axes>"
      ]
     },
     "metadata": {
      "needs_background": "light"
     },
     "output_type": "display_data"
    },
    {
     "name": "stdout",
     "output_type": "stream",
     "text": [
      "price_SQRT  by Chi Cuadrado  ---> statistics=592236.894, p=0.000\n",
      "\n",
      "Probably not Gaussian\n",
      "\n",
      "price_SQRT  by shapiro  ---> stat=0.984, p=0.000\n",
      "\n",
      "Probably not Gaussian\n",
      "\n"
     ]
    },
    {
     "name": "stderr",
     "output_type": "stream",
     "text": [
      "/Users/eduardoarroyo/opt/anaconda3/lib/python3.9/site-packages/scipy/stats/morestats.py:1760: UserWarning: p-value may not be accurate for N > 5000.\n",
      "  warnings.warn(\"p-value may not be accurate for N > 5000.\")\n"
     ]
    },
    {
     "name": "stdout",
     "output_type": "stream",
     "text": [
      "price_SQRT\n"
     ]
    },
    {
     "data": {
      "image/png": "[encoded data removed]",
      "text/plain": [
       "<Figure size 432x288 with 1 Axes>"
      ]
     },
     "metadata": {
      "needs_background": "light"
     },
     "output_type": "display_data"
    }
   ],
   "source": [
    "column_tested = ['price_NORM_sklearn','price_LOG','price_SQRT']\n",
    "for i in column_tested:\n",
    "    data = df[i]\n",
    "    method = i\n",
    "    normalidad_chicuadrado(data,method)\n",
    "    normalidad_shapiro(data,method)\n",
    "    quantil_print(data,method)"
   ]
  },
  {
   "cell_type": "markdown",
   "id": "56f1b69a",
   "metadata": {},
   "source": [
    "Debido a el test de chi cuadrado y la representacion por quantilis parece que la normalizacion mejor es la logartimica."
   ]
  },
  {
   "cell_type": "code",
   "execution_count": 35,
   "id": "e2521b9f",
   "metadata": {},
   "outputs": [],
   "source": [
    "#dropeamos las columnas que no necesitamos\n",
    "df.drop(columns=['price_NORM_sklearn','price_SQRT'], inplace = True)"
   ]
  },
  {
   "cell_type": "markdown",
   "id": "64bbe164",
   "metadata": {},
   "source": [
    "#### Estandarizamos la variables predictoras"
   ]
  },
  {
   "cell_type": "code",
   "execution_count": 36,
   "id": "618a9275",
   "metadata": {},
   "outputs": [],
   "source": [
    "# iniciamos el método para escalar\n",
    "\n",
    "scaler = StandardScaler()"
   ]
  },
  {
   "cell_type": "code",
   "execution_count": 37,
   "id": "6d28af5a",
   "metadata": {},
   "outputs": [],
   "source": [
    "# ajustamos nuestros datos\n",
    "columns_standard = ['bedrooms','bathrooms','sqft_living','sqft_lot','floors'\n",
    "                    ,'waterfront','view','condition','grade','sqft_above'\n",
    "                    ,'sqft_basement','yr_built','yr_renovated','zipcode'\n",
    "                    ,'lat','long','sqft_living15','sqft_lot15']\n",
    "columns_standard_renamed = ['bedrooms_ES','bathrooms_ES','sqft_living_ES','sqft_lot_ES','floors_ES'\n",
    "                    ,'waterfront_ES','view_ES','condition_ES','grade_ES','sqft_above_ES'\n",
    "                    ,'sqft_basement_ES','yr_built_ES','yr_renovated_ES','zipcode_ES'\n",
    "                    ,'lat_ES','long_ES','sqft_living15_ES','sqft_lot15_ES']\n",
    "\n",
    "scaler.fit(df[columns_standard])\n",
    "\n",
    "X_escaladas = scaler.transform(df[columns_standard])\n",
    "\n",
    "df[columns_standard_renamed] = X_escaladas"
   ]
  },
  {
   "cell_type": "markdown",
   "id": "bc79c2e9",
   "metadata": {},
   "source": [
    "Tenemos todo ya estandarizado y normalizado!!"
   ]
  },
  {
   "cell_type": "code",
   "execution_count": 38,
   "id": "1474a635",
   "metadata": {},
   "outputs": [
    {
     "data": {
      "text/html": [
       "<div>\n",
       "<style scoped>\n",
       "    .dataframe tbody tr th:only-of-type {\n",
       "        vertical-align: middle;\n",
       "    }\n",
       "\n",
       "    .dataframe tbody tr th {\n",
       "        vertical-align: top;\n",
       "    }\n",
       "\n",
       "    .dataframe thead th {\n",
       "        text-align: right;\n",
       "    }\n",
       "</style>\n",
       "<table border=\"1\" class=\"dataframe\">\n",
       "  <thead>\n",
       "    <tr style=\"text-align: right;\">\n",
       "      <th></th>\n",
       "      <th>bedrooms</th>\n",
       "      <th>bathrooms</th>\n",
       "      <th>sqft_living</th>\n",
       "      <th>sqft_lot</th>\n",
       "      <th>floors</th>\n",
       "      <th>waterfront</th>\n",
       "      <th>view</th>\n",
       "      <th>condition</th>\n",
       "      <th>grade</th>\n",
       "      <th>sqft_above</th>\n",
       "      <th>...</th>\n",
       "      <th>grade_ES</th>\n",
       "      <th>sqft_above_ES</th>\n",
       "      <th>sqft_basement_ES</th>\n",
       "      <th>yr_built_ES</th>\n",
       "      <th>yr_renovated_ES</th>\n",
       "      <th>zipcode_ES</th>\n",
       "      <th>lat_ES</th>\n",
       "      <th>long_ES</th>\n",
       "      <th>sqft_living15_ES</th>\n",
       "      <th>sqft_lot15_ES</th>\n",
       "    </tr>\n",
       "  </thead>\n",
       "  <tbody>\n",
       "    <tr>\n",
       "      <th>0</th>\n",
       "      <td>3</td>\n",
       "      <td>1.00</td>\n",
       "      <td>1180</td>\n",
       "      <td>5650</td>\n",
       "      <td>1.0</td>\n",
       "      <td>0</td>\n",
       "      <td>0</td>\n",
       "      <td>3</td>\n",
       "      <td>7</td>\n",
       "      <td>1180</td>\n",
       "      <td>...</td>\n",
       "      <td>-0.499912</td>\n",
       "      <td>-0.704360</td>\n",
       "      <td>-0.662820</td>\n",
       "      <td>-0.528496</td>\n",
       "      <td>-0.191854</td>\n",
       "      <td>1.803506</td>\n",
       "      <td>-0.343071</td>\n",
       "      <td>-0.244778</td>\n",
       "      <td>-0.917040</td>\n",
       "      <td>-0.371623</td>\n",
       "    </tr>\n",
       "    <tr>\n",
       "      <th>1</th>\n",
       "      <td>3</td>\n",
       "      <td>2.25</td>\n",
       "      <td>2570</td>\n",
       "      <td>7242</td>\n",
       "      <td>2.0</td>\n",
       "      <td>0</td>\n",
       "      <td>0</td>\n",
       "      <td>3</td>\n",
       "      <td>7</td>\n",
       "      <td>2170</td>\n",
       "      <td>...</td>\n",
       "      <td>-0.499912</td>\n",
       "      <td>0.744884</td>\n",
       "      <td>0.357104</td>\n",
       "      <td>-0.663909</td>\n",
       "      <td>5.198426</td>\n",
       "      <td>0.822890</td>\n",
       "      <td>1.164605</td>\n",
       "      <td>-0.704024</td>\n",
       "      <td>-0.325887</td>\n",
       "      <td>-0.013902</td>\n",
       "    </tr>\n",
       "  </tbody>\n",
       "</table>\n",
       "<p>2 rows × 39 columns</p>\n",
       "</div>"
      ],
      "text/plain": [
       "   bedrooms  bathrooms  sqft_living  sqft_lot  floors  waterfront  view  \\\n",
       "0         3       1.00         1180      5650     1.0           0     0   \n",
       "1         3       2.25         2570      7242     2.0           0     0   \n",
       "\n",
       "   condition  grade  sqft_above  ...  grade_ES  sqft_above_ES  \\\n",
       "0          3      7        1180  ... -0.499912      -0.704360   \n",
       "1          3      7        2170  ... -0.499912       0.744884   \n",
       "\n",
       "   sqft_basement_ES  yr_built_ES  yr_renovated_ES  zipcode_ES    lat_ES  \\\n",
       "0         -0.662820    -0.528496        -0.191854    1.803506 -0.343071   \n",
       "1          0.357104    -0.663909         5.198426    0.822890  1.164605   \n",
       "\n",
       "    long_ES  sqft_living15_ES  sqft_lot15_ES  \n",
       "0 -0.244778         -0.917040      -0.371623  \n",
       "1 -0.704024         -0.325887      -0.013902  \n",
       "\n",
       "[2 rows x 39 columns]"
      ]
     },
     "execution_count": 38,
     "metadata": {},
     "output_type": "execute_result"
    }
   ],
   "source": [
    "df.head(2)"
   ]
  },
  {
   "cell_type": "markdown",
   "id": "1bf8e0ee",
   "metadata": {},
   "source": [
    "## A predecir!!"
   ]
  },
  {
   "cell_type": "code",
   "execution_count": 39,
   "id": "45d8c203",
   "metadata": {},
   "outputs": [],
   "source": [
    "df.drop(columns = columns_standard, inplace = True)"
   ]
  },
  {
   "cell_type": "code",
   "execution_count": 40,
   "id": "43b0b0ba",
   "metadata": {},
   "outputs": [
    {
     "data": {
      "text/html": [
       "<div>\n",
       "<style scoped>\n",
       "    .dataframe tbody tr th:only-of-type {\n",
       "        vertical-align: middle;\n",
       "    }\n",
       "\n",
       "    .dataframe tbody tr th {\n",
       "        vertical-align: top;\n",
       "    }\n",
       "\n",
       "    .dataframe thead th {\n",
       "        text-align: right;\n",
       "    }\n",
       "</style>\n",
       "<table border=\"1\" class=\"dataframe\">\n",
       "  <thead>\n",
       "    <tr style=\"text-align: right;\">\n",
       "      <th></th>\n",
       "      <th>price</th>\n",
       "      <th>renovated</th>\n",
       "      <th>price_LOG</th>\n",
       "      <th>bedrooms_ES</th>\n",
       "      <th>bathrooms_ES</th>\n",
       "      <th>sqft_living_ES</th>\n",
       "      <th>sqft_lot_ES</th>\n",
       "      <th>floors_ES</th>\n",
       "      <th>waterfront_ES</th>\n",
       "      <th>view_ES</th>\n",
       "      <th>...</th>\n",
       "      <th>grade_ES</th>\n",
       "      <th>sqft_above_ES</th>\n",
       "      <th>sqft_basement_ES</th>\n",
       "      <th>yr_built_ES</th>\n",
       "      <th>yr_renovated_ES</th>\n",
       "      <th>zipcode_ES</th>\n",
       "      <th>lat_ES</th>\n",
       "      <th>long_ES</th>\n",
       "      <th>sqft_living15_ES</th>\n",
       "      <th>sqft_lot15_ES</th>\n",
       "    </tr>\n",
       "  </thead>\n",
       "  <tbody>\n",
       "    <tr>\n",
       "      <th>0</th>\n",
       "      <td>221900</td>\n",
       "      <td>0</td>\n",
       "      <td>12.309982</td>\n",
       "      <td>-0.381166</td>\n",
       "      <td>-1.492556</td>\n",
       "      <td>-1.029753</td>\n",
       "      <td>-0.470912</td>\n",
       "      <td>-0.878646</td>\n",
       "      <td>-0.048857</td>\n",
       "      <td>-0.260872</td>\n",
       "      <td>...</td>\n",
       "      <td>-0.499912</td>\n",
       "      <td>-0.704360</td>\n",
       "      <td>-0.662820</td>\n",
       "      <td>-0.528496</td>\n",
       "      <td>-0.191854</td>\n",
       "      <td>1.803506</td>\n",
       "      <td>-0.343071</td>\n",
       "      <td>-0.244778</td>\n",
       "      <td>-0.917040</td>\n",
       "      <td>-0.371623</td>\n",
       "    </tr>\n",
       "    <tr>\n",
       "      <th>1</th>\n",
       "      <td>538000</td>\n",
       "      <td>1</td>\n",
       "      <td>13.195614</td>\n",
       "      <td>-0.381166</td>\n",
       "      <td>0.321879</td>\n",
       "      <td>0.901622</td>\n",
       "      <td>-0.119414</td>\n",
       "      <td>0.967890</td>\n",
       "      <td>-0.048857</td>\n",
       "      <td>-0.260872</td>\n",
       "      <td>...</td>\n",
       "      <td>-0.499912</td>\n",
       "      <td>0.744884</td>\n",
       "      <td>0.357104</td>\n",
       "      <td>-0.663909</td>\n",
       "      <td>5.198426</td>\n",
       "      <td>0.822890</td>\n",
       "      <td>1.164605</td>\n",
       "      <td>-0.704024</td>\n",
       "      <td>-0.325887</td>\n",
       "      <td>-0.013902</td>\n",
       "    </tr>\n",
       "  </tbody>\n",
       "</table>\n",
       "<p>2 rows × 21 columns</p>\n",
       "</div>"
      ],
      "text/plain": [
       "    price  renovated  price_LOG  bedrooms_ES  bathrooms_ES  sqft_living_ES  \\\n",
       "0  221900          0  12.309982    -0.381166     -1.492556       -1.029753   \n",
       "1  538000          1  13.195614    -0.381166      0.321879        0.901622   \n",
       "\n",
       "   sqft_lot_ES  floors_ES  waterfront_ES   view_ES  ...  grade_ES  \\\n",
       "0    -0.470912  -0.878646      -0.048857 -0.260872  ... -0.499912   \n",
       "1    -0.119414   0.967890      -0.048857 -0.260872  ... -0.499912   \n",
       "\n",
       "   sqft_above_ES  sqft_basement_ES  yr_built_ES  yr_renovated_ES  zipcode_ES  \\\n",
       "0      -0.704360         -0.662820    -0.528496        -0.191854    1.803506   \n",
       "1       0.744884          0.357104    -0.663909         5.198426    0.822890   \n",
       "\n",
       "     lat_ES   long_ES  sqft_living15_ES  sqft_lot15_ES  \n",
       "0 -0.343071 -0.244778         -0.917040      -0.371623  \n",
       "1  1.164605 -0.704024         -0.325887      -0.013902  \n",
       "\n",
       "[2 rows x 21 columns]"
      ]
     },
     "execution_count": 40,
     "metadata": {},
     "output_type": "execute_result"
    }
   ],
   "source": [
    "df.head(2)"
   ]
  },
  {
   "cell_type": "code",
   "execution_count": 41,
   "id": "69d765bc",
   "metadata": {},
   "outputs": [],
   "source": [
    "df_limpio = df.copy()"
   ]
  },
  {
   "cell_type": "code",
   "execution_count": 42,
   "id": "bd36053e",
   "metadata": {},
   "outputs": [],
   "source": [
    "# Reparto de datos en train y test\n",
    "# ==============================================================================\n",
    "# lo primero que hacemos es definir cual es nuestra variable Y y nuestras variables X\n",
    "X = df_limpio.drop(['price','price_LOG'], axis =1)\n",
    "y = df_limpio['price_LOG']\n",
    "\n",
    "\n",
    "X_train, X_test, y_train, y_test = train_test_split(X, y, train_size   = 0.8, random_state = 42)"
   ]
  },
  {
   "cell_type": "code",
   "execution_count": 43,
   "id": "bacc2cbf",
   "metadata": {},
   "outputs": [],
   "source": [
    "def metricas(y_test, y_train, y_test_pred, y_train_pred, tipo_modelo):\n",
    "    \n",
    "    \n",
    "    resultados = {'MAE': [metrics.mean_absolute_error(y_test, y_test_pred), metrics.mean_absolute_error(y_train, y_train_pred)],\n",
    "                'MSE': [metrics.mean_squared_error(y_test, y_test_pred), metrics.mean_squared_error(y_train, y_train_pred)],\n",
    "                'RMSE': [np.sqrt(metrics.mean_squared_error(y_test, y_test_pred)), np.sqrt(metrics.mean_squared_error(y_train, y_train_pred))],\n",
    "                'R2':  [metrics.r2_score(y_test, y_test_pred), metrics.r2_score(y_train, y_train_pred)],\n",
    "                 \"set\": [\"test\", \"train\"]}\n",
    "    df = pd.DataFrame(resultados)\n",
    "    df[\"modelo\"] = tipo_modelo\n",
    "    return df"
   ]
  },
  {
   "cell_type": "markdown",
   "id": "a167b297",
   "metadata": {},
   "source": [
    "#### Usamos la regresion lineal"
   ]
  },
  {
   "cell_type": "markdown",
   "id": "a820329e",
   "metadata": {},
   "source": [
    "entrenamos el modelo..."
   ]
  },
  {
   "cell_type": "code",
   "execution_count": 44,
   "id": "82a669f5",
   "metadata": {},
   "outputs": [
    {
     "data": {
      "text/plain": [
       "LinearRegression()"
      ]
     },
     "execution_count": 44,
     "metadata": {},
     "output_type": "execute_result"
    }
   ],
   "source": [
    "# iniciamos el método de Linear Regression\n",
    "lr = LinearRegression()\n",
    "\n",
    "# es el momento de ajustar el modelo. Para eso usaremos el método .fit() donde le tendremos que pasar las variables predictoras y la respuesta\n",
    "\n",
    "lr.fit(X_train, y_train)"
   ]
  },
  {
   "cell_type": "markdown",
   "id": "e50bfd41",
   "metadata": {},
   "source": [
    "y ahora predecimos!"
   ]
  },
  {
   "cell_type": "code",
   "execution_count": 45,
   "id": "75e85331",
   "metadata": {},
   "outputs": [],
   "source": [
    "# hacemos las predicciones sobre los dos set de datos el X_test y el X_train\n",
    "y_pred_test = lr.predict(X_test)\n",
    "y_pred_train = lr.predict(X_train)"
   ]
  },
  {
   "cell_type": "code",
   "execution_count": 46,
   "id": "9a211529",
   "metadata": {},
   "outputs": [
    {
     "data": {
      "text/html": [
       "<div>\n",
       "<style scoped>\n",
       "    .dataframe tbody tr th:only-of-type {\n",
       "        vertical-align: middle;\n",
       "    }\n",
       "\n",
       "    .dataframe tbody tr th {\n",
       "        vertical-align: top;\n",
       "    }\n",
       "\n",
       "    .dataframe thead th {\n",
       "        text-align: right;\n",
       "    }\n",
       "</style>\n",
       "<table border=\"1\" class=\"dataframe\">\n",
       "  <thead>\n",
       "    <tr style=\"text-align: right;\">\n",
       "      <th></th>\n",
       "      <th>MAE</th>\n",
       "      <th>MSE</th>\n",
       "      <th>RMSE</th>\n",
       "      <th>R2</th>\n",
       "      <th>set</th>\n",
       "      <th>modelo</th>\n",
       "    </tr>\n",
       "  </thead>\n",
       "  <tbody>\n",
       "    <tr>\n",
       "      <th>0</th>\n",
       "      <td>0.181303</td>\n",
       "      <td>0.054454</td>\n",
       "      <td>0.233355</td>\n",
       "      <td>0.722805</td>\n",
       "      <td>test</td>\n",
       "      <td>Regresion lineal</td>\n",
       "    </tr>\n",
       "    <tr>\n",
       "      <th>1</th>\n",
       "      <td>0.180144</td>\n",
       "      <td>0.054077</td>\n",
       "      <td>0.232545</td>\n",
       "      <td>0.723365</td>\n",
       "      <td>train</td>\n",
       "      <td>Regresion lineal</td>\n",
       "    </tr>\n",
       "  </tbody>\n",
       "</table>\n",
       "</div>"
      ],
      "text/plain": [
       "        MAE       MSE      RMSE        R2    set            modelo\n",
       "0  0.181303  0.054454  0.233355  0.722805   test  Regresion lineal\n",
       "1  0.180144  0.054077  0.232545  0.723365  train  Regresion lineal"
      ]
     },
     "execution_count": 46,
     "metadata": {},
     "output_type": "execute_result"
    }
   ],
   "source": [
    "lr_results = metricas(y_test, y_train, y_pred_test, y_pred_train, \"Regresion lineal\")\n",
    "lr_results"
   ]
  },
  {
   "cell_type": "markdown",
   "id": "47be3dd7",
   "metadata": {},
   "source": [
    "#### Usamos la Decission Tree"
   ]
  },
  {
   "cell_type": "markdown",
   "id": "72424efb",
   "metadata": {},
   "source": [
    "entrenamos el primer modelo sin limites!!"
   ]
  },
  {
   "cell_type": "code",
   "execution_count": 47,
   "id": "2346d589",
   "metadata": {},
   "outputs": [
    {
     "data": {
      "text/plain": [
       "DecisionTreeRegressor(random_state=0)"
      ]
     },
     "execution_count": 47,
     "metadata": {},
     "output_type": "execute_result"
    }
   ],
   "source": [
    "# create a regressor object\n",
    "regressor = DecisionTreeRegressor(random_state = 0) \n",
    "  \n",
    "# fit the regressor with X and Y data\n",
    "regressor.fit(X_train, y_train)"
   ]
  },
  {
   "cell_type": "code",
   "execution_count": 48,
   "id": "3e8b2e55",
   "metadata": {},
   "outputs": [
    {
     "data": {
      "text/plain": [
       "4.358898943540674"
      ]
     },
     "execution_count": 48,
     "metadata": {},
     "output_type": "execute_result"
    }
   ],
   "source": [
    "# max features\n",
    "\n",
    "max_features = np.sqrt(len(X_train.columns))\n",
    "max_features"
   ]
  },
  {
   "cell_type": "code",
   "execution_count": 49,
   "id": "027d6822",
   "metadata": {},
   "outputs": [
    {
     "name": "stdout",
     "output_type": "stream",
     "text": [
      "34\n"
     ]
    }
   ],
   "source": [
    "# max depth\n",
    "\n",
    "print(regressor.tree_.max_depth)"
   ]
  },
  {
   "cell_type": "code",
   "execution_count": 50,
   "id": "9ecede22",
   "metadata": {},
   "outputs": [],
   "source": [
    "# hacemos las predicciones sobre los dos set de datos el X_test y el X_train\n",
    "y_pred_test_dt = regressor.predict(X_test)\n",
    "y_pred_train_dt = regressor.predict(X_train)"
   ]
  },
  {
   "cell_type": "code",
   "execution_count": 51,
   "id": "1c5bf235",
   "metadata": {},
   "outputs": [
    {
     "data": {
      "text/html": [
       "<div>\n",
       "<style scoped>\n",
       "    .dataframe tbody tr th:only-of-type {\n",
       "        vertical-align: middle;\n",
       "    }\n",
       "\n",
       "    .dataframe tbody tr th {\n",
       "        vertical-align: top;\n",
       "    }\n",
       "\n",
       "    .dataframe thead th {\n",
       "        text-align: right;\n",
       "    }\n",
       "</style>\n",
       "<table border=\"1\" class=\"dataframe\">\n",
       "  <thead>\n",
       "    <tr style=\"text-align: right;\">\n",
       "      <th></th>\n",
       "      <th>MAE</th>\n",
       "      <th>MSE</th>\n",
       "      <th>RMSE</th>\n",
       "      <th>R2</th>\n",
       "      <th>set</th>\n",
       "      <th>modelo</th>\n",
       "    </tr>\n",
       "  </thead>\n",
       "  <tbody>\n",
       "    <tr>\n",
       "      <th>0</th>\n",
       "      <td>0.165695</td>\n",
       "      <td>0.053371</td>\n",
       "      <td>0.231021</td>\n",
       "      <td>0.728322</td>\n",
       "      <td>test</td>\n",
       "      <td>Decission Tree I</td>\n",
       "    </tr>\n",
       "    <tr>\n",
       "      <th>1</th>\n",
       "      <td>0.002254</td>\n",
       "      <td>0.000603</td>\n",
       "      <td>0.024556</td>\n",
       "      <td>0.996915</td>\n",
       "      <td>train</td>\n",
       "      <td>Decission Tree I</td>\n",
       "    </tr>\n",
       "  </tbody>\n",
       "</table>\n",
       "</div>"
      ],
      "text/plain": [
       "        MAE       MSE      RMSE        R2    set            modelo\n",
       "0  0.165695  0.053371  0.231021  0.728322   test  Decission Tree I\n",
       "1  0.002254  0.000603  0.024556  0.996915  train  Decission Tree I"
      ]
     },
     "execution_count": 51,
     "metadata": {},
     "output_type": "execute_result"
    }
   ],
   "source": [
    "# sacamos las métricas para ver si hay overfitting\n",
    "\n",
    "dt_results1 = metricas(y_test, y_train, y_pred_test_dt, y_pred_train_dt, \"Decission Tree I\")\n",
    "dt_results1"
   ]
  },
  {
   "cell_type": "markdown",
   "id": "c8a9c50d",
   "metadata": {},
   "source": [
    "el overfiting es evidente... Asi que nos toca ajustar con gridsearch"
   ]
  },
  {
   "cell_type": "code",
   "execution_count": 52,
   "id": "96cee005",
   "metadata": {},
   "outputs": [],
   "source": [
    "# Generación del GridSearch\n",
    "# ==============================================================================\n",
    "\n",
    "# definimos un diccionario con los hiperparámetros que queremos testear. \n",
    "param = {\"max_depth\": [4, 5, 6, 7],\n",
    "        \"min_samples_split\": [10, 50, 100],\n",
    "        \"max_features\": [1,2,3,4]}\n",
    "\n",
    "gs = GridSearchCV(\n",
    "            estimator=DecisionTreeRegressor(),\n",
    "            param_grid= param,\n",
    "            cv=10,\n",
    "            verbose=6,\n",
    "            return_train_score = True,\n",
    "            scoring=\"neg_mean_squared_error\")"
   ]
  },
  {
   "cell_type": "code",
   "execution_count": 53,
   "id": "c0604db3",
   "metadata": {},
   "outputs": [
    {
     "name": "stdout",
     "output_type": "stream",
     "text": [
      "CPU times: user 3 µs, sys: 0 ns, total: 3 µs\n",
      "Wall time: 9.06 µs\n",
      "Fitting 10 folds for each of 48 candidates, totalling 480 fits\n",
      "[CV 1/10] END max_depth=4, max_features=1, min_samples_split=10;, score=(train=-0.155, test=-0.156) total time=   0.0s\n",
      "[CV 2/10] END max_depth=4, max_features=1, min_samples_split=10;, score=(train=-0.118, test=-0.121) total time=   0.0s\n",
      "[CV 3/10] END max_depth=4, max_features=1, min_samples_split=10;, score=(train=-0.155, test=-0.159) total time=   0.0s\n",
      "[CV 4/10] END max_depth=4, max_features=1, min_samples_split=10;, score=(train=-0.129, test=-0.133) total time=   0.0s\n",
      "[CV 5/10] END max_depth=4, max_features=1, min_samples_split=10;, score=(train=-0.143, test=-0.140) total time=   0.0s\n",
      "[CV 6/10] END max_depth=4, max_features=1, min_samples_split=10;, score=(train=-0.118, test=-0.122) total time=   0.0s\n",
      "[CV 7/10] END max_depth=4, max_features=1, min_samples_split=10;, score=(train=-0.128, test=-0.124) total time=   0.0s\n",
      "[CV 8/10] END max_depth=4, max_features=1, min_samples_split=10;, score=(train=-0.143, test=-0.143) total time=   0.0s\n",
      "[CV 9/10] END max_depth=4, max_features=1, min_samples_split=10;, score=(train=-0.121, test=-0.127) total time=   0.0s\n",
      "[CV 10/10] END max_depth=4, max_features=1, min_samples_split=10;, score=(train=-0.138, test=-0.139) total time=   0.0s\n",
      "[CV 1/10] END max_depth=4, max_features=1, min_samples_split=50;, score=(train=-0.119, test=-0.115) total time=   0.0s\n",
      "[CV 2/10] END max_depth=4, max_features=1, min_samples_split=50;, score=(train=-0.091, test=-0.088) total time=   0.0s\n",
      "[CV 3/10] END max_depth=4, max_features=1, min_samples_split=50;, score=(train=-0.157, test=-0.167) total time=   0.0s\n",
      "[CV 4/10] END max_depth=4, max_features=1, min_samples_split=50;, score=(train=-0.148, test=-0.151) total time=   0.0s\n",
      "[CV 5/10] END max_depth=4, max_features=1, min_samples_split=50;, score=(train=-0.158, test=-0.151) total time=   0.0s\n",
      "[CV 6/10] END max_depth=4, max_features=1, min_samples_split=50;, score=(train=-0.126, test=-0.131) total time=   0.0s\n",
      "[CV 7/10] END max_depth=4, max_features=1, min_samples_split=50;, score=(train=-0.082, test=-0.080) total time=   0.0s\n",
      "[CV 8/10] END max_depth=4, max_features=1, min_samples_split=50;, score=(train=-0.100, test=-0.102) total time=   0.0s\n",
      "[CV 9/10] END max_depth=4, max_features=1, min_samples_split=50;, score=(train=-0.135, test=-0.138) total time=   0.0s\n",
      "[CV 10/10] END max_depth=4, max_features=1, min_samples_split=50;, score=(train=-0.153, test=-0.148) total time=   0.0s\n",
      "[CV 1/10] END max_depth=4, max_features=1, min_samples_split=100;, score=(train=-0.117, test=-0.114) total time=   0.0s\n",
      "[CV 2/10] END max_depth=4, max_features=1, min_samples_split=100;, score=(train=-0.141, test=-0.145) total time=   0.0s\n",
      "[CV 3/10] END max_depth=4, max_features=1, min_samples_split=100;, score=(train=-0.133, test=-0.140) total time=   0.0s\n",
      "[CV 4/10] END max_depth=4, max_features=1, min_samples_split=100;, score=(train=-0.147, test=-0.153) total time=   0.0s\n",
      "[CV 5/10] END max_depth=4, max_features=1, min_samples_split=100;, score=(train=-0.124, test=-0.122) total time=   0.0s\n",
      "[CV 6/10] END max_depth=4, max_features=1, min_samples_split=100;, score=(train=-0.122, test=-0.122) total time=   0.0s\n",
      "[CV 7/10] END max_depth=4, max_features=1, min_samples_split=100;, score=(train=-0.087, test=-0.082) total time=   0.0s\n",
      "[CV 8/10] END max_depth=4, max_features=1, min_samples_split=100;, score=(train=-0.078, test=-0.086) total time=   0.0s\n",
      "[CV 9/10] END max_depth=4, max_features=1, min_samples_split=100;, score=(train=-0.133, test=-0.135) total time=   0.0s\n",
      "[CV 10/10] END max_depth=4, max_features=1, min_samples_split=100;, score=(train=-0.140, test=-0.144) total time=   0.0s\n",
      "[CV 1/10] END max_depth=4, max_features=2, min_samples_split=10;, score=(train=-0.102, test=-0.102) total time=   0.0s\n",
      "[CV 2/10] END max_depth=4, max_features=2, min_samples_split=10;, score=(train=-0.073, test=-0.074) total time=   0.0s\n",
      "[CV 3/10] END max_depth=4, max_features=2, min_samples_split=10;, score=(train=-0.115, test=-0.116) total time=   0.0s\n",
      "[CV 4/10] END max_depth=4, max_features=2, min_samples_split=10;, score=(train=-0.133, test=-0.143) total time=   0.0s\n",
      "[CV 5/10] END max_depth=4, max_features=2, min_samples_split=10;, score=(train=-0.113, test=-0.109) total time=   0.0s\n",
      "[CV 6/10] END max_depth=4, max_features=2, min_samples_split=10;, score=(train=-0.079, test=-0.080) total time=   0.0s\n",
      "[CV 7/10] END max_depth=4, max_features=2, min_samples_split=10;, score=(train=-0.098, test=-0.098) total time=   0.0s\n",
      "[CV 8/10] END max_depth=4, max_features=2, min_samples_split=10;, score=(train=-0.106, test=-0.108) total time=   0.0s\n",
      "[CV 9/10] END max_depth=4, max_features=2, min_samples_split=10;, score=(train=-0.126, test=-0.130) total time=   0.0s\n",
      "[CV 10/10] END max_depth=4, max_features=2, min_samples_split=10;, score=(train=-0.114, test=-0.114) total time=   0.0s\n",
      "[CV 1/10] END max_depth=4, max_features=2, min_samples_split=50;, score=(train=-0.103, test=-0.106) total time=   0.0s\n",
      "[CV 2/10] END max_depth=4, max_features=2, min_samples_split=50;, score=(train=-0.087, test=-0.091) total time=   0.0s\n",
      "[CV 3/10] END max_depth=4, max_features=2, min_samples_split=50;, score=(train=-0.087, test=-0.090) total time=   0.0s\n",
      "[CV 4/10] END max_depth=4, max_features=2, min_samples_split=50;, score=(train=-0.115, test=-0.117) total time=   0.0s\n",
      "[CV 5/10] END max_depth=4, max_features=2, min_samples_split=50;, score=(train=-0.102, test=-0.098) total time=   0.0s\n",
      "[CV 6/10] END max_depth=4, max_features=2, min_samples_split=50;, score=(train=-0.102, test=-0.102) total time=   0.0s\n",
      "[CV 7/10] END max_depth=4, max_features=2, min_samples_split=50;, score=(train=-0.133, test=-0.133) total time=   0.0s\n",
      "[CV 8/10] END max_depth=4, max_features=2, min_samples_split=50;, score=(train=-0.122, test=-0.129) total time=   0.0s\n",
      "[CV 9/10] END max_depth=4, max_features=2, min_samples_split=50;, score=(train=-0.080, test=-0.087) total time=   0.0s\n",
      "[CV 10/10] END max_depth=4, max_features=2, min_samples_split=50;, score=(train=-0.071, test=-0.070) total time=   0.0s\n",
      "[CV 1/10] END max_depth=4, max_features=2, min_samples_split=100;, score=(train=-0.118, test=-0.118) total time=   0.0s\n",
      "[CV 2/10] END max_depth=4, max_features=2, min_samples_split=100;, score=(train=-0.111, test=-0.112) total time=   0.0s\n",
      "[CV 3/10] END max_depth=4, max_features=2, min_samples_split=100;, score=(train=-0.110, test=-0.111) total time=   0.0s\n",
      "[CV 4/10] END max_depth=4, max_features=2, min_samples_split=100;, score=(train=-0.093, test=-0.097) total time=   0.0s\n",
      "[CV 5/10] END max_depth=4, max_features=2, min_samples_split=100;, score=(train=-0.078, test=-0.074) total time=   0.0s\n",
      "[CV 6/10] END max_depth=4, max_features=2, min_samples_split=100;, score=(train=-0.118, test=-0.119) total time=   0.0s\n",
      "[CV 7/10] END max_depth=4, max_features=2, min_samples_split=100;, score=(train=-0.082, test=-0.081) total time=   0.0s\n",
      "[CV 8/10] END max_depth=4, max_features=2, min_samples_split=100;, score=(train=-0.068, test=-0.073) total time=   0.0s\n",
      "[CV 9/10] END max_depth=4, max_features=2, min_samples_split=100;, score=(train=-0.100, test=-0.104) total time=   0.0s\n",
      "[CV 10/10] END max_depth=4, max_features=2, min_samples_split=100;, score=(train=-0.113, test=-0.117) total time=   0.0s\n",
      "[CV 1/10] END max_depth=4, max_features=3, min_samples_split=10;, score=(train=-0.100, test=-0.101) total time=   0.0s\n",
      "[CV 2/10] END max_depth=4, max_features=3, min_samples_split=10;, score=(train=-0.104, test=-0.103) total time=   0.0s\n",
      "[CV 3/10] END max_depth=4, max_features=3, min_samples_split=10;, score=(train=-0.086, test=-0.094) total time=   0.0s\n",
      "[CV 4/10] END max_depth=4, max_features=3, min_samples_split=10;, score=(train=-0.085, test=-0.088) total time=   0.0s\n",
      "[CV 5/10] END max_depth=4, max_features=3, min_samples_split=10;, score=(train=-0.114, test=-0.116) total time=   0.0s\n",
      "[CV 6/10] END max_depth=4, max_features=3, min_samples_split=10;, score=(train=-0.090, test=-0.092) total time=   0.0s\n",
      "[CV 7/10] END max_depth=4, max_features=3, min_samples_split=10;, score=(train=-0.092, test=-0.091) total time=   0.0s\n",
      "[CV 8/10] END max_depth=4, max_features=3, min_samples_split=10;, score=(train=-0.103, test=-0.106) total time=   0.0s\n"
     ]
    },
    {
     "name": "stdout",
     "output_type": "stream",
     "text": [
      "[CV 9/10] END max_depth=4, max_features=3, min_samples_split=10;, score=(train=-0.074, test=-0.082) total time=   0.0s\n",
      "[CV 10/10] END max_depth=4, max_features=3, min_samples_split=10;, score=(train=-0.122, test=-0.124) total time=   0.0s\n",
      "[CV 1/10] END max_depth=4, max_features=3, min_samples_split=50;, score=(train=-0.083, test=-0.086) total time=   0.0s\n",
      "[CV 2/10] END max_depth=4, max_features=3, min_samples_split=50;, score=(train=-0.093, test=-0.091) total time=   0.0s\n",
      "[CV 3/10] END max_depth=4, max_features=3, min_samples_split=50;, score=(train=-0.064, test=-0.068) total time=   0.0s\n",
      "[CV 4/10] END max_depth=4, max_features=3, min_samples_split=50;, score=(train=-0.075, test=-0.081) total time=   0.0s\n",
      "[CV 5/10] END max_depth=4, max_features=3, min_samples_split=50;, score=(train=-0.087, test=-0.083) total time=   0.0s\n",
      "[CV 6/10] END max_depth=4, max_features=3, min_samples_split=50;, score=(train=-0.099, test=-0.104) total time=   0.0s\n",
      "[CV 7/10] END max_depth=4, max_features=3, min_samples_split=50;, score=(train=-0.073, test=-0.070) total time=   0.0s\n",
      "[CV 8/10] END max_depth=4, max_features=3, min_samples_split=50;, score=(train=-0.130, test=-0.136) total time=   0.0s\n",
      "[CV 9/10] END max_depth=4, max_features=3, min_samples_split=50;, score=(train=-0.085, test=-0.091) total time=   0.0s\n",
      "[CV 10/10] END max_depth=4, max_features=3, min_samples_split=50;, score=(train=-0.122, test=-0.120) total time=   0.0s\n",
      "[CV 1/10] END max_depth=4, max_features=3, min_samples_split=100;, score=(train=-0.076, test=-0.076) total time=   0.0s\n",
      "[CV 2/10] END max_depth=4, max_features=3, min_samples_split=100;, score=(train=-0.093, test=-0.087) total time=   0.0s\n",
      "[CV 3/10] END max_depth=4, max_features=3, min_samples_split=100;, score=(train=-0.083, test=-0.088) total time=   0.0s\n",
      "[CV 4/10] END max_depth=4, max_features=3, min_samples_split=100;, score=(train=-0.112, test=-0.121) total time=   0.0s\n",
      "[CV 5/10] END max_depth=4, max_features=3, min_samples_split=100;, score=(train=-0.071, test=-0.068) total time=   0.0s\n",
      "[CV 6/10] END max_depth=4, max_features=3, min_samples_split=100;, score=(train=-0.081, test=-0.083) total time=   0.0s\n",
      "[CV 7/10] END max_depth=4, max_features=3, min_samples_split=100;, score=(train=-0.109, test=-0.118) total time=   0.0s\n",
      "[CV 8/10] END max_depth=4, max_features=3, min_samples_split=100;, score=(train=-0.085, test=-0.088) total time=   0.0s\n",
      "[CV 9/10] END max_depth=4, max_features=3, min_samples_split=100;, score=(train=-0.125, test=-0.125) total time=   0.0s\n",
      "[CV 10/10] END max_depth=4, max_features=3, min_samples_split=100;, score=(train=-0.108, test=-0.110) total time=   0.0s\n",
      "[CV 1/10] END max_depth=4, max_features=4, min_samples_split=10;, score=(train=-0.104, test=-0.106) total time=   0.0s\n",
      "[CV 2/10] END max_depth=4, max_features=4, min_samples_split=10;, score=(train=-0.099, test=-0.096) total time=   0.0s\n",
      "[CV 3/10] END max_depth=4, max_features=4, min_samples_split=10;, score=(train=-0.097, test=-0.104) total time=   0.0s\n",
      "[CV 4/10] END max_depth=4, max_features=4, min_samples_split=10;, score=(train=-0.071, test=-0.072) total time=   0.0s\n",
      "[CV 5/10] END max_depth=4, max_features=4, min_samples_split=10;, score=(train=-0.091, test=-0.087) total time=   0.0s\n",
      "[CV 6/10] END max_depth=4, max_features=4, min_samples_split=10;, score=(train=-0.109, test=-0.106) total time=   0.0s\n",
      "[CV 7/10] END max_depth=4, max_features=4, min_samples_split=10;, score=(train=-0.112, test=-0.115) total time=   0.0s\n",
      "[CV 8/10] END max_depth=4, max_features=4, min_samples_split=10;, score=(train=-0.073, test=-0.080) total time=   0.0s\n",
      "[CV 9/10] END max_depth=4, max_features=4, min_samples_split=10;, score=(train=-0.077, test=-0.086) total time=   0.0s\n",
      "[CV 10/10] END max_depth=4, max_features=4, min_samples_split=10;, score=(train=-0.089, test=-0.089) total time=   0.0s\n",
      "[CV 1/10] END max_depth=4, max_features=4, min_samples_split=50;, score=(train=-0.069, test=-0.070) total time=   0.0s\n",
      "[CV 2/10] END max_depth=4, max_features=4, min_samples_split=50;, score=(train=-0.092, test=-0.098) total time=   0.0s\n",
      "[CV 3/10] END max_depth=4, max_features=4, min_samples_split=50;, score=(train=-0.118, test=-0.123) total time=   0.0s\n",
      "[CV 4/10] END max_depth=4, max_features=4, min_samples_split=50;, score=(train=-0.101, test=-0.107) total time=   0.0s\n",
      "[CV 5/10] END max_depth=4, max_features=4, min_samples_split=50;, score=(train=-0.092, test=-0.096) total time=   0.0s\n",
      "[CV 6/10] END max_depth=4, max_features=4, min_samples_split=50;, score=(train=-0.081, test=-0.083) total time=   0.0s\n",
      "[CV 7/10] END max_depth=4, max_features=4, min_samples_split=50;, score=(train=-0.074, test=-0.075) total time=   0.0s\n",
      "[CV 8/10] END max_depth=4, max_features=4, min_samples_split=50;, score=(train=-0.061, test=-0.067) total time=   0.0s\n",
      "[CV 9/10] END max_depth=4, max_features=4, min_samples_split=50;, score=(train=-0.070, test=-0.075) total time=   0.0s\n",
      "[CV 10/10] END max_depth=4, max_features=4, min_samples_split=50;, score=(train=-0.085, test=-0.087) total time=   0.0s\n",
      "[CV 1/10] END max_depth=4, max_features=4, min_samples_split=100;, score=(train=-0.097, test=-0.097) total time=   0.0s\n",
      "[CV 2/10] END max_depth=4, max_features=4, min_samples_split=100;, score=(train=-0.070, test=-0.068) total time=   0.0s\n",
      "[CV 3/10] END max_depth=4, max_features=4, min_samples_split=100;, score=(train=-0.060, test=-0.060) total time=   0.0s\n",
      "[CV 4/10] END max_depth=4, max_features=4, min_samples_split=100;, score=(train=-0.110, test=-0.118) total time=   0.0s\n",
      "[CV 5/10] END max_depth=4, max_features=4, min_samples_split=100;, score=(train=-0.075, test=-0.076) total time=   0.0s\n",
      "[CV 6/10] END max_depth=4, max_features=4, min_samples_split=100;, score=(train=-0.104, test=-0.104) total time=   0.0s\n",
      "[CV 7/10] END max_depth=4, max_features=4, min_samples_split=100;, score=(train=-0.067, test=-0.066) total time=   0.0s\n",
      "[CV 8/10] END max_depth=4, max_features=4, min_samples_split=100;, score=(train=-0.075, test=-0.076) total time=   0.0s\n",
      "[CV 9/10] END max_depth=4, max_features=4, min_samples_split=100;, score=(train=-0.062, test=-0.070) total time=   0.0s\n",
      "[CV 10/10] END max_depth=4, max_features=4, min_samples_split=100;, score=(train=-0.067, test=-0.064) total time=   0.0s\n",
      "[CV 1/10] END max_depth=5, max_features=1, min_samples_split=10;, score=(train=-0.138, test=-0.144) total time=   0.0s\n",
      "[CV 2/10] END max_depth=5, max_features=1, min_samples_split=10;, score=(train=-0.132, test=-0.136) total time=   0.0s\n",
      "[CV 3/10] END max_depth=5, max_features=1, min_samples_split=10;, score=(train=-0.139, test=-0.143) total time=   0.0s\n",
      "[CV 4/10] END max_depth=5, max_features=1, min_samples_split=10;, score=(train=-0.126, test=-0.127) total time=   0.0s\n",
      "[CV 5/10] END max_depth=5, max_features=1, min_samples_split=10;, score=(train=-0.091, test=-0.091) total time=   0.0s\n",
      "[CV 6/10] END max_depth=5, max_features=1, min_samples_split=10;, score=(train=-0.093, test=-0.099) total time=   0.0s\n",
      "[CV 7/10] END max_depth=5, max_features=1, min_samples_split=10;, score=(train=-0.142, test=-0.145) total time=   0.0s\n",
      "[CV 8/10] END max_depth=5, max_features=1, min_samples_split=10;, score=(train=-0.155, test=-0.156) total time=   0.0s\n",
      "[CV 9/10] END max_depth=5, max_features=1, min_samples_split=10;, score=(train=-0.082, test=-0.087) total time=   0.0s\n",
      "[CV 10/10] END max_depth=5, max_features=1, min_samples_split=10;, score=(train=-0.130, test=-0.122) total time=   0.0s\n",
      "[CV 1/10] END max_depth=5, max_features=1, min_samples_split=50;, score=(train=-0.134, test=-0.133) total time=   0.0s\n",
      "[CV 2/10] END max_depth=5, max_features=1, min_samples_split=50;, score=(train=-0.117, test=-0.123) total time=   0.0s\n",
      "[CV 3/10] END max_depth=5, max_features=1, min_samples_split=50;, score=(train=-0.157, test=-0.165) total time=   0.0s\n",
      "[CV 4/10] END max_depth=5, max_features=1, min_samples_split=50;, score=(train=-0.133, test=-0.138) total time=   0.0s\n",
      "[CV 5/10] END max_depth=5, max_features=1, min_samples_split=50;, score=(train=-0.105, test=-0.106) total time=   0.0s\n",
      "[CV 6/10] END max_depth=5, max_features=1, min_samples_split=50;, score=(train=-0.133, test=-0.138) total time=   0.0s\n",
      "[CV 7/10] END max_depth=5, max_features=1, min_samples_split=50;, score=(train=-0.131, test=-0.124) total time=   0.0s\n",
      "[CV 8/10] END max_depth=5, max_features=1, min_samples_split=50;, score=(train=-0.124, test=-0.129) total time=   0.0s\n",
      "[CV 9/10] END max_depth=5, max_features=1, min_samples_split=50;, score=(train=-0.092, test=-0.102) total time=   0.0s\n",
      "[CV 10/10] END max_depth=5, max_features=1, min_samples_split=50;, score=(train=-0.133, test=-0.131) total time=   0.0s\n",
      "[CV 1/10] END max_depth=5, max_features=1, min_samples_split=100;, score=(train=-0.134, test=-0.126) total time=   0.0s\n"
     ]
    },
    {
     "name": "stdout",
     "output_type": "stream",
     "text": [
      "[CV 2/10] END max_depth=5, max_features=1, min_samples_split=100;, score=(train=-0.135, test=-0.138) total time=   0.0s\n",
      "[CV 3/10] END max_depth=5, max_features=1, min_samples_split=100;, score=(train=-0.152, test=-0.165) total time=   0.0s\n",
      "[CV 4/10] END max_depth=5, max_features=1, min_samples_split=100;, score=(train=-0.175, test=-0.179) total time=   0.0s\n",
      "[CV 5/10] END max_depth=5, max_features=1, min_samples_split=100;, score=(train=-0.071, test=-0.070) total time=   0.0s\n",
      "[CV 6/10] END max_depth=5, max_features=1, min_samples_split=100;, score=(train=-0.138, test=-0.137) total time=   0.0s\n",
      "[CV 7/10] END max_depth=5, max_features=1, min_samples_split=100;, score=(train=-0.129, test=-0.130) total time=   0.0s\n",
      "[CV 8/10] END max_depth=5, max_features=1, min_samples_split=100;, score=(train=-0.128, test=-0.131) total time=   0.0s\n",
      "[CV 9/10] END max_depth=5, max_features=1, min_samples_split=100;, score=(train=-0.085, test=-0.097) total time=   0.0s\n",
      "[CV 10/10] END max_depth=5, max_features=1, min_samples_split=100;, score=(train=-0.131, test=-0.131) total time=   0.0s\n",
      "[CV 1/10] END max_depth=5, max_features=2, min_samples_split=10;, score=(train=-0.087, test=-0.090) total time=   0.0s\n",
      "[CV 2/10] END max_depth=5, max_features=2, min_samples_split=10;, score=(train=-0.112, test=-0.115) total time=   0.0s\n",
      "[CV 3/10] END max_depth=5, max_features=2, min_samples_split=10;, score=(train=-0.072, test=-0.073) total time=   0.0s\n",
      "[CV 4/10] END max_depth=5, max_features=2, min_samples_split=10;, score=(train=-0.081, test=-0.092) total time=   0.0s\n",
      "[CV 5/10] END max_depth=5, max_features=2, min_samples_split=10;, score=(train=-0.122, test=-0.120) total time=   0.0s\n",
      "[CV 6/10] END max_depth=5, max_features=2, min_samples_split=10;, score=(train=-0.078, test=-0.080) total time=   0.0s\n",
      "[CV 7/10] END max_depth=5, max_features=2, min_samples_split=10;, score=(train=-0.094, test=-0.093) total time=   0.0s\n",
      "[CV 8/10] END max_depth=5, max_features=2, min_samples_split=10;, score=(train=-0.124, test=-0.133) total time=   0.0s\n",
      "[CV 9/10] END max_depth=5, max_features=2, min_samples_split=10;, score=(train=-0.105, test=-0.108) total time=   0.0s\n",
      "[CV 10/10] END max_depth=5, max_features=2, min_samples_split=10;, score=(train=-0.101, test=-0.100) total time=   0.0s\n",
      "[CV 1/10] END max_depth=5, max_features=2, min_samples_split=50;, score=(train=-0.114, test=-0.116) total time=   0.0s\n",
      "[CV 2/10] END max_depth=5, max_features=2, min_samples_split=50;, score=(train=-0.078, test=-0.075) total time=   0.0s\n",
      "[CV 3/10] END max_depth=5, max_features=2, min_samples_split=50;, score=(train=-0.109, test=-0.114) total time=   0.0s\n",
      "[CV 4/10] END max_depth=5, max_features=2, min_samples_split=50;, score=(train=-0.109, test=-0.110) total time=   0.0s\n",
      "[CV 5/10] END max_depth=5, max_features=2, min_samples_split=50;, score=(train=-0.110, test=-0.110) total time=   0.0s\n",
      "[CV 6/10] END max_depth=5, max_features=2, min_samples_split=50;, score=(train=-0.090, test=-0.094) total time=   0.0s\n",
      "[CV 7/10] END max_depth=5, max_features=2, min_samples_split=50;, score=(train=-0.107, test=-0.109) total time=   0.0s\n",
      "[CV 8/10] END max_depth=5, max_features=2, min_samples_split=50;, score=(train=-0.105, test=-0.108) total time=   0.0s\n",
      "[CV 9/10] END max_depth=5, max_features=2, min_samples_split=50;, score=(train=-0.114, test=-0.119) total time=   0.0s\n",
      "[CV 10/10] END max_depth=5, max_features=2, min_samples_split=50;, score=(train=-0.094, test=-0.093) total time=   0.0s\n",
      "[CV 1/10] END max_depth=5, max_features=2, min_samples_split=100;, score=(train=-0.090, test=-0.092) total time=   0.0s\n",
      "[CV 2/10] END max_depth=5, max_features=2, min_samples_split=100;, score=(train=-0.111, test=-0.117) total time=   0.0s\n",
      "[CV 3/10] END max_depth=5, max_features=2, min_samples_split=100;, score=(train=-0.108, test=-0.109) total time=   0.0s\n",
      "[CV 4/10] END max_depth=5, max_features=2, min_samples_split=100;, score=(train=-0.098, test=-0.102) total time=   0.0s\n",
      "[CV 5/10] END max_depth=5, max_features=2, min_samples_split=100;, score=(train=-0.116, test=-0.116) total time=   0.0s\n",
      "[CV 6/10] END max_depth=5, max_features=2, min_samples_split=100;, score=(train=-0.077, test=-0.080) total time=   0.0s\n",
      "[CV 7/10] END max_depth=5, max_features=2, min_samples_split=100;, score=(train=-0.107, test=-0.104) total time=   0.0s\n",
      "[CV 8/10] END max_depth=5, max_features=2, min_samples_split=100;, score=(train=-0.116, test=-0.124) total time=   0.0s\n",
      "[CV 9/10] END max_depth=5, max_features=2, min_samples_split=100;, score=(train=-0.106, test=-0.104) total time=   0.0s\n",
      "[CV 10/10] END max_depth=5, max_features=2, min_samples_split=100;, score=(train=-0.084, test=-0.085) total time=   0.0s\n",
      "[CV 1/10] END max_depth=5, max_features=3, min_samples_split=10;, score=(train=-0.063, test=-0.068) total time=   0.0s\n",
      "[CV 2/10] END max_depth=5, max_features=3, min_samples_split=10;, score=(train=-0.088, test=-0.091) total time=   0.0s\n",
      "[CV 3/10] END max_depth=5, max_features=3, min_samples_split=10;, score=(train=-0.100, test=-0.106) total time=   0.0s\n",
      "[CV 4/10] END max_depth=5, max_features=3, min_samples_split=10;, score=(train=-0.066, test=-0.068) total time=   0.0s\n",
      "[CV 5/10] END max_depth=5, max_features=3, min_samples_split=10;, score=(train=-0.076, test=-0.074) total time=   0.0s\n",
      "[CV 6/10] END max_depth=5, max_features=3, min_samples_split=10;, score=(train=-0.089, test=-0.084) total time=   0.0s\n",
      "[CV 7/10] END max_depth=5, max_features=3, min_samples_split=10;, score=(train=-0.089, test=-0.090) total time=   0.0s\n",
      "[CV 8/10] END max_depth=5, max_features=3, min_samples_split=10;, score=(train=-0.081, test=-0.090) total time=   0.0s\n",
      "[CV 9/10] END max_depth=5, max_features=3, min_samples_split=10;, score=(train=-0.089, test=-0.094) total time=   0.0s\n",
      "[CV 10/10] END max_depth=5, max_features=3, min_samples_split=10;, score=(train=-0.090, test=-0.091) total time=   0.0s\n",
      "[CV 1/10] END max_depth=5, max_features=3, min_samples_split=50;, score=(train=-0.096, test=-0.097) total time=   0.0s\n",
      "[CV 2/10] END max_depth=5, max_features=3, min_samples_split=50;, score=(train=-0.099, test=-0.104) total time=   0.0s\n",
      "[CV 3/10] END max_depth=5, max_features=3, min_samples_split=50;, score=(train=-0.092, test=-0.102) total time=   0.0s\n",
      "[CV 4/10] END max_depth=5, max_features=3, min_samples_split=50;, score=(train=-0.098, test=-0.102) total time=   0.0s\n",
      "[CV 5/10] END max_depth=5, max_features=3, min_samples_split=50;, score=(train=-0.097, test=-0.096) total time=   0.0s\n",
      "[CV 6/10] END max_depth=5, max_features=3, min_samples_split=50;, score=(train=-0.064, test=-0.066) total time=   0.0s\n",
      "[CV 7/10] END max_depth=5, max_features=3, min_samples_split=50;, score=(train=-0.082, test=-0.081) total time=   0.0s\n",
      "[CV 8/10] END max_depth=5, max_features=3, min_samples_split=50;, score=(train=-0.076, test=-0.081) total time=   0.0s\n",
      "[CV 9/10] END max_depth=5, max_features=3, min_samples_split=50;, score=(train=-0.061, test=-0.068) total time=   0.0s\n",
      "[CV 10/10] END max_depth=5, max_features=3, min_samples_split=50;, score=(train=-0.108, test=-0.108) total time=   0.0s\n",
      "[CV 1/10] END max_depth=5, max_features=3, min_samples_split=100;, score=(train=-0.063, test=-0.064) total time=   0.0s\n",
      "[CV 2/10] END max_depth=5, max_features=3, min_samples_split=100;, score=(train=-0.107, test=-0.109) total time=   0.0s\n",
      "[CV 3/10] END max_depth=5, max_features=3, min_samples_split=100;, score=(train=-0.069, test=-0.071) total time=   0.0s\n",
      "[CV 4/10] END max_depth=5, max_features=3, min_samples_split=100;, score=(train=-0.076, test=-0.080) total time=   0.0s\n",
      "[CV 5/10] END max_depth=5, max_features=3, min_samples_split=100;, score=(train=-0.083, test=-0.086) total time=   0.0s\n",
      "[CV 6/10] END max_depth=5, max_features=3, min_samples_split=100;, score=(train=-0.095, test=-0.093) total time=   0.0s\n",
      "[CV 7/10] END max_depth=5, max_features=3, min_samples_split=100;, score=(train=-0.083, test=-0.079) total time=   0.0s\n",
      "[CV 8/10] END max_depth=5, max_features=3, min_samples_split=100;, score=(train=-0.069, test=-0.077) total time=   0.0s\n",
      "[CV 9/10] END max_depth=5, max_features=3, min_samples_split=100;, score=(train=-0.062, test=-0.067) total time=   0.0s\n",
      "[CV 10/10] END max_depth=5, max_features=3, min_samples_split=100;, score=(train=-0.095, test=-0.099) total time=   0.0s\n",
      "[CV 1/10] END max_depth=5, max_features=4, min_samples_split=10;, score=(train=-0.072, test=-0.076) total time=   0.0s\n",
      "[CV 2/10] END max_depth=5, max_features=4, min_samples_split=10;, score=(train=-0.092, test=-0.097) total time=   0.0s\n",
      "[CV 3/10] END max_depth=5, max_features=4, min_samples_split=10;, score=(train=-0.074, test=-0.075) total time=   0.0s\n",
      "[CV 4/10] END max_depth=5, max_features=4, min_samples_split=10;, score=(train=-0.085, test=-0.089) total time=   0.0s\n",
      "[CV 5/10] END max_depth=5, max_features=4, min_samples_split=10;, score=(train=-0.073, test=-0.069) total time=   0.0s\n",
      "[CV 6/10] END max_depth=5, max_features=4, min_samples_split=10;, score=(train=-0.059, test=-0.061) total time=   0.0s\n"
     ]
    },
    {
     "name": "stdout",
     "output_type": "stream",
     "text": [
      "[CV 7/10] END max_depth=5, max_features=4, min_samples_split=10;, score=(train=-0.084, test=-0.085) total time=   0.0s\n",
      "[CV 8/10] END max_depth=5, max_features=4, min_samples_split=10;, score=(train=-0.058, test=-0.062) total time=   0.0s\n",
      "[CV 9/10] END max_depth=5, max_features=4, min_samples_split=10;, score=(train=-0.083, test=-0.090) total time=   0.0s\n",
      "[CV 10/10] END max_depth=5, max_features=4, min_samples_split=10;, score=(train=-0.063, test=-0.062) total time=   0.0s\n",
      "[CV 1/10] END max_depth=5, max_features=4, min_samples_split=50;, score=(train=-0.071, test=-0.077) total time=   0.0s\n",
      "[CV 2/10] END max_depth=5, max_features=4, min_samples_split=50;, score=(train=-0.081, test=-0.083) total time=   0.0s\n",
      "[CV 3/10] END max_depth=5, max_features=4, min_samples_split=50;, score=(train=-0.085, test=-0.090) total time=   0.0s\n",
      "[CV 4/10] END max_depth=5, max_features=4, min_samples_split=50;, score=(train=-0.077, test=-0.080) total time=   0.0s\n",
      "[CV 5/10] END max_depth=5, max_features=4, min_samples_split=50;, score=(train=-0.077, test=-0.081) total time=   0.0s\n",
      "[CV 6/10] END max_depth=5, max_features=4, min_samples_split=50;, score=(train=-0.082, test=-0.083) total time=   0.0s\n",
      "[CV 7/10] END max_depth=5, max_features=4, min_samples_split=50;, score=(train=-0.061, test=-0.059) total time=   0.0s\n",
      "[CV 8/10] END max_depth=5, max_features=4, min_samples_split=50;, score=(train=-0.086, test=-0.094) total time=   0.0s\n",
      "[CV 9/10] END max_depth=5, max_features=4, min_samples_split=50;, score=(train=-0.060, test=-0.064) total time=   0.0s\n",
      "[CV 10/10] END max_depth=5, max_features=4, min_samples_split=50;, score=(train=-0.085, test=-0.087) total time=   0.0s\n",
      "[CV 1/10] END max_depth=5, max_features=4, min_samples_split=100;, score=(train=-0.063, test=-0.068) total time=   0.0s\n",
      "[CV 2/10] END max_depth=5, max_features=4, min_samples_split=100;, score=(train=-0.074, test=-0.077) total time=   0.0s\n",
      "[CV 3/10] END max_depth=5, max_features=4, min_samples_split=100;, score=(train=-0.064, test=-0.066) total time=   0.0s\n",
      "[CV 4/10] END max_depth=5, max_features=4, min_samples_split=100;, score=(train=-0.064, test=-0.073) total time=   0.0s\n",
      "[CV 5/10] END max_depth=5, max_features=4, min_samples_split=100;, score=(train=-0.092, test=-0.088) total time=   0.0s\n",
      "[CV 6/10] END max_depth=5, max_features=4, min_samples_split=100;, score=(train=-0.092, test=-0.095) total time=   0.0s\n",
      "[CV 7/10] END max_depth=5, max_features=4, min_samples_split=100;, score=(train=-0.064, test=-0.065) total time=   0.0s\n",
      "[CV 8/10] END max_depth=5, max_features=4, min_samples_split=100;, score=(train=-0.068, test=-0.074) total time=   0.0s\n",
      "[CV 9/10] END max_depth=5, max_features=4, min_samples_split=100;, score=(train=-0.088, test=-0.091) total time=   0.0s\n",
      "[CV 10/10] END max_depth=5, max_features=4, min_samples_split=100;, score=(train=-0.061, test=-0.058) total time=   0.0s\n",
      "[CV 1/10] END max_depth=6, max_features=1, min_samples_split=10;, score=(train=-0.102, test=-0.108) total time=   0.0s\n",
      "[CV 2/10] END max_depth=6, max_features=1, min_samples_split=10;, score=(train=-0.122, test=-0.126) total time=   0.0s\n",
      "[CV 3/10] END max_depth=6, max_features=1, min_samples_split=10;, score=(train=-0.097, test=-0.097) total time=   0.0s\n",
      "[CV 4/10] END max_depth=6, max_features=1, min_samples_split=10;, score=(train=-0.120, test=-0.125) total time=   0.0s\n",
      "[CV 5/10] END max_depth=6, max_features=1, min_samples_split=10;, score=(train=-0.135, test=-0.134) total time=   0.0s\n",
      "[CV 6/10] END max_depth=6, max_features=1, min_samples_split=10;, score=(train=-0.077, test=-0.081) total time=   0.0s\n",
      "[CV 7/10] END max_depth=6, max_features=1, min_samples_split=10;, score=(train=-0.135, test=-0.141) total time=   0.0s\n",
      "[CV 8/10] END max_depth=6, max_features=1, min_samples_split=10;, score=(train=-0.081, test=-0.087) total time=   0.0s\n",
      "[CV 9/10] END max_depth=6, max_features=1, min_samples_split=10;, score=(train=-0.121, test=-0.118) total time=   0.0s\n",
      "[CV 10/10] END max_depth=6, max_features=1, min_samples_split=10;, score=(train=-0.107, test=-0.111) total time=   0.0s\n",
      "[CV 1/10] END max_depth=6, max_features=1, min_samples_split=50;, score=(train=-0.084, test=-0.085) total time=   0.0s\n",
      "[CV 2/10] END max_depth=6, max_features=1, min_samples_split=50;, score=(train=-0.131, test=-0.138) total time=   0.0s\n",
      "[CV 3/10] END max_depth=6, max_features=1, min_samples_split=50;, score=(train=-0.132, test=-0.140) total time=   0.0s\n",
      "[CV 4/10] END max_depth=6, max_features=1, min_samples_split=50;, score=(train=-0.112, test=-0.120) total time=   0.0s\n",
      "[CV 5/10] END max_depth=6, max_features=1, min_samples_split=50;, score=(train=-0.150, test=-0.150) total time=   0.0s\n",
      "[CV 6/10] END max_depth=6, max_features=1, min_samples_split=50;, score=(train=-0.134, test=-0.138) total time=   0.0s\n",
      "[CV 7/10] END max_depth=6, max_features=1, min_samples_split=50;, score=(train=-0.087, test=-0.088) total time=   0.0s\n",
      "[CV 8/10] END max_depth=6, max_features=1, min_samples_split=50;, score=(train=-0.138, test=-0.140) total time=   0.0s\n",
      "[CV 9/10] END max_depth=6, max_features=1, min_samples_split=50;, score=(train=-0.119, test=-0.125) total time=   0.0s\n",
      "[CV 10/10] END max_depth=6, max_features=1, min_samples_split=50;, score=(train=-0.111, test=-0.110) total time=   0.0s\n",
      "[CV 1/10] END max_depth=6, max_features=1, min_samples_split=100;, score=(train=-0.112, test=-0.113) total time=   0.0s\n",
      "[CV 2/10] END max_depth=6, max_features=1, min_samples_split=100;, score=(train=-0.106, test=-0.109) total time=   0.0s\n",
      "[CV 3/10] END max_depth=6, max_features=1, min_samples_split=100;, score=(train=-0.124, test=-0.135) total time=   0.0s\n",
      "[CV 4/10] END max_depth=6, max_features=1, min_samples_split=100;, score=(train=-0.158, test=-0.165) total time=   0.0s\n",
      "[CV 5/10] END max_depth=6, max_features=1, min_samples_split=100;, score=(train=-0.104, test=-0.108) total time=   0.0s\n",
      "[CV 6/10] END max_depth=6, max_features=1, min_samples_split=100;, score=(train=-0.091, test=-0.093) total time=   0.0s\n",
      "[CV 7/10] END max_depth=6, max_features=1, min_samples_split=100;, score=(train=-0.105, test=-0.101) total time=   0.0s\n",
      "[CV 8/10] END max_depth=6, max_features=1, min_samples_split=100;, score=(train=-0.112, test=-0.116) total time=   0.0s\n",
      "[CV 9/10] END max_depth=6, max_features=1, min_samples_split=100;, score=(train=-0.100, test=-0.103) total time=   0.0s\n",
      "[CV 10/10] END max_depth=6, max_features=1, min_samples_split=100;, score=(train=-0.128, test=-0.122) total time=   0.0s\n",
      "[CV 1/10] END max_depth=6, max_features=2, min_samples_split=10;, score=(train=-0.095, test=-0.098) total time=   0.0s\n",
      "[CV 2/10] END max_depth=6, max_features=2, min_samples_split=10;, score=(train=-0.098, test=-0.108) total time=   0.0s\n",
      "[CV 3/10] END max_depth=6, max_features=2, min_samples_split=10;, score=(train=-0.087, test=-0.096) total time=   0.0s\n",
      "[CV 4/10] END max_depth=6, max_features=2, min_samples_split=10;, score=(train=-0.098, test=-0.107) total time=   0.0s\n",
      "[CV 5/10] END max_depth=6, max_features=2, min_samples_split=10;, score=(train=-0.115, test=-0.112) total time=   0.0s\n",
      "[CV 6/10] END max_depth=6, max_features=2, min_samples_split=10;, score=(train=-0.077, test=-0.081) total time=   0.0s\n",
      "[CV 7/10] END max_depth=6, max_features=2, min_samples_split=10;, score=(train=-0.064, test=-0.062) total time=   0.0s\n",
      "[CV 8/10] END max_depth=6, max_features=2, min_samples_split=10;, score=(train=-0.083, test=-0.082) total time=   0.0s\n",
      "[CV 9/10] END max_depth=6, max_features=2, min_samples_split=10;, score=(train=-0.098, test=-0.103) total time=   0.0s\n",
      "[CV 10/10] END max_depth=6, max_features=2, min_samples_split=10;, score=(train=-0.061, test=-0.064) total time=   0.0s\n",
      "[CV 1/10] END max_depth=6, max_features=2, min_samples_split=50;, score=(train=-0.085, test=-0.087) total time=   0.0s\n",
      "[CV 2/10] END max_depth=6, max_features=2, min_samples_split=50;, score=(train=-0.092, test=-0.098) total time=   0.0s\n",
      "[CV 3/10] END max_depth=6, max_features=2, min_samples_split=50;, score=(train=-0.098, test=-0.102) total time=   0.0s\n",
      "[CV 4/10] END max_depth=6, max_features=2, min_samples_split=50;, score=(train=-0.099, test=-0.108) total time=   0.0s\n",
      "[CV 5/10] END max_depth=6, max_features=2, min_samples_split=50;, score=(train=-0.084, test=-0.084) total time=   0.0s\n",
      "[CV 6/10] END max_depth=6, max_features=2, min_samples_split=50;, score=(train=-0.086, test=-0.091) total time=   0.0s\n",
      "[CV 7/10] END max_depth=6, max_features=2, min_samples_split=50;, score=(train=-0.066, test=-0.067) total time=   0.0s\n",
      "[CV 8/10] END max_depth=6, max_features=2, min_samples_split=50;, score=(train=-0.091, test=-0.096) total time=   0.0s\n",
      "[CV 9/10] END max_depth=6, max_features=2, min_samples_split=50;, score=(train=-0.110, test=-0.115) total time=   0.0s\n",
      "[CV 10/10] END max_depth=6, max_features=2, min_samples_split=50;, score=(train=-0.072, test=-0.072) total time=   0.0s\n",
      "[CV 1/10] END max_depth=6, max_features=2, min_samples_split=100;, score=(train=-0.084, test=-0.091) total time=   0.0s\n"
     ]
    },
    {
     "name": "stdout",
     "output_type": "stream",
     "text": [
      "[CV 2/10] END max_depth=6, max_features=2, min_samples_split=100;, score=(train=-0.071, test=-0.074) total time=   0.0s\n",
      "[CV 3/10] END max_depth=6, max_features=2, min_samples_split=100;, score=(train=-0.098, test=-0.101) total time=   0.0s\n",
      "[CV 4/10] END max_depth=6, max_features=2, min_samples_split=100;, score=(train=-0.097, test=-0.108) total time=   0.0s\n",
      "[CV 5/10] END max_depth=6, max_features=2, min_samples_split=100;, score=(train=-0.108, test=-0.105) total time=   0.0s\n",
      "[CV 6/10] END max_depth=6, max_features=2, min_samples_split=100;, score=(train=-0.113, test=-0.116) total time=   0.0s\n",
      "[CV 7/10] END max_depth=6, max_features=2, min_samples_split=100;, score=(train=-0.116, test=-0.117) total time=   0.0s\n",
      "[CV 8/10] END max_depth=6, max_features=2, min_samples_split=100;, score=(train=-0.099, test=-0.102) total time=   0.0s\n",
      "[CV 9/10] END max_depth=6, max_features=2, min_samples_split=100;, score=(train=-0.078, test=-0.087) total time=   0.0s\n",
      "[CV 10/10] END max_depth=6, max_features=2, min_samples_split=100;, score=(train=-0.106, test=-0.107) total time=   0.0s\n",
      "[CV 1/10] END max_depth=6, max_features=3, min_samples_split=10;, score=(train=-0.062, test=-0.064) total time=   0.0s\n",
      "[CV 2/10] END max_depth=6, max_features=3, min_samples_split=10;, score=(train=-0.064, test=-0.070) total time=   0.0s\n",
      "[CV 3/10] END max_depth=6, max_features=3, min_samples_split=10;, score=(train=-0.099, test=-0.105) total time=   0.0s\n",
      "[CV 4/10] END max_depth=6, max_features=3, min_samples_split=10;, score=(train=-0.076, test=-0.083) total time=   0.0s\n",
      "[CV 5/10] END max_depth=6, max_features=3, min_samples_split=10;, score=(train=-0.073, test=-0.079) total time=   0.0s\n",
      "[CV 6/10] END max_depth=6, max_features=3, min_samples_split=10;, score=(train=-0.094, test=-0.096) total time=   0.0s\n",
      "[CV 7/10] END max_depth=6, max_features=3, min_samples_split=10;, score=(train=-0.082, test=-0.083) total time=   0.0s\n",
      "[CV 8/10] END max_depth=6, max_features=3, min_samples_split=10;, score=(train=-0.070, test=-0.078) total time=   0.0s\n",
      "[CV 9/10] END max_depth=6, max_features=3, min_samples_split=10;, score=(train=-0.063, test=-0.065) total time=   0.0s\n",
      "[CV 10/10] END max_depth=6, max_features=3, min_samples_split=10;, score=(train=-0.060, test=-0.060) total time=   0.0s\n",
      "[CV 1/10] END max_depth=6, max_features=3, min_samples_split=50;, score=(train=-0.091, test=-0.093) total time=   0.0s\n",
      "[CV 2/10] END max_depth=6, max_features=3, min_samples_split=50;, score=(train=-0.092, test=-0.095) total time=   0.0s\n",
      "[CV 3/10] END max_depth=6, max_features=3, min_samples_split=50;, score=(train=-0.098, test=-0.100) total time=   0.0s\n",
      "[CV 4/10] END max_depth=6, max_features=3, min_samples_split=50;, score=(train=-0.070, test=-0.074) total time=   0.0s\n",
      "[CV 5/10] END max_depth=6, max_features=3, min_samples_split=50;, score=(train=-0.092, test=-0.097) total time=   0.0s\n",
      "[CV 6/10] END max_depth=6, max_features=3, min_samples_split=50;, score=(train=-0.084, test=-0.085) total time=   0.0s\n",
      "[CV 7/10] END max_depth=6, max_features=3, min_samples_split=50;, score=(train=-0.056, test=-0.059) total time=   0.0s\n",
      "[CV 8/10] END max_depth=6, max_features=3, min_samples_split=50;, score=(train=-0.087, test=-0.096) total time=   0.0s\n",
      "[CV 9/10] END max_depth=6, max_features=3, min_samples_split=50;, score=(train=-0.092, test=-0.097) total time=   0.0s\n",
      "[CV 10/10] END max_depth=6, max_features=3, min_samples_split=50;, score=(train=-0.083, test=-0.082) total time=   0.0s\n",
      "[CV 1/10] END max_depth=6, max_features=3, min_samples_split=100;, score=(train=-0.071, test=-0.070) total time=   0.0s\n",
      "[CV 2/10] END max_depth=6, max_features=3, min_samples_split=100;, score=(train=-0.056, test=-0.057) total time=   0.0s\n",
      "[CV 3/10] END max_depth=6, max_features=3, min_samples_split=100;, score=(train=-0.055, test=-0.059) total time=   0.0s\n",
      "[CV 4/10] END max_depth=6, max_features=3, min_samples_split=100;, score=(train=-0.088, test=-0.094) total time=   0.0s\n",
      "[CV 5/10] END max_depth=6, max_features=3, min_samples_split=100;, score=(train=-0.093, test=-0.093) total time=   0.0s\n",
      "[CV 6/10] END max_depth=6, max_features=3, min_samples_split=100;, score=(train=-0.062, test=-0.065) total time=   0.0s\n",
      "[CV 7/10] END max_depth=6, max_features=3, min_samples_split=100;, score=(train=-0.058, test=-0.058) total time=   0.0s\n",
      "[CV 8/10] END max_depth=6, max_features=3, min_samples_split=100;, score=(train=-0.064, test=-0.071) total time=   0.0s\n",
      "[CV 9/10] END max_depth=6, max_features=3, min_samples_split=100;, score=(train=-0.058, test=-0.063) total time=   0.0s\n",
      "[CV 10/10] END max_depth=6, max_features=3, min_samples_split=100;, score=(train=-0.075, test=-0.078) total time=   0.0s\n",
      "[CV 1/10] END max_depth=6, max_features=4, min_samples_split=10;, score=(train=-0.086, test=-0.090) total time=   0.0s\n",
      "[CV 2/10] END max_depth=6, max_features=4, min_samples_split=10;, score=(train=-0.057, test=-0.059) total time=   0.0s\n",
      "[CV 3/10] END max_depth=6, max_features=4, min_samples_split=10;, score=(train=-0.060, test=-0.067) total time=   0.0s\n",
      "[CV 4/10] END max_depth=6, max_features=4, min_samples_split=10;, score=(train=-0.051, test=-0.055) total time=   0.0s\n",
      "[CV 5/10] END max_depth=6, max_features=4, min_samples_split=10;, score=(train=-0.050, test=-0.051) total time=   0.0s\n",
      "[CV 6/10] END max_depth=6, max_features=4, min_samples_split=10;, score=(train=-0.061, test=-0.068) total time=   0.0s\n",
      "[CV 7/10] END max_depth=6, max_features=4, min_samples_split=10;, score=(train=-0.069, test=-0.071) total time=   0.0s\n",
      "[CV 8/10] END max_depth=6, max_features=4, min_samples_split=10;, score=(train=-0.066, test=-0.075) total time=   0.0s\n",
      "[CV 9/10] END max_depth=6, max_features=4, min_samples_split=10;, score=(train=-0.067, test=-0.075) total time=   0.0s\n",
      "[CV 10/10] END max_depth=6, max_features=4, min_samples_split=10;, score=(train=-0.083, test=-0.088) total time=   0.0s\n",
      "[CV 1/10] END max_depth=6, max_features=4, min_samples_split=50;, score=(train=-0.056, test=-0.061) total time=   0.0s\n",
      "[CV 2/10] END max_depth=6, max_features=4, min_samples_split=50;, score=(train=-0.055, test=-0.057) total time=   0.0s\n",
      "[CV 3/10] END max_depth=6, max_features=4, min_samples_split=50;, score=(train=-0.062, test=-0.066) total time=   0.0s\n",
      "[CV 4/10] END max_depth=6, max_features=4, min_samples_split=50;, score=(train=-0.082, test=-0.089) total time=   0.0s\n",
      "[CV 5/10] END max_depth=6, max_features=4, min_samples_split=50;, score=(train=-0.061, test=-0.062) total time=   0.0s\n",
      "[CV 6/10] END max_depth=6, max_features=4, min_samples_split=50;, score=(train=-0.061, test=-0.063) total time=   0.0s\n",
      "[CV 7/10] END max_depth=6, max_features=4, min_samples_split=50;, score=(train=-0.061, test=-0.063) total time=   0.0s\n",
      "[CV 8/10] END max_depth=6, max_features=4, min_samples_split=50;, score=(train=-0.082, test=-0.089) total time=   0.0s\n",
      "[CV 9/10] END max_depth=6, max_features=4, min_samples_split=50;, score=(train=-0.077, test=-0.085) total time=   0.0s\n",
      "[CV 10/10] END max_depth=6, max_features=4, min_samples_split=50;, score=(train=-0.064, test=-0.065) total time=   0.0s\n",
      "[CV 1/10] END max_depth=6, max_features=4, min_samples_split=100;, score=(train=-0.068, test=-0.072) total time=   0.0s\n",
      "[CV 2/10] END max_depth=6, max_features=4, min_samples_split=100;, score=(train=-0.076, test=-0.081) total time=   0.0s\n",
      "[CV 3/10] END max_depth=6, max_features=4, min_samples_split=100;, score=(train=-0.082, test=-0.089) total time=   0.0s\n",
      "[CV 4/10] END max_depth=6, max_features=4, min_samples_split=100;, score=(train=-0.052, test=-0.056) total time=   0.0s\n",
      "[CV 5/10] END max_depth=6, max_features=4, min_samples_split=100;, score=(train=-0.059, test=-0.061) total time=   0.0s\n",
      "[CV 6/10] END max_depth=6, max_features=4, min_samples_split=100;, score=(train=-0.050, test=-0.053) total time=   0.0s\n",
      "[CV 7/10] END max_depth=6, max_features=4, min_samples_split=100;, score=(train=-0.076, test=-0.074) total time=   0.0s\n",
      "[CV 8/10] END max_depth=6, max_features=4, min_samples_split=100;, score=(train=-0.067, test=-0.075) total time=   0.0s\n",
      "[CV 9/10] END max_depth=6, max_features=4, min_samples_split=100;, score=(train=-0.072, test=-0.081) total time=   0.0s\n",
      "[CV 10/10] END max_depth=6, max_features=4, min_samples_split=100;, score=(train=-0.055, test=-0.057) total time=   0.0s\n",
      "[CV 1/10] END max_depth=7, max_features=1, min_samples_split=10;, score=(train=-0.087, test=-0.090) total time=   0.0s\n",
      "[CV 2/10] END max_depth=7, max_features=1, min_samples_split=10;, score=(train=-0.096, test=-0.103) total time=   0.0s\n",
      "[CV 3/10] END max_depth=7, max_features=1, min_samples_split=10;, score=(train=-0.097, test=-0.104) total time=   0.0s\n"
     ]
    },
    {
     "name": "stdout",
     "output_type": "stream",
     "text": [
      "[CV 4/10] END max_depth=7, max_features=1, min_samples_split=10;, score=(train=-0.084, test=-0.089) total time=   0.0s\n",
      "[CV 5/10] END max_depth=7, max_features=1, min_samples_split=10;, score=(train=-0.102, test=-0.101) total time=   0.0s\n",
      "[CV 6/10] END max_depth=7, max_features=1, min_samples_split=10;, score=(train=-0.124, test=-0.131) total time=   0.0s\n",
      "[CV 7/10] END max_depth=7, max_features=1, min_samples_split=10;, score=(train=-0.062, test=-0.066) total time=   0.0s\n",
      "[CV 8/10] END max_depth=7, max_features=1, min_samples_split=10;, score=(train=-0.069, test=-0.076) total time=   0.0s\n",
      "[CV 9/10] END max_depth=7, max_features=1, min_samples_split=10;, score=(train=-0.101, test=-0.107) total time=   0.0s\n",
      "[CV 10/10] END max_depth=7, max_features=1, min_samples_split=10;, score=(train=-0.112, test=-0.110) total time=   0.0s\n",
      "[CV 1/10] END max_depth=7, max_features=1, min_samples_split=50;, score=(train=-0.141, test=-0.140) total time=   0.0s\n",
      "[CV 2/10] END max_depth=7, max_features=1, min_samples_split=50;, score=(train=-0.103, test=-0.111) total time=   0.0s\n",
      "[CV 3/10] END max_depth=7, max_features=1, min_samples_split=50;, score=(train=-0.081, test=-0.088) total time=   0.0s\n",
      "[CV 4/10] END max_depth=7, max_features=1, min_samples_split=50;, score=(train=-0.070, test=-0.078) total time=   0.0s\n",
      "[CV 5/10] END max_depth=7, max_features=1, min_samples_split=50;, score=(train=-0.097, test=-0.101) total time=   0.0s\n",
      "[CV 6/10] END max_depth=7, max_features=1, min_samples_split=50;, score=(train=-0.071, test=-0.075) total time=   0.0s\n",
      "[CV 7/10] END max_depth=7, max_features=1, min_samples_split=50;, score=(train=-0.094, test=-0.094) total time=   0.0s\n",
      "[CV 8/10] END max_depth=7, max_features=1, min_samples_split=50;, score=(train=-0.129, test=-0.129) total time=   0.0s\n",
      "[CV 9/10] END max_depth=7, max_features=1, min_samples_split=50;, score=(train=-0.097, test=-0.099) total time=   0.0s\n",
      "[CV 10/10] END max_depth=7, max_features=1, min_samples_split=50;, score=(train=-0.104, test=-0.097) total time=   0.0s\n",
      "[CV 1/10] END max_depth=7, max_features=1, min_samples_split=100;, score=(train=-0.121, test=-0.126) total time=   0.0s\n",
      "[CV 2/10] END max_depth=7, max_features=1, min_samples_split=100;, score=(train=-0.103, test=-0.112) total time=   0.0s\n",
      "[CV 3/10] END max_depth=7, max_features=1, min_samples_split=100;, score=(train=-0.095, test=-0.099) total time=   0.0s\n",
      "[CV 4/10] END max_depth=7, max_features=1, min_samples_split=100;, score=(train=-0.107, test=-0.118) total time=   0.0s\n",
      "[CV 5/10] END max_depth=7, max_features=1, min_samples_split=100;, score=(train=-0.118, test=-0.116) total time=   0.0s\n",
      "[CV 6/10] END max_depth=7, max_features=1, min_samples_split=100;, score=(train=-0.082, test=-0.087) total time=   0.0s\n",
      "[CV 7/10] END max_depth=7, max_features=1, min_samples_split=100;, score=(train=-0.103, test=-0.100) total time=   0.0s\n",
      "[CV 8/10] END max_depth=7, max_features=1, min_samples_split=100;, score=(train=-0.088, test=-0.096) total time=   0.0s\n",
      "[CV 9/10] END max_depth=7, max_features=1, min_samples_split=100;, score=(train=-0.101, test=-0.103) total time=   0.0s\n",
      "[CV 10/10] END max_depth=7, max_features=1, min_samples_split=100;, score=(train=-0.112, test=-0.112) total time=   0.0s\n",
      "[CV 1/10] END max_depth=7, max_features=2, min_samples_split=10;, score=(train=-0.099, test=-0.108) total time=   0.0s\n",
      "[CV 2/10] END max_depth=7, max_features=2, min_samples_split=10;, score=(train=-0.081, test=-0.087) total time=   0.0s\n",
      "[CV 3/10] END max_depth=7, max_features=2, min_samples_split=10;, score=(train=-0.083, test=-0.087) total time=   0.0s\n",
      "[CV 4/10] END max_depth=7, max_features=2, min_samples_split=10;, score=(train=-0.078, test=-0.087) total time=   0.0s\n",
      "[CV 5/10] END max_depth=7, max_features=2, min_samples_split=10;, score=(train=-0.068, test=-0.071) total time=   0.0s\n",
      "[CV 6/10] END max_depth=7, max_features=2, min_samples_split=10;, score=(train=-0.056, test=-0.062) total time=   0.0s\n",
      "[CV 7/10] END max_depth=7, max_features=2, min_samples_split=10;, score=(train=-0.057, test=-0.064) total time=   0.0s\n",
      "[CV 8/10] END max_depth=7, max_features=2, min_samples_split=10;, score=(train=-0.097, test=-0.105) total time=   0.0s\n",
      "[CV 9/10] END max_depth=7, max_features=2, min_samples_split=10;, score=(train=-0.054, test=-0.061) total time=   0.0s\n",
      "[CV 10/10] END max_depth=7, max_features=2, min_samples_split=10;, score=(train=-0.076, test=-0.078) total time=   0.0s\n",
      "[CV 1/10] END max_depth=7, max_features=2, min_samples_split=50;, score=(train=-0.091, test=-0.093) total time=   0.0s\n",
      "[CV 2/10] END max_depth=7, max_features=2, min_samples_split=50;, score=(train=-0.051, test=-0.055) total time=   0.0s\n",
      "[CV 3/10] END max_depth=7, max_features=2, min_samples_split=50;, score=(train=-0.088, test=-0.095) total time=   0.0s\n",
      "[CV 4/10] END max_depth=7, max_features=2, min_samples_split=50;, score=(train=-0.077, test=-0.084) total time=   0.0s\n",
      "[CV 5/10] END max_depth=7, max_features=2, min_samples_split=50;, score=(train=-0.083, test=-0.087) total time=   0.0s\n",
      "[CV 6/10] END max_depth=7, max_features=2, min_samples_split=50;, score=(train=-0.078, test=-0.084) total time=   0.0s\n",
      "[CV 7/10] END max_depth=7, max_features=2, min_samples_split=50;, score=(train=-0.063, test=-0.064) total time=   0.0s\n",
      "[CV 8/10] END max_depth=7, max_features=2, min_samples_split=50;, score=(train=-0.049, test=-0.056) total time=   0.0s\n",
      "[CV 9/10] END max_depth=7, max_features=2, min_samples_split=50;, score=(train=-0.058, test=-0.066) total time=   0.0s\n",
      "[CV 10/10] END max_depth=7, max_features=2, min_samples_split=50;, score=(train=-0.082, test=-0.094) total time=   0.0s\n",
      "[CV 1/10] END max_depth=7, max_features=2, min_samples_split=100;, score=(train=-0.089, test=-0.096) total time=   0.0s\n",
      "[CV 2/10] END max_depth=7, max_features=2, min_samples_split=100;, score=(train=-0.094, test=-0.097) total time=   0.0s\n",
      "[CV 3/10] END max_depth=7, max_features=2, min_samples_split=100;, score=(train=-0.085, test=-0.087) total time=   0.0s\n",
      "[CV 4/10] END max_depth=7, max_features=2, min_samples_split=100;, score=(train=-0.073, test=-0.079) total time=   0.0s\n",
      "[CV 5/10] END max_depth=7, max_features=2, min_samples_split=100;, score=(train=-0.071, test=-0.073) total time=   0.0s\n",
      "[CV 6/10] END max_depth=7, max_features=2, min_samples_split=100;, score=(train=-0.095, test=-0.097) total time=   0.0s\n",
      "[CV 7/10] END max_depth=7, max_features=2, min_samples_split=100;, score=(train=-0.094, test=-0.099) total time=   0.0s\n",
      "[CV 8/10] END max_depth=7, max_features=2, min_samples_split=100;, score=(train=-0.070, test=-0.077) total time=   0.0s\n",
      "[CV 9/10] END max_depth=7, max_features=2, min_samples_split=100;, score=(train=-0.096, test=-0.098) total time=   0.0s\n",
      "[CV 10/10] END max_depth=7, max_features=2, min_samples_split=100;, score=(train=-0.092, test=-0.102) total time=   0.0s\n",
      "[CV 1/10] END max_depth=7, max_features=3, min_samples_split=10;, score=(train=-0.070, test=-0.073) total time=   0.0s\n",
      "[CV 2/10] END max_depth=7, max_features=3, min_samples_split=10;, score=(train=-0.066, test=-0.072) total time=   0.0s\n",
      "[CV 3/10] END max_depth=7, max_features=3, min_samples_split=10;, score=(train=-0.067, test=-0.075) total time=   0.0s\n",
      "[CV 4/10] END max_depth=7, max_features=3, min_samples_split=10;, score=(train=-0.060, test=-0.067) total time=   0.0s\n",
      "[CV 5/10] END max_depth=7, max_features=3, min_samples_split=10;, score=(train=-0.058, test=-0.057) total time=   0.0s\n",
      "[CV 6/10] END max_depth=7, max_features=3, min_samples_split=10;, score=(train=-0.086, test=-0.088) total time=   0.0s\n",
      "[CV 7/10] END max_depth=7, max_features=3, min_samples_split=10;, score=(train=-0.072, test=-0.072) total time=   0.0s\n",
      "[CV 8/10] END max_depth=7, max_features=3, min_samples_split=10;, score=(train=-0.073, test=-0.085) total time=   0.0s\n",
      "[CV 9/10] END max_depth=7, max_features=3, min_samples_split=10;, score=(train=-0.062, test=-0.067) total time=   0.0s\n",
      "[CV 10/10] END max_depth=7, max_features=3, min_samples_split=10;, score=(train=-0.078, test=-0.081) total time=   0.0s\n",
      "[CV 1/10] END max_depth=7, max_features=3, min_samples_split=50;, score=(train=-0.064, test=-0.069) total time=   0.0s\n",
      "[CV 2/10] END max_depth=7, max_features=3, min_samples_split=50;, score=(train=-0.071, test=-0.081) total time=   0.0s\n",
      "[CV 3/10] END max_depth=7, max_features=3, min_samples_split=50;, score=(train=-0.058, test=-0.061) total time=   0.0s\n",
      "[CV 4/10] END max_depth=7, max_features=3, min_samples_split=50;, score=(train=-0.081, test=-0.085) total time=   0.0s\n"
     ]
    },
    {
     "name": "stdout",
     "output_type": "stream",
     "text": [
      "[CV 5/10] END max_depth=7, max_features=3, min_samples_split=50;, score=(train=-0.065, test=-0.065) total time=   0.0s\n",
      "[CV 6/10] END max_depth=7, max_features=3, min_samples_split=50;, score=(train=-0.076, test=-0.080) total time=   0.0s\n",
      "[CV 7/10] END max_depth=7, max_features=3, min_samples_split=50;, score=(train=-0.050, test=-0.053) total time=   0.0s\n",
      "[CV 8/10] END max_depth=7, max_features=3, min_samples_split=50;, score=(train=-0.067, test=-0.072) total time=   0.0s\n",
      "[CV 9/10] END max_depth=7, max_features=3, min_samples_split=50;, score=(train=-0.069, test=-0.075) total time=   0.0s\n",
      "[CV 10/10] END max_depth=7, max_features=3, min_samples_split=50;, score=(train=-0.082, test=-0.090) total time=   0.0s\n",
      "[CV 1/10] END max_depth=7, max_features=3, min_samples_split=100;, score=(train=-0.076, test=-0.081) total time=   0.0s\n",
      "[CV 2/10] END max_depth=7, max_features=3, min_samples_split=100;, score=(train=-0.072, test=-0.078) total time=   0.0s\n",
      "[CV 3/10] END max_depth=7, max_features=3, min_samples_split=100;, score=(train=-0.057, test=-0.062) total time=   0.0s\n",
      "[CV 4/10] END max_depth=7, max_features=3, min_samples_split=100;, score=(train=-0.066, test=-0.076) total time=   0.0s\n",
      "[CV 5/10] END max_depth=7, max_features=3, min_samples_split=100;, score=(train=-0.082, test=-0.084) total time=   0.0s\n",
      "[CV 6/10] END max_depth=7, max_features=3, min_samples_split=100;, score=(train=-0.083, test=-0.084) total time=   0.0s\n",
      "[CV 7/10] END max_depth=7, max_features=3, min_samples_split=100;, score=(train=-0.054, test=-0.055) total time=   0.0s\n",
      "[CV 8/10] END max_depth=7, max_features=3, min_samples_split=100;, score=(train=-0.062, test=-0.072) total time=   0.0s\n",
      "[CV 9/10] END max_depth=7, max_features=3, min_samples_split=100;, score=(train=-0.052, test=-0.058) total time=   0.0s\n",
      "[CV 10/10] END max_depth=7, max_features=3, min_samples_split=100;, score=(train=-0.067, test=-0.070) total time=   0.0s\n",
      "[CV 1/10] END max_depth=7, max_features=4, min_samples_split=10;, score=(train=-0.045, test=-0.053) total time=   0.0s\n",
      "[CV 2/10] END max_depth=7, max_features=4, min_samples_split=10;, score=(train=-0.048, test=-0.054) total time=   0.0s\n",
      "[CV 3/10] END max_depth=7, max_features=4, min_samples_split=10;, score=(train=-0.058, test=-0.067) total time=   0.0s\n",
      "[CV 4/10] END max_depth=7, max_features=4, min_samples_split=10;, score=(train=-0.056, test=-0.062) total time=   0.0s\n",
      "[CV 5/10] END max_depth=7, max_features=4, min_samples_split=10;, score=(train=-0.047, test=-0.050) total time=   0.0s\n",
      "[CV 6/10] END max_depth=7, max_features=4, min_samples_split=10;, score=(train=-0.054, test=-0.064) total time=   0.0s\n",
      "[CV 7/10] END max_depth=7, max_features=4, min_samples_split=10;, score=(train=-0.064, test=-0.067) total time=   0.0s\n",
      "[CV 8/10] END max_depth=7, max_features=4, min_samples_split=10;, score=(train=-0.071, test=-0.083) total time=   0.0s\n",
      "[CV 9/10] END max_depth=7, max_features=4, min_samples_split=10;, score=(train=-0.071, test=-0.078) total time=   0.0s\n",
      "[CV 10/10] END max_depth=7, max_features=4, min_samples_split=10;, score=(train=-0.066, test=-0.065) total time=   0.0s\n",
      "[CV 1/10] END max_depth=7, max_features=4, min_samples_split=50;, score=(train=-0.062, test=-0.071) total time=   0.0s\n",
      "[CV 2/10] END max_depth=7, max_features=4, min_samples_split=50;, score=(train=-0.078, test=-0.084) total time=   0.0s\n",
      "[CV 3/10] END max_depth=7, max_features=4, min_samples_split=50;, score=(train=-0.055, test=-0.058) total time=   0.0s\n",
      "[CV 4/10] END max_depth=7, max_features=4, min_samples_split=50;, score=(train=-0.050, test=-0.053) total time=   0.0s\n",
      "[CV 5/10] END max_depth=7, max_features=4, min_samples_split=50;, score=(train=-0.053, test=-0.055) total time=   0.0s\n",
      "[CV 6/10] END max_depth=7, max_features=4, min_samples_split=50;, score=(train=-0.064, test=-0.075) total time=   0.0s\n",
      "[CV 7/10] END max_depth=7, max_features=4, min_samples_split=50;, score=(train=-0.059, test=-0.061) total time=   0.0s\n",
      "[CV 8/10] END max_depth=7, max_features=4, min_samples_split=50;, score=(train=-0.060, test=-0.068) total time=   0.0s\n",
      "[CV 9/10] END max_depth=7, max_features=4, min_samples_split=50;, score=(train=-0.051, test=-0.059) total time=   0.0s\n",
      "[CV 10/10] END max_depth=7, max_features=4, min_samples_split=50;, score=(train=-0.067, test=-0.069) total time=   0.0s\n",
      "[CV 1/10] END max_depth=7, max_features=4, min_samples_split=100;, score=(train=-0.050, test=-0.057) total time=   0.0s\n",
      "[CV 2/10] END max_depth=7, max_features=4, min_samples_split=100;, score=(train=-0.046, test=-0.050) total time=   0.0s\n",
      "[CV 3/10] END max_depth=7, max_features=4, min_samples_split=100;, score=(train=-0.046, test=-0.049) total time=   0.0s\n",
      "[CV 4/10] END max_depth=7, max_features=4, min_samples_split=100;, score=(train=-0.074, test=-0.079) total time=   0.0s\n",
      "[CV 5/10] END max_depth=7, max_features=4, min_samples_split=100;, score=(train=-0.047, test=-0.049) total time=   0.0s\n",
      "[CV 6/10] END max_depth=7, max_features=4, min_samples_split=100;, score=(train=-0.050, test=-0.056) total time=   0.0s\n",
      "[CV 7/10] END max_depth=7, max_features=4, min_samples_split=100;, score=(train=-0.082, test=-0.083) total time=   0.0s\n",
      "[CV 8/10] END max_depth=7, max_features=4, min_samples_split=100;, score=(train=-0.053, test=-0.064) total time=   0.0s\n",
      "[CV 9/10] END max_depth=7, max_features=4, min_samples_split=100;, score=(train=-0.065, test=-0.068) total time=   0.0s\n",
      "[CV 10/10] END max_depth=7, max_features=4, min_samples_split=100;, score=(train=-0.059, test=-0.063) total time=   0.0s\n"
     ]
    },
    {
     "data": {
      "text/plain": [
       "GridSearchCV(cv=10, estimator=DecisionTreeRegressor(),\n",
       "             param_grid={'max_depth': [4, 5, 6, 7],\n",
       "                         'max_features': [1, 2, 3, 4],\n",
       "                         'min_samples_split': [10, 50, 100]},\n",
       "             return_train_score=True, scoring='neg_mean_squared_error',\n",
       "             verbose=6)"
      ]
     },
     "execution_count": 53,
     "metadata": {},
     "output_type": "execute_result"
    }
   ],
   "source": [
    "# ajustamos el modelo de nuevo\n",
    "\n",
    "%time\n",
    "gs.fit(X_train, y_train)"
   ]
  },
  {
   "cell_type": "code",
   "execution_count": 54,
   "id": "0d38e394",
   "metadata": {},
   "outputs": [
    {
     "data": {
      "text/plain": [
       "DecisionTreeRegressor(max_depth=7, max_features=4, min_samples_split=100)"
      ]
     },
     "execution_count": 54,
     "metadata": {},
     "output_type": "execute_result"
    }
   ],
   "source": [
    "# sacamos cual es el mejor de todos los que hemos testeado usando el método best_estimator_\n",
    "\n",
    "best_tree = gs.best_estimator_\n",
    "best_tree\n"
   ]
  },
  {
   "cell_type": "code",
   "execution_count": 55,
   "id": "064ef36d",
   "metadata": {},
   "outputs": [
    {
     "data": {
      "image/png": "[encoded data removed]",
      "text/plain": [
       "<Figure size 864x432 with 1 Axes>"
      ]
     },
     "metadata": {
      "needs_background": "light"
     },
     "output_type": "display_data"
    }
   ],
   "source": [
    "# vamos a visualizar el árbol a ver como se ve: \n",
    "\n",
    "fig = plt.figure(figsize=(12, 6))\n",
    "tree.plot_tree(best_tree, feature_names=X_train.columns, filled=True);"
   ]
  },
  {
   "cell_type": "markdown",
   "id": "560730e5",
   "metadata": {},
   "source": [
    "ahora a predecir:"
   ]
  },
  {
   "cell_type": "code",
   "execution_count": 56,
   "id": "9dfd1f83",
   "metadata": {},
   "outputs": [],
   "source": [
    "y_pred_test_dt2 = best_tree.predict(X_test)\n",
    "y_pred_train_dt2 = best_tree.predict(X_train)"
   ]
  },
  {
   "cell_type": "code",
   "execution_count": 57,
   "id": "c062e794",
   "metadata": {
    "scrolled": true
   },
   "outputs": [
    {
     "data": {
      "text/html": [
       "<div>\n",
       "<style scoped>\n",
       "    .dataframe tbody tr th:only-of-type {\n",
       "        vertical-align: middle;\n",
       "    }\n",
       "\n",
       "    .dataframe tbody tr th {\n",
       "        vertical-align: top;\n",
       "    }\n",
       "\n",
       "    .dataframe thead th {\n",
       "        text-align: right;\n",
       "    }\n",
       "</style>\n",
       "<table border=\"1\" class=\"dataframe\">\n",
       "  <thead>\n",
       "    <tr style=\"text-align: right;\">\n",
       "      <th></th>\n",
       "      <th>MAE</th>\n",
       "      <th>MSE</th>\n",
       "      <th>RMSE</th>\n",
       "      <th>R2</th>\n",
       "      <th>set</th>\n",
       "      <th>modelo</th>\n",
       "    </tr>\n",
       "  </thead>\n",
       "  <tbody>\n",
       "    <tr>\n",
       "      <th>0</th>\n",
       "      <td>0.168589</td>\n",
       "      <td>0.051208</td>\n",
       "      <td>0.226293</td>\n",
       "      <td>0.739329</td>\n",
       "      <td>test</td>\n",
       "      <td>Decision tree II</td>\n",
       "    </tr>\n",
       "    <tr>\n",
       "      <th>1</th>\n",
       "      <td>0.158697</td>\n",
       "      <td>0.045275</td>\n",
       "      <td>0.212779</td>\n",
       "      <td>0.768392</td>\n",
       "      <td>train</td>\n",
       "      <td>Decision tree II</td>\n",
       "    </tr>\n",
       "  </tbody>\n",
       "</table>\n",
       "</div>"
      ],
      "text/plain": [
       "        MAE       MSE      RMSE        R2    set            modelo\n",
       "0  0.168589  0.051208  0.226293  0.739329   test  Decision tree II\n",
       "1  0.158697  0.045275  0.212779  0.768392  train  Decision tree II"
      ]
     },
     "execution_count": 57,
     "metadata": {},
     "output_type": "execute_result"
    }
   ],
   "source": [
    "dt_results2 = metricas(y_test, y_train, y_pred_test_dt2, y_pred_train_dt2, \"Decision tree II\")\n",
    "dt_results2"
   ]
  },
  {
   "cell_type": "markdown",
   "id": "eb9e3fb0",
   "metadata": {},
   "source": [
    "podemos ver que no tiene tanto overiting..."
   ]
  },
  {
   "cell_type": "markdown",
   "id": "f945e149",
   "metadata": {},
   "source": [
    "ahora vamos a comparar los metodos utilizados hasta el momento:"
   ]
  },
  {
   "cell_type": "code",
   "execution_count": 58,
   "id": "5369117a",
   "metadata": {},
   "outputs": [
    {
     "data": {
      "text/html": [
       "<div>\n",
       "<style scoped>\n",
       "    .dataframe tbody tr th:only-of-type {\n",
       "        vertical-align: middle;\n",
       "    }\n",
       "\n",
       "    .dataframe tbody tr th {\n",
       "        vertical-align: top;\n",
       "    }\n",
       "\n",
       "    .dataframe thead th {\n",
       "        text-align: right;\n",
       "    }\n",
       "</style>\n",
       "<table border=\"1\" class=\"dataframe\">\n",
       "  <thead>\n",
       "    <tr style=\"text-align: right;\">\n",
       "      <th></th>\n",
       "      <th>MAE</th>\n",
       "      <th>MSE</th>\n",
       "      <th>RMSE</th>\n",
       "      <th>R2</th>\n",
       "      <th>set</th>\n",
       "      <th>modelo</th>\n",
       "    </tr>\n",
       "  </thead>\n",
       "  <tbody>\n",
       "    <tr>\n",
       "      <th>0</th>\n",
       "      <td>0.181303</td>\n",
       "      <td>0.054454</td>\n",
       "      <td>0.233355</td>\n",
       "      <td>0.722805</td>\n",
       "      <td>test</td>\n",
       "      <td>Regresion lineal</td>\n",
       "    </tr>\n",
       "    <tr>\n",
       "      <th>1</th>\n",
       "      <td>0.180144</td>\n",
       "      <td>0.054077</td>\n",
       "      <td>0.232545</td>\n",
       "      <td>0.723365</td>\n",
       "      <td>train</td>\n",
       "      <td>Regresion lineal</td>\n",
       "    </tr>\n",
       "    <tr>\n",
       "      <th>0</th>\n",
       "      <td>0.165695</td>\n",
       "      <td>0.053371</td>\n",
       "      <td>0.231021</td>\n",
       "      <td>0.728322</td>\n",
       "      <td>test</td>\n",
       "      <td>Decission Tree I</td>\n",
       "    </tr>\n",
       "    <tr>\n",
       "      <th>1</th>\n",
       "      <td>0.002254</td>\n",
       "      <td>0.000603</td>\n",
       "      <td>0.024556</td>\n",
       "      <td>0.996915</td>\n",
       "      <td>train</td>\n",
       "      <td>Decission Tree I</td>\n",
       "    </tr>\n",
       "    <tr>\n",
       "      <th>0</th>\n",
       "      <td>0.168589</td>\n",
       "      <td>0.051208</td>\n",
       "      <td>0.226293</td>\n",
       "      <td>0.739329</td>\n",
       "      <td>test</td>\n",
       "      <td>Decision tree II</td>\n",
       "    </tr>\n",
       "    <tr>\n",
       "      <th>1</th>\n",
       "      <td>0.158697</td>\n",
       "      <td>0.045275</td>\n",
       "      <td>0.212779</td>\n",
       "      <td>0.768392</td>\n",
       "      <td>train</td>\n",
       "      <td>Decision tree II</td>\n",
       "    </tr>\n",
       "  </tbody>\n",
       "</table>\n",
       "</div>"
      ],
      "text/plain": [
       "        MAE       MSE      RMSE        R2    set            modelo\n",
       "0  0.181303  0.054454  0.233355  0.722805   test  Regresion lineal\n",
       "1  0.180144  0.054077  0.232545  0.723365  train  Regresion lineal\n",
       "0  0.165695  0.053371  0.231021  0.728322   test  Decission Tree I\n",
       "1  0.002254  0.000603  0.024556  0.996915  train  Decission Tree I\n",
       "0  0.168589  0.051208  0.226293  0.739329   test  Decision tree II\n",
       "1  0.158697  0.045275  0.212779  0.768392  train  Decision tree II"
      ]
     },
     "execution_count": 58,
     "metadata": {},
     "output_type": "execute_result"
    }
   ],
   "source": [
    "df_all = pd.concat([lr_results, dt_results1, dt_results2], axis = 0)\n",
    "df_all"
   ]
  },
  {
   "cell_type": "code",
   "execution_count": 59,
   "id": "3d4640b5",
   "metadata": {},
   "outputs": [
    {
     "name": "stderr",
     "output_type": "stream",
     "text": [
      "/Users/eduardoarroyo/opt/anaconda3/lib/python3.9/site-packages/seaborn/_decorators.py:36: FutureWarning: Pass the following variables as keyword args: x, y. From version 0.12, the only valid positional argument will be `data`, and passing other arguments without an explicit keyword will result in an error or misinterpretation.\n",
      "  warnings.warn(\n",
      "/Users/eduardoarroyo/opt/anaconda3/lib/python3.9/site-packages/seaborn/_decorators.py:36: FutureWarning: Pass the following variables as keyword args: x, y. From version 0.12, the only valid positional argument will be `data`, and passing other arguments without an explicit keyword will result in an error or misinterpretation.\n",
      "  warnings.warn(\n"
     ]
    },
    {
     "data": {
      "image/png": "[encoded data removed]",
      "text/plain": [
       "<Figure size 1080x360 with 2 Axes>"
      ]
     },
     "metadata": {
      "needs_background": "light"
     },
     "output_type": "display_data"
    }
   ],
   "source": [
    "fig, axes = plt.subplots(1,2, figsize =(15,5))\n",
    "\n",
    "sns.barplot(df_all.modelo, df_all.RMSE, hue = df_all.set, ax = axes[0], palette=\"mako\")\n",
    "sns.barplot(df_all.modelo, df_all.R2, hue = df_all.set, ax = axes[1], palette = \"mako\");"
   ]
  },
  {
   "cell_type": "markdown",
   "id": "2da50640",
   "metadata": {},
   "source": [
    "Vamos a ver la importancia de cada variable por si podemos simplificar los modelos:"
   ]
  },
  {
   "cell_type": "code",
   "execution_count": 60,
   "id": "51eeae67",
   "metadata": {},
   "outputs": [],
   "source": [
    "importancia_predictores = pd.DataFrame(\n",
    "                            {'predictor': X_train.columns,\n",
    "                             'importancia': regressor.feature_importances_}\n",
    "                            )"
   ]
  },
  {
   "cell_type": "code",
   "execution_count": 61,
   "id": "3ef70131",
   "metadata": {},
   "outputs": [],
   "source": [
    "# ordenamos los resultados\n",
    "\n",
    "importancia_predictores.sort_values( ascending=False, by= \"importancia\", inplace=True)"
   ]
  },
  {
   "cell_type": "code",
   "execution_count": 62,
   "id": "c3578e0a",
   "metadata": {},
   "outputs": [
    {
     "name": "stdout",
     "output_type": "stream",
     "text": [
      "Importancia de los predictores en el modelo\n",
      "-------------------------------------------\n"
     ]
    },
    {
     "data": {
      "text/html": [
       "<div>\n",
       "<style scoped>\n",
       "    .dataframe tbody tr th:only-of-type {\n",
       "        vertical-align: middle;\n",
       "    }\n",
       "\n",
       "    .dataframe tbody tr th {\n",
       "        vertical-align: top;\n",
       "    }\n",
       "\n",
       "    .dataframe thead th {\n",
       "        text-align: right;\n",
       "    }\n",
       "</style>\n",
       "<table border=\"1\" class=\"dataframe\">\n",
       "  <thead>\n",
       "    <tr style=\"text-align: right;\">\n",
       "      <th></th>\n",
       "      <th>predictor</th>\n",
       "      <th>importancia</th>\n",
       "    </tr>\n",
       "  </thead>\n",
       "  <tbody>\n",
       "    <tr>\n",
       "      <th>15</th>\n",
       "      <td>lat_ES</td>\n",
       "      <td>0.481250</td>\n",
       "    </tr>\n",
       "    <tr>\n",
       "      <th>3</th>\n",
       "      <td>sqft_living_ES</td>\n",
       "      <td>0.297056</td>\n",
       "    </tr>\n",
       "    <tr>\n",
       "      <th>16</th>\n",
       "      <td>long_ES</td>\n",
       "      <td>0.051340</td>\n",
       "    </tr>\n",
       "    <tr>\n",
       "      <th>9</th>\n",
       "      <td>grade_ES</td>\n",
       "      <td>0.043682</td>\n",
       "    </tr>\n",
       "    <tr>\n",
       "      <th>17</th>\n",
       "      <td>sqft_living15_ES</td>\n",
       "      <td>0.025851</td>\n",
       "    </tr>\n",
       "    <tr>\n",
       "      <th>12</th>\n",
       "      <td>yr_built_ES</td>\n",
       "      <td>0.017135</td>\n",
       "    </tr>\n",
       "    <tr>\n",
       "      <th>4</th>\n",
       "      <td>sqft_lot_ES</td>\n",
       "      <td>0.015807</td>\n",
       "    </tr>\n",
       "    <tr>\n",
       "      <th>10</th>\n",
       "      <td>sqft_above_ES</td>\n",
       "      <td>0.014068</td>\n",
       "    </tr>\n",
       "    <tr>\n",
       "      <th>18</th>\n",
       "      <td>sqft_lot15_ES</td>\n",
       "      <td>0.013479</td>\n",
       "    </tr>\n",
       "    <tr>\n",
       "      <th>14</th>\n",
       "      <td>zipcode_ES</td>\n",
       "      <td>0.009394</td>\n",
       "    </tr>\n",
       "    <tr>\n",
       "      <th>8</th>\n",
       "      <td>condition_ES</td>\n",
       "      <td>0.006579</td>\n",
       "    </tr>\n",
       "    <tr>\n",
       "      <th>7</th>\n",
       "      <td>view_ES</td>\n",
       "      <td>0.005900</td>\n",
       "    </tr>\n",
       "    <tr>\n",
       "      <th>2</th>\n",
       "      <td>bathrooms_ES</td>\n",
       "      <td>0.005662</td>\n",
       "    </tr>\n",
       "    <tr>\n",
       "      <th>11</th>\n",
       "      <td>sqft_basement_ES</td>\n",
       "      <td>0.004822</td>\n",
       "    </tr>\n",
       "    <tr>\n",
       "      <th>1</th>\n",
       "      <td>bedrooms_ES</td>\n",
       "      <td>0.003242</td>\n",
       "    </tr>\n",
       "    <tr>\n",
       "      <th>5</th>\n",
       "      <td>floors_ES</td>\n",
       "      <td>0.001761</td>\n",
       "    </tr>\n",
       "    <tr>\n",
       "      <th>13</th>\n",
       "      <td>yr_renovated_ES</td>\n",
       "      <td>0.001421</td>\n",
       "    </tr>\n",
       "    <tr>\n",
       "      <th>6</th>\n",
       "      <td>waterfront_ES</td>\n",
       "      <td>0.001028</td>\n",
       "    </tr>\n",
       "    <tr>\n",
       "      <th>0</th>\n",
       "      <td>renovated</td>\n",
       "      <td>0.000524</td>\n",
       "    </tr>\n",
       "  </tbody>\n",
       "</table>\n",
       "</div>"
      ],
      "text/plain": [
       "           predictor  importancia\n",
       "15            lat_ES     0.481250\n",
       "3     sqft_living_ES     0.297056\n",
       "16           long_ES     0.051340\n",
       "9           grade_ES     0.043682\n",
       "17  sqft_living15_ES     0.025851\n",
       "12       yr_built_ES     0.017135\n",
       "4        sqft_lot_ES     0.015807\n",
       "10     sqft_above_ES     0.014068\n",
       "18     sqft_lot15_ES     0.013479\n",
       "14        zipcode_ES     0.009394\n",
       "8       condition_ES     0.006579\n",
       "7            view_ES     0.005900\n",
       "2       bathrooms_ES     0.005662\n",
       "11  sqft_basement_ES     0.004822\n",
       "1        bedrooms_ES     0.003242\n",
       "5          floors_ES     0.001761\n",
       "13   yr_renovated_ES     0.001421\n",
       "6      waterfront_ES     0.001028\n",
       "0          renovated     0.000524"
      ]
     },
     "execution_count": 62,
     "metadata": {},
     "output_type": "execute_result"
    }
   ],
   "source": [
    "\n",
    "print(\"Importancia de los predictores en el modelo\")\n",
    "print(\"-------------------------------------------\")\n",
    "importancia_predictores"
   ]
  },
  {
   "cell_type": "code",
   "execution_count": 63,
   "id": "c015f427",
   "metadata": {
    "scrolled": true
   },
   "outputs": [
    {
     "data": {
      "image/png": "[encoded data removed]",
      "text/plain": [
       "<Figure size 432x288 with 1 Axes>"
      ]
     },
     "metadata": {
      "needs_background": "light"
     },
     "output_type": "display_data"
    }
   ],
   "source": [
    "#y por último los ploteamos\n",
    "\n",
    "sns.barplot(x = \"importancia\", y = \"predictor\", data = importancia_predictores, palette=\"viridis\");"
   ]
  },
  {
   "cell_type": "markdown",
   "id": "5d5cd150",
   "metadata": {},
   "source": [
    "#### Usamos la Random Forest"
   ]
  },
  {
   "cell_type": "markdown",
   "id": "41f3879b",
   "metadata": {},
   "source": [
    "Ajustamos el modelo usando GridSearch"
   ]
  },
  {
   "cell_type": "code",
   "execution_count": 64,
   "id": "673c54c3",
   "metadata": {},
   "outputs": [],
   "source": [
    "param = {\"max_depth\": [4, 5, 6, 7],\n",
    "        \"min_samples_split\": [10, 50, 100],\n",
    "        \"max_features\": [1,2,3,4]}\n",
    "\n",
    "bosque = GridSearchCV(\n",
    "            estimator=RandomForestRegressor(),\n",
    "            param_grid= param,\n",
    "            cv=10,\n",
    "            verbose=6,\n",
    "            return_train_score = True,\n",
    "            scoring=\"neg_mean_squared_error\")"
   ]
  },
  {
   "cell_type": "code",
   "execution_count": 65,
   "id": "42dddb5a",
   "metadata": {},
   "outputs": [
    {
     "name": "stdout",
     "output_type": "stream",
     "text": [
      "CPU times: user 3 µs, sys: 1e+03 ns, total: 4 µs\n",
      "Wall time: 5.72 µs\n",
      "Fitting 10 folds for each of 48 candidates, totalling 480 fits\n",
      "[CV 1/10] END max_depth=4, max_features=1, min_samples_split=10;, score=(train=-0.099, test=-0.097) total time=   0.4s\n",
      "[CV 2/10] END max_depth=4, max_features=1, min_samples_split=10;, score=(train=-0.096, test=-0.099) total time=   0.3s\n",
      "[CV 3/10] END max_depth=4, max_features=1, min_samples_split=10;, score=(train=-0.101, test=-0.106) total time=   0.3s\n",
      "[CV 4/10] END max_depth=4, max_features=1, min_samples_split=10;, score=(train=-0.098, test=-0.104) total time=   0.4s\n",
      "[CV 5/10] END max_depth=4, max_features=1, min_samples_split=10;, score=(train=-0.104, test=-0.098) total time=   0.3s\n",
      "[CV 6/10] END max_depth=4, max_features=1, min_samples_split=10;, score=(train=-0.105, test=-0.106) total time=   0.3s\n",
      "[CV 7/10] END max_depth=4, max_features=1, min_samples_split=10;, score=(train=-0.094, test=-0.092) total time=   0.4s\n",
      "[CV 8/10] END max_depth=4, max_features=1, min_samples_split=10;, score=(train=-0.104, test=-0.106) total time=   0.3s\n",
      "[CV 9/10] END max_depth=4, max_features=1, min_samples_split=10;, score=(train=-0.102, test=-0.106) total time=   0.3s\n",
      "[CV 10/10] END max_depth=4, max_features=1, min_samples_split=10;, score=(train=-0.101, test=-0.099) total time=   0.3s\n",
      "[CV 1/10] END max_depth=4, max_features=1, min_samples_split=50;, score=(train=-0.102, test=-0.101) total time=   0.3s\n",
      "[CV 2/10] END max_depth=4, max_features=1, min_samples_split=50;, score=(train=-0.104, test=-0.107) total time=   0.4s\n",
      "[CV 3/10] END max_depth=4, max_features=1, min_samples_split=50;, score=(train=-0.100, test=-0.106) total time=   0.4s\n",
      "[CV 4/10] END max_depth=4, max_features=1, min_samples_split=50;, score=(train=-0.094, test=-0.100) total time=   0.4s\n",
      "[CV 5/10] END max_depth=4, max_features=1, min_samples_split=50;, score=(train=-0.104, test=-0.099) total time=   0.3s\n",
      "[CV 6/10] END max_depth=4, max_features=1, min_samples_split=50;, score=(train=-0.104, test=-0.105) total time=   0.3s\n",
      "[CV 7/10] END max_depth=4, max_features=1, min_samples_split=50;, score=(train=-0.107, test=-0.105) total time=   0.3s\n",
      "[CV 8/10] END max_depth=4, max_features=1, min_samples_split=50;, score=(train=-0.102, test=-0.104) total time=   0.3s\n",
      "[CV 9/10] END max_depth=4, max_features=1, min_samples_split=50;, score=(train=-0.101, test=-0.106) total time=   0.3s\n",
      "[CV 10/10] END max_depth=4, max_features=1, min_samples_split=50;, score=(train=-0.103, test=-0.100) total time=   0.4s\n",
      "[CV 1/10] END max_depth=4, max_features=1, min_samples_split=100;, score=(train=-0.098, test=-0.096) total time=   0.4s\n",
      "[CV 2/10] END max_depth=4, max_features=1, min_samples_split=100;, score=(train=-0.097, test=-0.100) total time=   0.3s\n",
      "[CV 3/10] END max_depth=4, max_features=1, min_samples_split=100;, score=(train=-0.096, test=-0.101) total time=   0.3s\n",
      "[CV 4/10] END max_depth=4, max_features=1, min_samples_split=100;, score=(train=-0.096, test=-0.101) total time=   0.3s\n",
      "[CV 5/10] END max_depth=4, max_features=1, min_samples_split=100;, score=(train=-0.100, test=-0.095) total time=   0.4s\n",
      "[CV 6/10] END max_depth=4, max_features=1, min_samples_split=100;, score=(train=-0.102, test=-0.102) total time=   0.4s\n",
      "[CV 7/10] END max_depth=4, max_features=1, min_samples_split=100;, score=(train=-0.103, test=-0.101) total time=   0.3s\n",
      "[CV 8/10] END max_depth=4, max_features=1, min_samples_split=100;, score=(train=-0.101, test=-0.103) total time=   0.3s\n",
      "[CV 9/10] END max_depth=4, max_features=1, min_samples_split=100;, score=(train=-0.095, test=-0.099) total time=   0.4s\n",
      "[CV 10/10] END max_depth=4, max_features=1, min_samples_split=100;, score=(train=-0.099, test=-0.096) total time=   0.3s\n",
      "[CV 1/10] END max_depth=4, max_features=2, min_samples_split=10;, score=(train=-0.076, test=-0.075) total time=   0.5s\n",
      "[CV 2/10] END max_depth=4, max_features=2, min_samples_split=10;, score=(train=-0.075, test=-0.077) total time=   0.5s\n",
      "[CV 3/10] END max_depth=4, max_features=2, min_samples_split=10;, score=(train=-0.075, test=-0.079) total time=   0.5s\n",
      "[CV 4/10] END max_depth=4, max_features=2, min_samples_split=10;, score=(train=-0.074, test=-0.079) total time=   0.5s\n",
      "[CV 5/10] END max_depth=4, max_features=2, min_samples_split=10;, score=(train=-0.077, test=-0.074) total time=   0.5s\n",
      "[CV 6/10] END max_depth=4, max_features=2, min_samples_split=10;, score=(train=-0.076, test=-0.076) total time=   0.5s\n",
      "[CV 7/10] END max_depth=4, max_features=2, min_samples_split=10;, score=(train=-0.082, test=-0.080) total time=   0.5s\n",
      "[CV 8/10] END max_depth=4, max_features=2, min_samples_split=10;, score=(train=-0.080, test=-0.083) total time=   0.5s\n",
      "[CV 9/10] END max_depth=4, max_features=2, min_samples_split=10;, score=(train=-0.077, test=-0.081) total time=   0.5s\n",
      "[CV 10/10] END max_depth=4, max_features=2, min_samples_split=10;, score=(train=-0.075, test=-0.073) total time=   0.5s\n",
      "[CV 1/10] END max_depth=4, max_features=2, min_samples_split=50;, score=(train=-0.075, test=-0.075) total time=   0.6s\n",
      "[CV 2/10] END max_depth=4, max_features=2, min_samples_split=50;, score=(train=-0.075, test=-0.077) total time=   0.6s\n",
      "[CV 3/10] END max_depth=4, max_features=2, min_samples_split=50;, score=(train=-0.074, test=-0.079) total time=   0.5s\n",
      "[CV 4/10] END max_depth=4, max_features=2, min_samples_split=50;, score=(train=-0.073, test=-0.078) total time=   0.5s\n",
      "[CV 5/10] END max_depth=4, max_features=2, min_samples_split=50;, score=(train=-0.078, test=-0.074) total time=   0.5s\n",
      "[CV 6/10] END max_depth=4, max_features=2, min_samples_split=50;, score=(train=-0.077, test=-0.078) total time=   0.5s\n",
      "[CV 7/10] END max_depth=4, max_features=2, min_samples_split=50;, score=(train=-0.076, test=-0.074) total time=   0.5s\n",
      "[CV 8/10] END max_depth=4, max_features=2, min_samples_split=50;, score=(train=-0.079, test=-0.082) total time=   0.5s\n",
      "[CV 9/10] END max_depth=4, max_features=2, min_samples_split=50;, score=(train=-0.075, test=-0.080) total time=   0.5s\n",
      "[CV 10/10] END max_depth=4, max_features=2, min_samples_split=50;, score=(train=-0.074, test=-0.072) total time=   0.5s\n",
      "[CV 1/10] END max_depth=4, max_features=2, min_samples_split=100;, score=(train=-0.075, test=-0.075) total time=   0.6s\n",
      "[CV 2/10] END max_depth=4, max_features=2, min_samples_split=100;, score=(train=-0.074, test=-0.075) total time=   0.5s\n",
      "[CV 3/10] END max_depth=4, max_features=2, min_samples_split=100;, score=(train=-0.074, test=-0.077) total time=   0.6s\n",
      "[CV 4/10] END max_depth=4, max_features=2, min_samples_split=100;, score=(train=-0.074, test=-0.079) total time=   0.5s\n",
      "[CV 5/10] END max_depth=4, max_features=2, min_samples_split=100;, score=(train=-0.075, test=-0.071) total time=   0.5s\n",
      "[CV 6/10] END max_depth=4, max_features=2, min_samples_split=100;, score=(train=-0.077, test=-0.077) total time=   0.5s\n",
      "[CV 7/10] END max_depth=4, max_features=2, min_samples_split=100;, score=(train=-0.077, test=-0.075) total time=   0.5s\n",
      "[CV 8/10] END max_depth=4, max_features=2, min_samples_split=100;, score=(train=-0.074, test=-0.078) total time=   0.5s\n",
      "[CV 9/10] END max_depth=4, max_features=2, min_samples_split=100;, score=(train=-0.074, test=-0.079) total time=   0.5s\n",
      "[CV 10/10] END max_depth=4, max_features=2, min_samples_split=100;, score=(train=-0.077, test=-0.075) total time=   0.5s\n",
      "[CV 1/10] END max_depth=4, max_features=3, min_samples_split=10;, score=(train=-0.064, test=-0.064) total time=   0.6s\n",
      "[CV 2/10] END max_depth=4, max_features=3, min_samples_split=10;, score=(train=-0.063, test=-0.063) total time=   0.6s\n",
      "[CV 3/10] END max_depth=4, max_features=3, min_samples_split=10;, score=(train=-0.065, test=-0.068) total time=   0.6s\n",
      "[CV 4/10] END max_depth=4, max_features=3, min_samples_split=10;, score=(train=-0.063, test=-0.068) total time=   0.7s\n",
      "[CV 5/10] END max_depth=4, max_features=3, min_samples_split=10;, score=(train=-0.064, test=-0.061) total time=   0.6s\n",
      "[CV 6/10] END max_depth=4, max_features=3, min_samples_split=10;, score=(train=-0.064, test=-0.065) total time=   0.6s\n",
      "[CV 7/10] END max_depth=4, max_features=3, min_samples_split=10;, score=(train=-0.062, test=-0.061) total time=   0.6s\n",
      "[CV 8/10] END max_depth=4, max_features=3, min_samples_split=10;, score=(train=-0.063, test=-0.067) total time=   0.7s\n"
     ]
    },
    {
     "name": "stdout",
     "output_type": "stream",
     "text": [
      "[CV 9/10] END max_depth=4, max_features=3, min_samples_split=10;, score=(train=-0.064, test=-0.069) total time=   0.7s\n",
      "[CV 10/10] END max_depth=4, max_features=3, min_samples_split=10;, score=(train=-0.063, test=-0.061) total time=   0.6s\n",
      "[CV 1/10] END max_depth=4, max_features=3, min_samples_split=50;, score=(train=-0.065, test=-0.064) total time=   0.6s\n",
      "[CV 2/10] END max_depth=4, max_features=3, min_samples_split=50;, score=(train=-0.063, test=-0.063) total time=   0.6s\n",
      "[CV 3/10] END max_depth=4, max_features=3, min_samples_split=50;, score=(train=-0.063, test=-0.066) total time=   0.6s\n",
      "[CV 4/10] END max_depth=4, max_features=3, min_samples_split=50;, score=(train=-0.063, test=-0.067) total time=   0.6s\n",
      "[CV 5/10] END max_depth=4, max_features=3, min_samples_split=50;, score=(train=-0.061, test=-0.058) total time=   0.6s\n",
      "[CV 6/10] END max_depth=4, max_features=3, min_samples_split=50;, score=(train=-0.067, test=-0.068) total time=   0.6s\n",
      "[CV 7/10] END max_depth=4, max_features=3, min_samples_split=50;, score=(train=-0.065, test=-0.063) total time=   0.6s\n",
      "[CV 8/10] END max_depth=4, max_features=3, min_samples_split=50;, score=(train=-0.061, test=-0.065) total time=   0.6s\n",
      "[CV 9/10] END max_depth=4, max_features=3, min_samples_split=50;, score=(train=-0.066, test=-0.070) total time=   0.7s\n",
      "[CV 10/10] END max_depth=4, max_features=3, min_samples_split=50;, score=(train=-0.063, test=-0.061) total time=   0.6s\n",
      "[CV 1/10] END max_depth=4, max_features=3, min_samples_split=100;, score=(train=-0.064, test=-0.064) total time=   0.6s\n",
      "[CV 2/10] END max_depth=4, max_features=3, min_samples_split=100;, score=(train=-0.062, test=-0.063) total time=   0.6s\n",
      "[CV 3/10] END max_depth=4, max_features=3, min_samples_split=100;, score=(train=-0.062, test=-0.066) total time=   0.6s\n",
      "[CV 4/10] END max_depth=4, max_features=3, min_samples_split=100;, score=(train=-0.064, test=-0.069) total time=   0.6s\n",
      "[CV 5/10] END max_depth=4, max_features=3, min_samples_split=100;, score=(train=-0.063, test=-0.059) total time=   0.6s\n",
      "[CV 6/10] END max_depth=4, max_features=3, min_samples_split=100;, score=(train=-0.064, test=-0.065) total time=   0.6s\n",
      "[CV 7/10] END max_depth=4, max_features=3, min_samples_split=100;, score=(train=-0.065, test=-0.062) total time=   0.6s\n",
      "[CV 8/10] END max_depth=4, max_features=3, min_samples_split=100;, score=(train=-0.061, test=-0.065) total time=   0.6s\n",
      "[CV 9/10] END max_depth=4, max_features=3, min_samples_split=100;, score=(train=-0.064, test=-0.068) total time=   0.6s\n",
      "[CV 10/10] END max_depth=4, max_features=3, min_samples_split=100;, score=(train=-0.064, test=-0.063) total time=   0.6s\n",
      "[CV 1/10] END max_depth=4, max_features=4, min_samples_split=10;, score=(train=-0.059, test=-0.059) total time=   0.7s\n",
      "[CV 2/10] END max_depth=4, max_features=4, min_samples_split=10;, score=(train=-0.059, test=-0.060) total time=   0.7s\n",
      "[CV 3/10] END max_depth=4, max_features=4, min_samples_split=10;, score=(train=-0.056, test=-0.059) total time=   0.8s\n",
      "[CV 4/10] END max_depth=4, max_features=4, min_samples_split=10;, score=(train=-0.059, test=-0.063) total time=   0.7s\n",
      "[CV 5/10] END max_depth=4, max_features=4, min_samples_split=10;, score=(train=-0.059, test=-0.055) total time=   0.7s\n",
      "[CV 6/10] END max_depth=4, max_features=4, min_samples_split=10;, score=(train=-0.058, test=-0.059) total time=   0.7s\n",
      "[CV 7/10] END max_depth=4, max_features=4, min_samples_split=10;, score=(train=-0.057, test=-0.055) total time=   0.7s\n",
      "[CV 8/10] END max_depth=4, max_features=4, min_samples_split=10;, score=(train=-0.059, test=-0.063) total time=   0.8s\n",
      "[CV 9/10] END max_depth=4, max_features=4, min_samples_split=10;, score=(train=-0.058, test=-0.062) total time=   0.8s\n",
      "[CV 10/10] END max_depth=4, max_features=4, min_samples_split=10;, score=(train=-0.058, test=-0.056) total time=   0.8s\n",
      "[CV 1/10] END max_depth=4, max_features=4, min_samples_split=50;, score=(train=-0.057, test=-0.057) total time=   0.8s\n",
      "[CV 2/10] END max_depth=4, max_features=4, min_samples_split=50;, score=(train=-0.058, test=-0.059) total time=   0.8s\n",
      "[CV 3/10] END max_depth=4, max_features=4, min_samples_split=50;, score=(train=-0.057, test=-0.060) total time=   0.8s\n",
      "[CV 4/10] END max_depth=4, max_features=4, min_samples_split=50;, score=(train=-0.058, test=-0.062) total time=   0.8s\n",
      "[CV 5/10] END max_depth=4, max_features=4, min_samples_split=50;, score=(train=-0.059, test=-0.056) total time=   0.8s\n",
      "[CV 6/10] END max_depth=4, max_features=4, min_samples_split=50;, score=(train=-0.056, test=-0.057) total time=   0.8s\n",
      "[CV 7/10] END max_depth=4, max_features=4, min_samples_split=50;, score=(train=-0.059, test=-0.057) total time=   0.8s\n",
      "[CV 8/10] END max_depth=4, max_features=4, min_samples_split=50;, score=(train=-0.057, test=-0.061) total time=   0.8s\n",
      "[CV 9/10] END max_depth=4, max_features=4, min_samples_split=50;, score=(train=-0.058, test=-0.063) total time=   0.8s\n",
      "[CV 10/10] END max_depth=4, max_features=4, min_samples_split=50;, score=(train=-0.057, test=-0.055) total time=   0.8s\n",
      "[CV 1/10] END max_depth=4, max_features=4, min_samples_split=100;, score=(train=-0.057, test=-0.057) total time=   0.8s\n",
      "[CV 2/10] END max_depth=4, max_features=4, min_samples_split=100;, score=(train=-0.060, test=-0.061) total time=   1.0s\n",
      "[CV 3/10] END max_depth=4, max_features=4, min_samples_split=100;, score=(train=-0.057, test=-0.060) total time=   0.8s\n",
      "[CV 4/10] END max_depth=4, max_features=4, min_samples_split=100;, score=(train=-0.057, test=-0.062) total time=   0.8s\n",
      "[CV 5/10] END max_depth=4, max_features=4, min_samples_split=100;, score=(train=-0.060, test=-0.056) total time=   0.8s\n",
      "[CV 6/10] END max_depth=4, max_features=4, min_samples_split=100;, score=(train=-0.057, test=-0.058) total time=   0.8s\n",
      "[CV 7/10] END max_depth=4, max_features=4, min_samples_split=100;, score=(train=-0.058, test=-0.056) total time=   0.8s\n",
      "[CV 8/10] END max_depth=4, max_features=4, min_samples_split=100;, score=(train=-0.055, test=-0.060) total time=   0.8s\n",
      "[CV 9/10] END max_depth=4, max_features=4, min_samples_split=100;, score=(train=-0.058, test=-0.062) total time=   1.0s\n",
      "[CV 10/10] END max_depth=4, max_features=4, min_samples_split=100;, score=(train=-0.059, test=-0.057) total time=   0.8s\n",
      "[CV 1/10] END max_depth=5, max_features=1, min_samples_split=10;, score=(train=-0.084, test=-0.084) total time=   0.4s\n",
      "[CV 2/10] END max_depth=5, max_features=1, min_samples_split=10;, score=(train=-0.087, test=-0.090) total time=   0.6s\n",
      "[CV 3/10] END max_depth=5, max_features=1, min_samples_split=10;, score=(train=-0.086, test=-0.092) total time=   0.5s\n",
      "[CV 4/10] END max_depth=5, max_features=1, min_samples_split=10;, score=(train=-0.087, test=-0.093) total time=   0.4s\n",
      "[CV 5/10] END max_depth=5, max_features=1, min_samples_split=10;, score=(train=-0.090, test=-0.085) total time=   0.4s\n",
      "[CV 6/10] END max_depth=5, max_features=1, min_samples_split=10;, score=(train=-0.091, test=-0.092) total time=   0.4s\n",
      "[CV 7/10] END max_depth=5, max_features=1, min_samples_split=10;, score=(train=-0.090, test=-0.089) total time=   0.4s\n",
      "[CV 8/10] END max_depth=5, max_features=1, min_samples_split=10;, score=(train=-0.080, test=-0.083) total time=   0.4s\n",
      "[CV 9/10] END max_depth=5, max_features=1, min_samples_split=10;, score=(train=-0.088, test=-0.093) total time=   0.4s\n",
      "[CV 10/10] END max_depth=5, max_features=1, min_samples_split=10;, score=(train=-0.086, test=-0.085) total time=   0.4s\n",
      "[CV 1/10] END max_depth=5, max_features=1, min_samples_split=50;, score=(train=-0.086, test=-0.086) total time=   0.4s\n",
      "[CV 2/10] END max_depth=5, max_features=1, min_samples_split=50;, score=(train=-0.086, test=-0.090) total time=   0.4s\n",
      "[CV 3/10] END max_depth=5, max_features=1, min_samples_split=50;, score=(train=-0.090, test=-0.095) total time=   0.4s\n",
      "[CV 4/10] END max_depth=5, max_features=1, min_samples_split=50;, score=(train=-0.090, test=-0.095) total time=   0.4s\n",
      "[CV 5/10] END max_depth=5, max_features=1, min_samples_split=50;, score=(train=-0.091, test=-0.087) total time=   0.4s\n",
      "[CV 6/10] END max_depth=5, max_features=1, min_samples_split=50;, score=(train=-0.092, test=-0.093) total time=   0.4s\n",
      "[CV 7/10] END max_depth=5, max_features=1, min_samples_split=50;, score=(train=-0.089, test=-0.088) total time=   0.4s\n"
     ]
    },
    {
     "name": "stdout",
     "output_type": "stream",
     "text": [
      "[CV 8/10] END max_depth=5, max_features=1, min_samples_split=50;, score=(train=-0.086, test=-0.088) total time=   0.4s\n",
      "[CV 9/10] END max_depth=5, max_features=1, min_samples_split=50;, score=(train=-0.082, test=-0.087) total time=   0.4s\n",
      "[CV 10/10] END max_depth=5, max_features=1, min_samples_split=50;, score=(train=-0.090, test=-0.089) total time=   0.4s\n",
      "[CV 1/10] END max_depth=5, max_features=1, min_samples_split=100;, score=(train=-0.085, test=-0.085) total time=   0.4s\n",
      "[CV 2/10] END max_depth=5, max_features=1, min_samples_split=100;, score=(train=-0.083, test=-0.086) total time=   0.4s\n",
      "[CV 3/10] END max_depth=5, max_features=1, min_samples_split=100;, score=(train=-0.092, test=-0.097) total time=   0.4s\n",
      "[CV 4/10] END max_depth=5, max_features=1, min_samples_split=100;, score=(train=-0.087, test=-0.093) total time=   0.4s\n",
      "[CV 5/10] END max_depth=5, max_features=1, min_samples_split=100;, score=(train=-0.080, test=-0.075) total time=   0.4s\n",
      "[CV 6/10] END max_depth=5, max_features=1, min_samples_split=100;, score=(train=-0.085, test=-0.086) total time=   0.4s\n",
      "[CV 7/10] END max_depth=5, max_features=1, min_samples_split=100;, score=(train=-0.088, test=-0.087) total time=   0.4s\n",
      "[CV 8/10] END max_depth=5, max_features=1, min_samples_split=100;, score=(train=-0.090, test=-0.093) total time=   0.4s\n",
      "[CV 9/10] END max_depth=5, max_features=1, min_samples_split=100;, score=(train=-0.088, test=-0.093) total time=   0.4s\n",
      "[CV 10/10] END max_depth=5, max_features=1, min_samples_split=100;, score=(train=-0.084, test=-0.083) total time=   0.4s\n",
      "[CV 1/10] END max_depth=5, max_features=2, min_samples_split=10;, score=(train=-0.065, test=-0.066) total time=   0.5s\n",
      "[CV 2/10] END max_depth=5, max_features=2, min_samples_split=10;, score=(train=-0.064, test=-0.066) total time=   0.5s\n",
      "[CV 3/10] END max_depth=5, max_features=2, min_samples_split=10;, score=(train=-0.063, test=-0.067) total time=   0.6s\n",
      "[CV 4/10] END max_depth=5, max_features=2, min_samples_split=10;, score=(train=-0.065, test=-0.071) total time=   0.5s\n",
      "[CV 5/10] END max_depth=5, max_features=2, min_samples_split=10;, score=(train=-0.063, test=-0.059) total time=   0.5s\n",
      "[CV 6/10] END max_depth=5, max_features=2, min_samples_split=10;, score=(train=-0.065, test=-0.066) total time=   0.5s\n",
      "[CV 7/10] END max_depth=5, max_features=2, min_samples_split=10;, score=(train=-0.060, test=-0.059) total time=   0.6s\n",
      "[CV 8/10] END max_depth=5, max_features=2, min_samples_split=10;, score=(train=-0.063, test=-0.067) total time=   0.6s\n",
      "[CV 9/10] END max_depth=5, max_features=2, min_samples_split=10;, score=(train=-0.065, test=-0.069) total time=   0.6s\n",
      "[CV 10/10] END max_depth=5, max_features=2, min_samples_split=10;, score=(train=-0.064, test=-0.063) total time=   0.6s\n",
      "[CV 1/10] END max_depth=5, max_features=2, min_samples_split=50;, score=(train=-0.063, test=-0.064) total time=   0.6s\n",
      "[CV 2/10] END max_depth=5, max_features=2, min_samples_split=50;, score=(train=-0.066, test=-0.068) total time=   0.6s\n",
      "[CV 3/10] END max_depth=5, max_features=2, min_samples_split=50;, score=(train=-0.067, test=-0.071) total time=   0.6s\n",
      "[CV 4/10] END max_depth=5, max_features=2, min_samples_split=50;, score=(train=-0.063, test=-0.067) total time=   0.6s\n",
      "[CV 5/10] END max_depth=5, max_features=2, min_samples_split=50;, score=(train=-0.064, test=-0.062) total time=   0.6s\n",
      "[CV 6/10] END max_depth=5, max_features=2, min_samples_split=50;, score=(train=-0.064, test=-0.065) total time=   0.6s\n",
      "[CV 7/10] END max_depth=5, max_features=2, min_samples_split=50;, score=(train=-0.065, test=-0.064) total time=   0.5s\n",
      "[CV 8/10] END max_depth=5, max_features=2, min_samples_split=50;, score=(train=-0.063, test=-0.067) total time=   0.6s\n",
      "[CV 9/10] END max_depth=5, max_features=2, min_samples_split=50;, score=(train=-0.063, test=-0.068) total time=   0.6s\n",
      "[CV 10/10] END max_depth=5, max_features=2, min_samples_split=50;, score=(train=-0.063, test=-0.062) total time=   0.6s\n",
      "[CV 1/10] END max_depth=5, max_features=2, min_samples_split=100;, score=(train=-0.065, test=-0.066) total time=   0.6s\n",
      "[CV 2/10] END max_depth=5, max_features=2, min_samples_split=100;, score=(train=-0.067, test=-0.068) total time=   0.5s\n",
      "[CV 3/10] END max_depth=5, max_features=2, min_samples_split=100;, score=(train=-0.063, test=-0.067) total time=   0.5s\n",
      "[CV 4/10] END max_depth=5, max_features=2, min_samples_split=100;, score=(train=-0.065, test=-0.070) total time=   0.6s\n",
      "[CV 5/10] END max_depth=5, max_features=2, min_samples_split=100;, score=(train=-0.065, test=-0.061) total time=   0.5s\n",
      "[CV 6/10] END max_depth=5, max_features=2, min_samples_split=100;, score=(train=-0.062, test=-0.063) total time=   0.5s\n",
      "[CV 7/10] END max_depth=5, max_features=2, min_samples_split=100;, score=(train=-0.064, test=-0.062) total time=   0.6s\n",
      "[CV 8/10] END max_depth=5, max_features=2, min_samples_split=100;, score=(train=-0.066, test=-0.070) total time=   0.5s\n",
      "[CV 9/10] END max_depth=5, max_features=2, min_samples_split=100;, score=(train=-0.063, test=-0.067) total time=   0.6s\n",
      "[CV 10/10] END max_depth=5, max_features=2, min_samples_split=100;, score=(train=-0.064, test=-0.063) total time=   0.5s\n",
      "[CV 1/10] END max_depth=5, max_features=3, min_samples_split=10;, score=(train=-0.052, test=-0.053) total time=   0.7s\n",
      "[CV 2/10] END max_depth=5, max_features=3, min_samples_split=10;, score=(train=-0.053, test=-0.054) total time=   0.7s\n",
      "[CV 3/10] END max_depth=5, max_features=3, min_samples_split=10;, score=(train=-0.053, test=-0.057) total time=   0.7s\n",
      "[CV 4/10] END max_depth=5, max_features=3, min_samples_split=10;, score=(train=-0.055, test=-0.060) total time=   0.7s\n",
      "[CV 5/10] END max_depth=5, max_features=3, min_samples_split=10;, score=(train=-0.055, test=-0.052) total time=   0.7s\n",
      "[CV 6/10] END max_depth=5, max_features=3, min_samples_split=10;, score=(train=-0.057, test=-0.058) total time=   0.7s\n",
      "[CV 7/10] END max_depth=5, max_features=3, min_samples_split=10;, score=(train=-0.053, test=-0.052) total time=   0.8s\n",
      "[CV 8/10] END max_depth=5, max_features=3, min_samples_split=10;, score=(train=-0.054, test=-0.059) total time=   0.7s\n",
      "[CV 9/10] END max_depth=5, max_features=3, min_samples_split=10;, score=(train=-0.052, test=-0.056) total time=   0.7s\n",
      "[CV 10/10] END max_depth=5, max_features=3, min_samples_split=10;, score=(train=-0.056, test=-0.055) total time=   0.7s\n",
      "[CV 1/10] END max_depth=5, max_features=3, min_samples_split=50;, score=(train=-0.053, test=-0.055) total time=   0.7s\n",
      "[CV 2/10] END max_depth=5, max_features=3, min_samples_split=50;, score=(train=-0.053, test=-0.054) total time=   0.7s\n",
      "[CV 3/10] END max_depth=5, max_features=3, min_samples_split=50;, score=(train=-0.054, test=-0.057) total time=   0.7s\n",
      "[CV 4/10] END max_depth=5, max_features=3, min_samples_split=50;, score=(train=-0.052, test=-0.057) total time=   0.7s\n",
      "[CV 5/10] END max_depth=5, max_features=3, min_samples_split=50;, score=(train=-0.054, test=-0.052) total time=   0.7s\n",
      "[CV 6/10] END max_depth=5, max_features=3, min_samples_split=50;, score=(train=-0.056, test=-0.057) total time=   0.7s\n",
      "[CV 7/10] END max_depth=5, max_features=3, min_samples_split=50;, score=(train=-0.053, test=-0.052) total time=   0.7s\n",
      "[CV 8/10] END max_depth=5, max_features=3, min_samples_split=50;, score=(train=-0.054, test=-0.059) total time=   0.7s\n",
      "[CV 9/10] END max_depth=5, max_features=3, min_samples_split=50;, score=(train=-0.051, test=-0.055) total time=   0.7s\n",
      "[CV 10/10] END max_depth=5, max_features=3, min_samples_split=50;, score=(train=-0.055, test=-0.054) total time=   0.7s\n",
      "[CV 1/10] END max_depth=5, max_features=3, min_samples_split=100;, score=(train=-0.056, test=-0.057) total time=   0.8s\n",
      "[CV 2/10] END max_depth=5, max_features=3, min_samples_split=100;, score=(train=-0.054, test=-0.056) total time=   0.9s\n",
      "[CV 3/10] END max_depth=5, max_features=3, min_samples_split=100;, score=(train=-0.055, test=-0.058) total time=   0.8s\n",
      "[CV 4/10] END max_depth=5, max_features=3, min_samples_split=100;, score=(train=-0.054, test=-0.058) total time=   0.8s\n",
      "[CV 5/10] END max_depth=5, max_features=3, min_samples_split=100;, score=(train=-0.056, test=-0.053) total time=   0.7s\n",
      "[CV 6/10] END max_depth=5, max_features=3, min_samples_split=100;, score=(train=-0.054, test=-0.056) total time=   0.8s\n"
     ]
    },
    {
     "name": "stdout",
     "output_type": "stream",
     "text": [
      "[CV 7/10] END max_depth=5, max_features=3, min_samples_split=100;, score=(train=-0.052, test=-0.051) total time=   0.8s\n",
      "[CV 8/10] END max_depth=5, max_features=3, min_samples_split=100;, score=(train=-0.054, test=-0.058) total time=   0.7s\n",
      "[CV 9/10] END max_depth=5, max_features=3, min_samples_split=100;, score=(train=-0.051, test=-0.056) total time=   0.8s\n",
      "[CV 10/10] END max_depth=5, max_features=3, min_samples_split=100;, score=(train=-0.053, test=-0.052) total time=   0.7s\n",
      "[CV 1/10] END max_depth=5, max_features=4, min_samples_split=10;, score=(train=-0.048, test=-0.050) total time=   0.9s\n",
      "[CV 2/10] END max_depth=5, max_features=4, min_samples_split=10;, score=(train=-0.047, test=-0.048) total time=   0.9s\n",
      "[CV 3/10] END max_depth=5, max_features=4, min_samples_split=10;, score=(train=-0.047, test=-0.050) total time=   0.9s\n",
      "[CV 4/10] END max_depth=5, max_features=4, min_samples_split=10;, score=(train=-0.048, test=-0.052) total time=   0.9s\n",
      "[CV 5/10] END max_depth=5, max_features=4, min_samples_split=10;, score=(train=-0.049, test=-0.046) total time=   0.9s\n",
      "[CV 6/10] END max_depth=5, max_features=4, min_samples_split=10;, score=(train=-0.047, test=-0.049) total time=   0.9s\n",
      "[CV 7/10] END max_depth=5, max_features=4, min_samples_split=10;, score=(train=-0.048, test=-0.047) total time=   0.9s\n",
      "[CV 8/10] END max_depth=5, max_features=4, min_samples_split=10;, score=(train=-0.048, test=-0.052) total time=   0.9s\n",
      "[CV 9/10] END max_depth=5, max_features=4, min_samples_split=10;, score=(train=-0.048, test=-0.052) total time=   0.9s\n",
      "[CV 10/10] END max_depth=5, max_features=4, min_samples_split=10;, score=(train=-0.050, test=-0.050) total time=   0.9s\n",
      "[CV 1/10] END max_depth=5, max_features=4, min_samples_split=50;, score=(train=-0.048, test=-0.049) total time=   0.9s\n",
      "[CV 2/10] END max_depth=5, max_features=4, min_samples_split=50;, score=(train=-0.048, test=-0.050) total time=   0.8s\n",
      "[CV 3/10] END max_depth=5, max_features=4, min_samples_split=50;, score=(train=-0.050, test=-0.053) total time=   0.9s\n",
      "[CV 4/10] END max_depth=5, max_features=4, min_samples_split=50;, score=(train=-0.047, test=-0.052) total time=   0.9s\n",
      "[CV 5/10] END max_depth=5, max_features=4, min_samples_split=50;, score=(train=-0.049, test=-0.046) total time=   0.9s\n",
      "[CV 6/10] END max_depth=5, max_features=4, min_samples_split=50;, score=(train=-0.048, test=-0.050) total time=   0.9s\n",
      "[CV 7/10] END max_depth=5, max_features=4, min_samples_split=50;, score=(train=-0.048, test=-0.046) total time=   0.9s\n",
      "[CV 8/10] END max_depth=5, max_features=4, min_samples_split=50;, score=(train=-0.048, test=-0.053) total time=   0.9s\n",
      "[CV 9/10] END max_depth=5, max_features=4, min_samples_split=50;, score=(train=-0.047, test=-0.051) total time=   0.9s\n",
      "[CV 10/10] END max_depth=5, max_features=4, min_samples_split=50;, score=(train=-0.049, test=-0.048) total time=   0.9s\n",
      "[CV 1/10] END max_depth=5, max_features=4, min_samples_split=100;, score=(train=-0.049, test=-0.051) total time=   0.9s\n",
      "[CV 2/10] END max_depth=5, max_features=4, min_samples_split=100;, score=(train=-0.047, test=-0.048) total time=   0.9s\n",
      "[CV 3/10] END max_depth=5, max_features=4, min_samples_split=100;, score=(train=-0.049, test=-0.052) total time=   0.9s\n",
      "[CV 4/10] END max_depth=5, max_features=4, min_samples_split=100;, score=(train=-0.049, test=-0.053) total time=   0.9s\n",
      "[CV 5/10] END max_depth=5, max_features=4, min_samples_split=100;, score=(train=-0.049, test=-0.046) total time=   0.9s\n",
      "[CV 6/10] END max_depth=5, max_features=4, min_samples_split=100;, score=(train=-0.049, test=-0.050) total time=   0.9s\n",
      "[CV 7/10] END max_depth=5, max_features=4, min_samples_split=100;, score=(train=-0.049, test=-0.048) total time=   0.9s\n",
      "[CV 8/10] END max_depth=5, max_features=4, min_samples_split=100;, score=(train=-0.049, test=-0.053) total time=   0.9s\n",
      "[CV 9/10] END max_depth=5, max_features=4, min_samples_split=100;, score=(train=-0.048, test=-0.052) total time=   0.9s\n",
      "[CV 10/10] END max_depth=5, max_features=4, min_samples_split=100;, score=(train=-0.049, test=-0.048) total time=   0.9s\n",
      "[CV 1/10] END max_depth=6, max_features=1, min_samples_split=10;, score=(train=-0.079, test=-0.080) total time=   0.4s\n",
      "[CV 2/10] END max_depth=6, max_features=1, min_samples_split=10;, score=(train=-0.075, test=-0.078) total time=   0.4s\n",
      "[CV 3/10] END max_depth=6, max_features=1, min_samples_split=10;, score=(train=-0.077, test=-0.082) total time=   0.4s\n",
      "[CV 4/10] END max_depth=6, max_features=1, min_samples_split=10;, score=(train=-0.075, test=-0.081) total time=   0.4s\n",
      "[CV 5/10] END max_depth=6, max_features=1, min_samples_split=10;, score=(train=-0.074, test=-0.071) total time=   0.4s\n",
      "[CV 6/10] END max_depth=6, max_features=1, min_samples_split=10;, score=(train=-0.076, test=-0.078) total time=   0.4s\n",
      "[CV 7/10] END max_depth=6, max_features=1, min_samples_split=10;, score=(train=-0.074, test=-0.073) total time=   0.4s\n",
      "[CV 8/10] END max_depth=6, max_features=1, min_samples_split=10;, score=(train=-0.071, test=-0.075) total time=   0.4s\n",
      "[CV 9/10] END max_depth=6, max_features=1, min_samples_split=10;, score=(train=-0.078, test=-0.083) total time=   0.4s\n",
      "[CV 10/10] END max_depth=6, max_features=1, min_samples_split=10;, score=(train=-0.076, test=-0.076) total time=   0.4s\n",
      "[CV 1/10] END max_depth=6, max_features=1, min_samples_split=50;, score=(train=-0.077, test=-0.077) total time=   0.4s\n",
      "[CV 2/10] END max_depth=6, max_features=1, min_samples_split=50;, score=(train=-0.074, test=-0.077) total time=   0.4s\n",
      "[CV 3/10] END max_depth=6, max_features=1, min_samples_split=50;, score=(train=-0.078, test=-0.083) total time=   0.4s\n",
      "[CV 4/10] END max_depth=6, max_features=1, min_samples_split=50;, score=(train=-0.077, test=-0.083) total time=   0.4s\n",
      "[CV 5/10] END max_depth=6, max_features=1, min_samples_split=50;, score=(train=-0.076, test=-0.073) total time=   0.4s\n",
      "[CV 6/10] END max_depth=6, max_features=1, min_samples_split=50;, score=(train=-0.075, test=-0.077) total time=   0.4s\n",
      "[CV 7/10] END max_depth=6, max_features=1, min_samples_split=50;, score=(train=-0.076, test=-0.075) total time=   0.4s\n",
      "[CV 8/10] END max_depth=6, max_features=1, min_samples_split=50;, score=(train=-0.080, test=-0.084) total time=   0.4s\n",
      "[CV 9/10] END max_depth=6, max_features=1, min_samples_split=50;, score=(train=-0.072, test=-0.077) total time=   0.4s\n",
      "[CV 10/10] END max_depth=6, max_features=1, min_samples_split=50;, score=(train=-0.076, test=-0.075) total time=   0.4s\n",
      "[CV 1/10] END max_depth=6, max_features=1, min_samples_split=100;, score=(train=-0.078, test=-0.079) total time=   0.4s\n",
      "[CV 2/10] END max_depth=6, max_features=1, min_samples_split=100;, score=(train=-0.073, test=-0.076) total time=   0.4s\n",
      "[CV 3/10] END max_depth=6, max_features=1, min_samples_split=100;, score=(train=-0.074, test=-0.078) total time=   0.4s\n",
      "[CV 4/10] END max_depth=6, max_features=1, min_samples_split=100;, score=(train=-0.078, test=-0.083) total time=   0.4s\n",
      "[CV 5/10] END max_depth=6, max_features=1, min_samples_split=100;, score=(train=-0.075, test=-0.072) total time=   0.4s\n",
      "[CV 6/10] END max_depth=6, max_features=1, min_samples_split=100;, score=(train=-0.077, test=-0.078) total time=   0.4s\n",
      "[CV 7/10] END max_depth=6, max_features=1, min_samples_split=100;, score=(train=-0.075, test=-0.074) total time=   0.4s\n",
      "[CV 8/10] END max_depth=6, max_features=1, min_samples_split=100;, score=(train=-0.077, test=-0.081) total time=   0.4s\n",
      "[CV 9/10] END max_depth=6, max_features=1, min_samples_split=100;, score=(train=-0.075, test=-0.079) total time=   0.4s\n",
      "[CV 10/10] END max_depth=6, max_features=1, min_samples_split=100;, score=(train=-0.080, test=-0.079) total time=   0.4s\n",
      "[CV 1/10] END max_depth=6, max_features=2, min_samples_split=10;, score=(train=-0.053, test=-0.055) total time=   0.6s\n",
      "[CV 2/10] END max_depth=6, max_features=2, min_samples_split=10;, score=(train=-0.053, test=-0.056) total time=   0.6s\n",
      "[CV 3/10] END max_depth=6, max_features=2, min_samples_split=10;, score=(train=-0.056, test=-0.060) total time=   0.6s\n",
      "[CV 4/10] END max_depth=6, max_features=2, min_samples_split=10;, score=(train=-0.055, test=-0.060) total time=   0.6s\n",
      "[CV 5/10] END max_depth=6, max_features=2, min_samples_split=10;, score=(train=-0.056, test=-0.054) total time=   0.6s\n"
     ]
    },
    {
     "name": "stdout",
     "output_type": "stream",
     "text": [
      "[CV 6/10] END max_depth=6, max_features=2, min_samples_split=10;, score=(train=-0.054, test=-0.056) total time=   0.6s\n",
      "[CV 7/10] END max_depth=6, max_features=2, min_samples_split=10;, score=(train=-0.054, test=-0.054) total time=   0.6s\n",
      "[CV 8/10] END max_depth=6, max_features=2, min_samples_split=10;, score=(train=-0.055, test=-0.059) total time=   0.6s\n",
      "[CV 9/10] END max_depth=6, max_features=2, min_samples_split=10;, score=(train=-0.054, test=-0.059) total time=   0.6s\n",
      "[CV 10/10] END max_depth=6, max_features=2, min_samples_split=10;, score=(train=-0.055, test=-0.055) total time=   0.6s\n",
      "[CV 1/10] END max_depth=6, max_features=2, min_samples_split=50;, score=(train=-0.054, test=-0.055) total time=   0.6s\n",
      "[CV 2/10] END max_depth=6, max_features=2, min_samples_split=50;, score=(train=-0.055, test=-0.057) total time=   0.6s\n",
      "[CV 3/10] END max_depth=6, max_features=2, min_samples_split=50;, score=(train=-0.055, test=-0.059) total time=   0.6s\n",
      "[CV 4/10] END max_depth=6, max_features=2, min_samples_split=50;, score=(train=-0.056, test=-0.061) total time=   0.6s\n",
      "[CV 5/10] END max_depth=6, max_features=2, min_samples_split=50;, score=(train=-0.055, test=-0.053) total time=   0.6s\n",
      "[CV 6/10] END max_depth=6, max_features=2, min_samples_split=50;, score=(train=-0.056, test=-0.058) total time=   0.6s\n",
      "[CV 7/10] END max_depth=6, max_features=2, min_samples_split=50;, score=(train=-0.057, test=-0.056) total time=   0.6s\n",
      "[CV 8/10] END max_depth=6, max_features=2, min_samples_split=50;, score=(train=-0.054, test=-0.059) total time=   0.6s\n",
      "[CV 9/10] END max_depth=6, max_features=2, min_samples_split=50;, score=(train=-0.056, test=-0.061) total time=   0.6s\n",
      "[CV 10/10] END max_depth=6, max_features=2, min_samples_split=50;, score=(train=-0.057, test=-0.057) total time=   0.6s\n",
      "[CV 1/10] END max_depth=6, max_features=2, min_samples_split=100;, score=(train=-0.055, test=-0.057) total time=   0.6s\n",
      "[CV 2/10] END max_depth=6, max_features=2, min_samples_split=100;, score=(train=-0.058, test=-0.061) total time=   0.6s\n",
      "[CV 3/10] END max_depth=6, max_features=2, min_samples_split=100;, score=(train=-0.055, test=-0.059) total time=   0.6s\n",
      "[CV 4/10] END max_depth=6, max_features=2, min_samples_split=100;, score=(train=-0.056, test=-0.061) total time=   0.6s\n",
      "[CV 5/10] END max_depth=6, max_features=2, min_samples_split=100;, score=(train=-0.055, test=-0.053) total time=   0.6s\n",
      "[CV 6/10] END max_depth=6, max_features=2, min_samples_split=100;, score=(train=-0.057, test=-0.058) total time=   0.6s\n",
      "[CV 7/10] END max_depth=6, max_features=2, min_samples_split=100;, score=(train=-0.057, test=-0.056) total time=   0.6s\n",
      "[CV 8/10] END max_depth=6, max_features=2, min_samples_split=100;, score=(train=-0.056, test=-0.061) total time=   0.6s\n",
      "[CV 9/10] END max_depth=6, max_features=2, min_samples_split=100;, score=(train=-0.056, test=-0.061) total time=   0.6s\n",
      "[CV 10/10] END max_depth=6, max_features=2, min_samples_split=100;, score=(train=-0.057, test=-0.057) total time=   0.6s\n",
      "[CV 1/10] END max_depth=6, max_features=3, min_samples_split=10;, score=(train=-0.045, test=-0.048) total time=   0.8s\n",
      "[CV 2/10] END max_depth=6, max_features=3, min_samples_split=10;, score=(train=-0.047, test=-0.049) total time=   0.8s\n",
      "[CV 3/10] END max_depth=6, max_features=3, min_samples_split=10;, score=(train=-0.046, test=-0.050) total time=   0.8s\n",
      "[CV 4/10] END max_depth=6, max_features=3, min_samples_split=10;, score=(train=-0.046, test=-0.051) total time=   0.8s\n",
      "[CV 5/10] END max_depth=6, max_features=3, min_samples_split=10;, score=(train=-0.046, test=-0.044) total time=   0.8s\n",
      "[CV 6/10] END max_depth=6, max_features=3, min_samples_split=10;, score=(train=-0.046, test=-0.048) total time=   0.8s\n",
      "[CV 7/10] END max_depth=6, max_features=3, min_samples_split=10;, score=(train=-0.046, test=-0.045) total time=   0.8s\n",
      "[CV 8/10] END max_depth=6, max_features=3, min_samples_split=10;, score=(train=-0.045, test=-0.050) total time=   1.0s\n",
      "[CV 9/10] END max_depth=6, max_features=3, min_samples_split=10;, score=(train=-0.045, test=-0.050) total time=   0.9s\n",
      "[CV 10/10] END max_depth=6, max_features=3, min_samples_split=10;, score=(train=-0.046, test=-0.047) total time=   0.8s\n",
      "[CV 1/10] END max_depth=6, max_features=3, min_samples_split=50;, score=(train=-0.045, test=-0.047) total time=   0.8s\n",
      "[CV 2/10] END max_depth=6, max_features=3, min_samples_split=50;, score=(train=-0.047, test=-0.050) total time=   0.9s\n",
      "[CV 3/10] END max_depth=6, max_features=3, min_samples_split=50;, score=(train=-0.045, test=-0.048) total time=   0.9s\n",
      "[CV 4/10] END max_depth=6, max_features=3, min_samples_split=50;, score=(train=-0.047, test=-0.052) total time=   0.9s\n",
      "[CV 5/10] END max_depth=6, max_features=3, min_samples_split=50;, score=(train=-0.046, test=-0.045) total time=   0.9s\n",
      "[CV 6/10] END max_depth=6, max_features=3, min_samples_split=50;, score=(train=-0.045, test=-0.047) total time=   0.9s\n",
      "[CV 7/10] END max_depth=6, max_features=3, min_samples_split=50;, score=(train=-0.046, test=-0.046) total time=   0.8s\n",
      "[CV 8/10] END max_depth=6, max_features=3, min_samples_split=50;, score=(train=-0.047, test=-0.052) total time=   0.8s\n",
      "[CV 9/10] END max_depth=6, max_features=3, min_samples_split=50;, score=(train=-0.047, test=-0.052) total time=   0.9s\n",
      "[CV 10/10] END max_depth=6, max_features=3, min_samples_split=50;, score=(train=-0.045, test=-0.045) total time=   0.9s\n",
      "[CV 1/10] END max_depth=6, max_features=3, min_samples_split=100;, score=(train=-0.048, test=-0.050) total time=   0.9s\n",
      "[CV 2/10] END max_depth=6, max_features=3, min_samples_split=100;, score=(train=-0.047, test=-0.049) total time=   0.9s\n",
      "[CV 3/10] END max_depth=6, max_features=3, min_samples_split=100;, score=(train=-0.047, test=-0.050) total time=   0.9s\n",
      "[CV 4/10] END max_depth=6, max_features=3, min_samples_split=100;, score=(train=-0.047, test=-0.052) total time=   0.9s\n",
      "[CV 5/10] END max_depth=6, max_features=3, min_samples_split=100;, score=(train=-0.047, test=-0.045) total time=   0.9s\n",
      "[CV 6/10] END max_depth=6, max_features=3, min_samples_split=100;, score=(train=-0.050, test=-0.052) total time=   0.9s\n",
      "[CV 7/10] END max_depth=6, max_features=3, min_samples_split=100;, score=(train=-0.046, test=-0.045) total time=   0.9s\n",
      "[CV 8/10] END max_depth=6, max_features=3, min_samples_split=100;, score=(train=-0.047, test=-0.052) total time=   0.8s\n",
      "[CV 9/10] END max_depth=6, max_features=3, min_samples_split=100;, score=(train=-0.046, test=-0.050) total time=   0.9s\n",
      "[CV 10/10] END max_depth=6, max_features=3, min_samples_split=100;, score=(train=-0.047, test=-0.048) total time=   0.9s\n",
      "[CV 1/10] END max_depth=6, max_features=4, min_samples_split=10;, score=(train=-0.041, test=-0.044) total time=   1.1s\n",
      "[CV 2/10] END max_depth=6, max_features=4, min_samples_split=10;, score=(train=-0.041, test=-0.043) total time=   1.1s\n",
      "[CV 3/10] END max_depth=6, max_features=4, min_samples_split=10;, score=(train=-0.041, test=-0.044) total time=   1.0s\n",
      "[CV 4/10] END max_depth=6, max_features=4, min_samples_split=10;, score=(train=-0.041, test=-0.045) total time=   1.1s\n",
      "[CV 5/10] END max_depth=6, max_features=4, min_samples_split=10;, score=(train=-0.043, test=-0.041) total time=   1.1s\n",
      "[CV 6/10] END max_depth=6, max_features=4, min_samples_split=10;, score=(train=-0.042, test=-0.044) total time=   1.1s\n",
      "[CV 7/10] END max_depth=6, max_features=4, min_samples_split=10;, score=(train=-0.042, test=-0.042) total time=   1.2s\n",
      "[CV 8/10] END max_depth=6, max_features=4, min_samples_split=10;, score=(train=-0.041, test=-0.046) total time=   1.3s\n",
      "[CV 9/10] END max_depth=6, max_features=4, min_samples_split=10;, score=(train=-0.041, test=-0.046) total time=   1.4s\n",
      "[CV 10/10] END max_depth=6, max_features=4, min_samples_split=10;, score=(train=-0.041, test=-0.041) total time=   1.2s\n",
      "[CV 1/10] END max_depth=6, max_features=4, min_samples_split=50;, score=(train=-0.042, test=-0.044) total time=   1.1s\n",
      "[CV 2/10] END max_depth=6, max_features=4, min_samples_split=50;, score=(train=-0.042, test=-0.044) total time=   1.1s\n",
      "[CV 3/10] END max_depth=6, max_features=4, min_samples_split=50;, score=(train=-0.042, test=-0.045) total time=   1.2s\n",
      "[CV 4/10] END max_depth=6, max_features=4, min_samples_split=50;, score=(train=-0.041, test=-0.046) total time=   1.3s\n"
     ]
    },
    {
     "name": "stdout",
     "output_type": "stream",
     "text": [
      "[CV 5/10] END max_depth=6, max_features=4, min_samples_split=50;, score=(train=-0.041, test=-0.040) total time=   1.3s\n",
      "[CV 6/10] END max_depth=6, max_features=4, min_samples_split=50;, score=(train=-0.041, test=-0.043) total time=   1.0s\n",
      "[CV 7/10] END max_depth=6, max_features=4, min_samples_split=50;, score=(train=-0.042, test=-0.042) total time=   1.0s\n",
      "[CV 8/10] END max_depth=6, max_features=4, min_samples_split=50;, score=(train=-0.041, test=-0.046) total time=   1.1s\n",
      "[CV 9/10] END max_depth=6, max_features=4, min_samples_split=50;, score=(train=-0.042, test=-0.046) total time=   1.1s\n",
      "[CV 10/10] END max_depth=6, max_features=4, min_samples_split=50;, score=(train=-0.041, test=-0.042) total time=   1.1s\n",
      "[CV 1/10] END max_depth=6, max_features=4, min_samples_split=100;, score=(train=-0.041, test=-0.044) total time=   1.0s\n",
      "[CV 2/10] END max_depth=6, max_features=4, min_samples_split=100;, score=(train=-0.043, test=-0.045) total time=   1.0s\n",
      "[CV 3/10] END max_depth=6, max_features=4, min_samples_split=100;, score=(train=-0.043, test=-0.046) total time=   1.0s\n",
      "[CV 4/10] END max_depth=6, max_features=4, min_samples_split=100;, score=(train=-0.042, test=-0.047) total time=   1.0s\n",
      "[CV 5/10] END max_depth=6, max_features=4, min_samples_split=100;, score=(train=-0.043, test=-0.041) total time=   1.0s\n",
      "[CV 6/10] END max_depth=6, max_features=4, min_samples_split=100;, score=(train=-0.042, test=-0.044) total time=   1.0s\n",
      "[CV 7/10] END max_depth=6, max_features=4, min_samples_split=100;, score=(train=-0.042, test=-0.042) total time=   1.1s\n",
      "[CV 8/10] END max_depth=6, max_features=4, min_samples_split=100;, score=(train=-0.042, test=-0.047) total time=   1.0s\n",
      "[CV 9/10] END max_depth=6, max_features=4, min_samples_split=100;, score=(train=-0.042, test=-0.047) total time=   1.1s\n",
      "[CV 10/10] END max_depth=6, max_features=4, min_samples_split=100;, score=(train=-0.042, test=-0.042) total time=   1.0s\n",
      "[CV 1/10] END max_depth=7, max_features=1, min_samples_split=10;, score=(train=-0.065, test=-0.067) total time=   0.5s\n",
      "[CV 2/10] END max_depth=7, max_features=1, min_samples_split=10;, score=(train=-0.064, test=-0.068) total time=   0.5s\n",
      "[CV 3/10] END max_depth=7, max_features=1, min_samples_split=10;, score=(train=-0.067, test=-0.073) total time=   0.5s\n",
      "[CV 4/10] END max_depth=7, max_features=1, min_samples_split=10;, score=(train=-0.068, test=-0.075) total time=   0.5s\n",
      "[CV 5/10] END max_depth=7, max_features=1, min_samples_split=10;, score=(train=-0.071, test=-0.069) total time=   0.5s\n",
      "[CV 6/10] END max_depth=7, max_features=1, min_samples_split=10;, score=(train=-0.066, test=-0.068) total time=   0.5s\n",
      "[CV 7/10] END max_depth=7, max_features=1, min_samples_split=10;, score=(train=-0.066, test=-0.066) total time=   0.5s\n",
      "[CV 8/10] END max_depth=7, max_features=1, min_samples_split=10;, score=(train=-0.067, test=-0.072) total time=   0.5s\n",
      "[CV 9/10] END max_depth=7, max_features=1, min_samples_split=10;, score=(train=-0.066, test=-0.071) total time=   0.5s\n",
      "[CV 10/10] END max_depth=7, max_features=1, min_samples_split=10;, score=(train=-0.065, test=-0.066) total time=   0.5s\n",
      "[CV 1/10] END max_depth=7, max_features=1, min_samples_split=50;, score=(train=-0.069, test=-0.070) total time=   0.5s\n",
      "[CV 2/10] END max_depth=7, max_features=1, min_samples_split=50;, score=(train=-0.070, test=-0.074) total time=   0.5s\n",
      "[CV 3/10] END max_depth=7, max_features=1, min_samples_split=50;, score=(train=-0.071, test=-0.076) total time=   0.5s\n",
      "[CV 4/10] END max_depth=7, max_features=1, min_samples_split=50;, score=(train=-0.069, test=-0.075) total time=   0.5s\n",
      "[CV 5/10] END max_depth=7, max_features=1, min_samples_split=50;, score=(train=-0.070, test=-0.067) total time=   0.5s\n",
      "[CV 6/10] END max_depth=7, max_features=1, min_samples_split=50;, score=(train=-0.070, test=-0.072) total time=   0.5s\n",
      "[CV 7/10] END max_depth=7, max_features=1, min_samples_split=50;, score=(train=-0.069, test=-0.069) total time=   0.5s\n",
      "[CV 8/10] END max_depth=7, max_features=1, min_samples_split=50;, score=(train=-0.064, test=-0.068) total time=   0.5s\n",
      "[CV 9/10] END max_depth=7, max_features=1, min_samples_split=50;, score=(train=-0.067, test=-0.071) total time=   0.5s\n",
      "[CV 10/10] END max_depth=7, max_features=1, min_samples_split=50;, score=(train=-0.071, test=-0.072) total time=   0.5s\n",
      "[CV 1/10] END max_depth=7, max_features=1, min_samples_split=100;, score=(train=-0.071, test=-0.072) total time=   0.4s\n",
      "[CV 2/10] END max_depth=7, max_features=1, min_samples_split=100;, score=(train=-0.070, test=-0.073) total time=   0.4s\n",
      "[CV 3/10] END max_depth=7, max_features=1, min_samples_split=100;, score=(train=-0.069, test=-0.074) total time=   0.5s\n",
      "[CV 4/10] END max_depth=7, max_features=1, min_samples_split=100;, score=(train=-0.070, test=-0.075) total time=   0.4s\n",
      "[CV 5/10] END max_depth=7, max_features=1, min_samples_split=100;, score=(train=-0.068, test=-0.065) total time=   0.4s\n",
      "[CV 6/10] END max_depth=7, max_features=1, min_samples_split=100;, score=(train=-0.067, test=-0.068) total time=   0.5s\n",
      "[CV 7/10] END max_depth=7, max_features=1, min_samples_split=100;, score=(train=-0.070, test=-0.070) total time=   0.5s\n",
      "[CV 8/10] END max_depth=7, max_features=1, min_samples_split=100;, score=(train=-0.066, test=-0.070) total time=   0.5s\n",
      "[CV 9/10] END max_depth=7, max_features=1, min_samples_split=100;, score=(train=-0.072, test=-0.077) total time=   0.5s\n",
      "[CV 10/10] END max_depth=7, max_features=1, min_samples_split=100;, score=(train=-0.069, test=-0.069) total time=   0.5s\n",
      "[CV 1/10] END max_depth=7, max_features=2, min_samples_split=10;, score=(train=-0.046, test=-0.049) total time=   0.7s\n",
      "[CV 2/10] END max_depth=7, max_features=2, min_samples_split=10;, score=(train=-0.047, test=-0.050) total time=   0.7s\n",
      "[CV 3/10] END max_depth=7, max_features=2, min_samples_split=10;, score=(train=-0.046, test=-0.051) total time=   0.7s\n",
      "[CV 4/10] END max_depth=7, max_features=2, min_samples_split=10;, score=(train=-0.048, test=-0.054) total time=   0.8s\n",
      "[CV 5/10] END max_depth=7, max_features=2, min_samples_split=10;, score=(train=-0.050, test=-0.049) total time=   0.7s\n",
      "[CV 6/10] END max_depth=7, max_features=2, min_samples_split=10;, score=(train=-0.048, test=-0.051) total time=   0.7s\n",
      "[CV 7/10] END max_depth=7, max_features=2, min_samples_split=10;, score=(train=-0.044, test=-0.045) total time=   0.7s\n",
      "[CV 8/10] END max_depth=7, max_features=2, min_samples_split=10;, score=(train=-0.047, test=-0.053) total time=   0.7s\n",
      "[CV 9/10] END max_depth=7, max_features=2, min_samples_split=10;, score=(train=-0.047, test=-0.052) total time=   0.7s\n",
      "[CV 10/10] END max_depth=7, max_features=2, min_samples_split=10;, score=(train=-0.047, test=-0.049) total time=   0.7s\n",
      "[CV 1/10] END max_depth=7, max_features=2, min_samples_split=50;, score=(train=-0.048, test=-0.050) total time=   0.7s\n",
      "[CV 2/10] END max_depth=7, max_features=2, min_samples_split=50;, score=(train=-0.049, test=-0.051) total time=   0.8s\n",
      "[CV 3/10] END max_depth=7, max_features=2, min_samples_split=50;, score=(train=-0.048, test=-0.052) total time=   0.7s\n",
      "[CV 4/10] END max_depth=7, max_features=2, min_samples_split=50;, score=(train=-0.050, test=-0.055) total time=   0.8s\n",
      "[CV 5/10] END max_depth=7, max_features=2, min_samples_split=50;, score=(train=-0.048, test=-0.047) total time=   0.9s\n",
      "[CV 6/10] END max_depth=7, max_features=2, min_samples_split=50;, score=(train=-0.049, test=-0.052) total time=   0.8s\n",
      "[CV 7/10] END max_depth=7, max_features=2, min_samples_split=50;, score=(train=-0.050, test=-0.050) total time=   0.9s\n",
      "[CV 8/10] END max_depth=7, max_features=2, min_samples_split=50;, score=(train=-0.046, test=-0.051) total time=   0.8s\n",
      "[CV 9/10] END max_depth=7, max_features=2, min_samples_split=50;, score=(train=-0.050, test=-0.055) total time=   0.8s\n",
      "[CV 10/10] END max_depth=7, max_features=2, min_samples_split=50;, score=(train=-0.049, test=-0.051) total time=   0.8s\n",
      "[CV 1/10] END max_depth=7, max_features=2, min_samples_split=100;, score=(train=-0.048, test=-0.050) total time=   0.8s\n",
      "[CV 2/10] END max_depth=7, max_features=2, min_samples_split=100;, score=(train=-0.050, test=-0.053) total time=   0.7s\n",
      "[CV 3/10] END max_depth=7, max_features=2, min_samples_split=100;, score=(train=-0.051, test=-0.055) total time=   0.7s\n"
     ]
    },
    {
     "name": "stdout",
     "output_type": "stream",
     "text": [
      "[CV 4/10] END max_depth=7, max_features=2, min_samples_split=100;, score=(train=-0.051, test=-0.056) total time=   0.7s\n",
      "[CV 5/10] END max_depth=7, max_features=2, min_samples_split=100;, score=(train=-0.049, test=-0.047) total time=   0.7s\n",
      "[CV 6/10] END max_depth=7, max_features=2, min_samples_split=100;, score=(train=-0.050, test=-0.052) total time=   0.7s\n",
      "[CV 7/10] END max_depth=7, max_features=2, min_samples_split=100;, score=(train=-0.050, test=-0.050) total time=   0.7s\n",
      "[CV 8/10] END max_depth=7, max_features=2, min_samples_split=100;, score=(train=-0.048, test=-0.053) total time=   0.7s\n",
      "[CV 9/10] END max_depth=7, max_features=2, min_samples_split=100;, score=(train=-0.048, test=-0.052) total time=   0.7s\n",
      "[CV 10/10] END max_depth=7, max_features=2, min_samples_split=100;, score=(train=-0.050, test=-0.051) total time=   0.7s\n",
      "[CV 1/10] END max_depth=7, max_features=3, min_samples_split=10;, score=(train=-0.039, test=-0.043) total time=   0.9s\n",
      "[CV 2/10] END max_depth=7, max_features=3, min_samples_split=10;, score=(train=-0.040, test=-0.044) total time=   0.9s\n",
      "[CV 3/10] END max_depth=7, max_features=3, min_samples_split=10;, score=(train=-0.039, test=-0.043) total time=   0.9s\n",
      "[CV 4/10] END max_depth=7, max_features=3, min_samples_split=10;, score=(train=-0.041, test=-0.047) total time=   0.9s\n",
      "[CV 5/10] END max_depth=7, max_features=3, min_samples_split=10;, score=(train=-0.041, test=-0.040) total time=   0.9s\n",
      "[CV 6/10] END max_depth=7, max_features=3, min_samples_split=10;, score=(train=-0.040, test=-0.043) total time=   0.9s\n",
      "[CV 7/10] END max_depth=7, max_features=3, min_samples_split=10;, score=(train=-0.040, test=-0.041) total time=   0.9s\n",
      "[CV 8/10] END max_depth=7, max_features=3, min_samples_split=10;, score=(train=-0.039, test=-0.045) total time=   0.9s\n",
      "[CV 9/10] END max_depth=7, max_features=3, min_samples_split=10;, score=(train=-0.040, test=-0.045) total time=   1.0s\n",
      "[CV 10/10] END max_depth=7, max_features=3, min_samples_split=10;, score=(train=-0.039, test=-0.042) total time=   1.0s\n",
      "[CV 1/10] END max_depth=7, max_features=3, min_samples_split=50;, score=(train=-0.041, test=-0.044) total time=   1.0s\n",
      "[CV 2/10] END max_depth=7, max_features=3, min_samples_split=50;, score=(train=-0.041, test=-0.044) total time=   0.9s\n",
      "[CV 3/10] END max_depth=7, max_features=3, min_samples_split=50;, score=(train=-0.042, test=-0.046) total time=   0.9s\n",
      "[CV 4/10] END max_depth=7, max_features=3, min_samples_split=50;, score=(train=-0.041, test=-0.047) total time=   0.9s\n",
      "[CV 5/10] END max_depth=7, max_features=3, min_samples_split=50;, score=(train=-0.041, test=-0.040) total time=   0.9s\n",
      "[CV 6/10] END max_depth=7, max_features=3, min_samples_split=50;, score=(train=-0.040, test=-0.043) total time=   0.9s\n",
      "[CV 7/10] END max_depth=7, max_features=3, min_samples_split=50;, score=(train=-0.042, test=-0.042) total time=   0.9s\n",
      "[CV 8/10] END max_depth=7, max_features=3, min_samples_split=50;, score=(train=-0.040, test=-0.046) total time=   0.9s\n",
      "[CV 9/10] END max_depth=7, max_features=3, min_samples_split=50;, score=(train=-0.040, test=-0.045) total time=   0.9s\n",
      "[CV 10/10] END max_depth=7, max_features=3, min_samples_split=50;, score=(train=-0.040, test=-0.042) total time=   0.9s\n",
      "[CV 1/10] END max_depth=7, max_features=3, min_samples_split=100;, score=(train=-0.042, test=-0.044) total time=   0.9s\n",
      "[CV 2/10] END max_depth=7, max_features=3, min_samples_split=100;, score=(train=-0.041, test=-0.044) total time=   0.9s\n",
      "[CV 3/10] END max_depth=7, max_features=3, min_samples_split=100;, score=(train=-0.042, test=-0.046) total time=   0.9s\n",
      "[CV 4/10] END max_depth=7, max_features=3, min_samples_split=100;, score=(train=-0.041, test=-0.046) total time=   0.9s\n",
      "[CV 5/10] END max_depth=7, max_features=3, min_samples_split=100;, score=(train=-0.042, test=-0.041) total time=   0.9s\n",
      "[CV 6/10] END max_depth=7, max_features=3, min_samples_split=100;, score=(train=-0.041, test=-0.044) total time=   0.9s\n",
      "[CV 7/10] END max_depth=7, max_features=3, min_samples_split=100;, score=(train=-0.042, test=-0.042) total time=   0.9s\n",
      "[CV 8/10] END max_depth=7, max_features=3, min_samples_split=100;, score=(train=-0.041, test=-0.046) total time=   1.0s\n",
      "[CV 9/10] END max_depth=7, max_features=3, min_samples_split=100;, score=(train=-0.042, test=-0.047) total time=   0.9s\n",
      "[CV 10/10] END max_depth=7, max_features=3, min_samples_split=100;, score=(train=-0.041, test=-0.042) total time=   1.0s\n",
      "[CV 1/10] END max_depth=7, max_features=4, min_samples_split=10;, score=(train=-0.035, test=-0.040) total time=   1.2s\n",
      "[CV 2/10] END max_depth=7, max_features=4, min_samples_split=10;, score=(train=-0.036, test=-0.039) total time=   1.2s\n",
      "[CV 3/10] END max_depth=7, max_features=4, min_samples_split=10;, score=(train=-0.035, test=-0.039) total time=   1.2s\n",
      "[CV 4/10] END max_depth=7, max_features=4, min_samples_split=10;, score=(train=-0.036, test=-0.041) total time=   1.2s\n",
      "[CV 5/10] END max_depth=7, max_features=4, min_samples_split=10;, score=(train=-0.036, test=-0.036) total time=   1.2s\n",
      "[CV 6/10] END max_depth=7, max_features=4, min_samples_split=10;, score=(train=-0.035, test=-0.039) total time=   1.2s\n",
      "[CV 7/10] END max_depth=7, max_features=4, min_samples_split=10;, score=(train=-0.035, test=-0.036) total time=   1.2s\n",
      "[CV 8/10] END max_depth=7, max_features=4, min_samples_split=10;, score=(train=-0.036, test=-0.042) total time=   1.2s\n",
      "[CV 9/10] END max_depth=7, max_features=4, min_samples_split=10;, score=(train=-0.036, test=-0.041) total time=   1.2s\n",
      "[CV 10/10] END max_depth=7, max_features=4, min_samples_split=10;, score=(train=-0.036, test=-0.038) total time=   1.2s\n",
      "[CV 1/10] END max_depth=7, max_features=4, min_samples_split=50;, score=(train=-0.036, test=-0.040) total time=   1.2s\n",
      "[CV 2/10] END max_depth=7, max_features=4, min_samples_split=50;, score=(train=-0.037, test=-0.039) total time=   1.2s\n",
      "[CV 3/10] END max_depth=7, max_features=4, min_samples_split=50;, score=(train=-0.037, test=-0.040) total time=   1.2s\n",
      "[CV 4/10] END max_depth=7, max_features=4, min_samples_split=50;, score=(train=-0.036, test=-0.041) total time=   1.2s\n",
      "[CV 5/10] END max_depth=7, max_features=4, min_samples_split=50;, score=(train=-0.037, test=-0.036) total time=   1.2s\n",
      "[CV 6/10] END max_depth=7, max_features=4, min_samples_split=50;, score=(train=-0.036, test=-0.039) total time=   1.3s\n",
      "[CV 7/10] END max_depth=7, max_features=4, min_samples_split=50;, score=(train=-0.037, test=-0.038) total time=   1.2s\n",
      "[CV 8/10] END max_depth=7, max_features=4, min_samples_split=50;, score=(train=-0.036, test=-0.042) total time=   1.2s\n",
      "[CV 9/10] END max_depth=7, max_features=4, min_samples_split=50;, score=(train=-0.036, test=-0.041) total time=   1.2s\n",
      "[CV 10/10] END max_depth=7, max_features=4, min_samples_split=50;, score=(train=-0.037, test=-0.038) total time=   1.2s\n",
      "[CV 1/10] END max_depth=7, max_features=4, min_samples_split=100;, score=(train=-0.037, test=-0.041) total time=   1.1s\n",
      "[CV 2/10] END max_depth=7, max_features=4, min_samples_split=100;, score=(train=-0.037, test=-0.039) total time=   1.2s\n",
      "[CV 3/10] END max_depth=7, max_features=4, min_samples_split=100;, score=(train=-0.037, test=-0.041) total time=   1.2s\n",
      "[CV 4/10] END max_depth=7, max_features=4, min_samples_split=100;, score=(train=-0.037, test=-0.042) total time=   1.2s\n",
      "[CV 5/10] END max_depth=7, max_features=4, min_samples_split=100;, score=(train=-0.037, test=-0.036) total time=   1.2s\n",
      "[CV 6/10] END max_depth=7, max_features=4, min_samples_split=100;, score=(train=-0.038, test=-0.041) total time=   1.2s\n",
      "[CV 7/10] END max_depth=7, max_features=4, min_samples_split=100;, score=(train=-0.037, test=-0.037) total time=   1.2s\n",
      "[CV 8/10] END max_depth=7, max_features=4, min_samples_split=100;, score=(train=-0.037, test=-0.043) total time=   1.2s\n",
      "[CV 9/10] END max_depth=7, max_features=4, min_samples_split=100;, score=(train=-0.038, test=-0.042) total time=   1.2s\n",
      "[CV 10/10] END max_depth=7, max_features=4, min_samples_split=100;, score=(train=-0.037, test=-0.039) total time=   1.2s\n"
     ]
    },
    {
     "data": {
      "text/plain": [
       "GridSearchCV(cv=10, estimator=RandomForestRegressor(),\n",
       "             param_grid={'max_depth': [4, 5, 6, 7],\n",
       "                         'max_features': [1, 2, 3, 4],\n",
       "                         'min_samples_split': [10, 50, 100]},\n",
       "             return_train_score=True, scoring='neg_mean_squared_error',\n",
       "             verbose=6)"
      ]
     },
     "execution_count": 65,
     "metadata": {},
     "output_type": "execute_result"
    }
   ],
   "source": [
    "%time\n",
    "bosque.fit(X_train, y_train)"
   ]
  },
  {
   "cell_type": "code",
   "execution_count": 66,
   "id": "923b6170",
   "metadata": {},
   "outputs": [
    {
     "data": {
      "text/plain": [
       "RandomForestRegressor(max_depth=7, max_features=4, min_samples_split=10)"
      ]
     },
     "execution_count": 66,
     "metadata": {},
     "output_type": "execute_result"
    }
   ],
   "source": [
    "bos = bosque.best_estimator_\n",
    "bos"
   ]
  },
  {
   "cell_type": "markdown",
   "id": "ca47b949",
   "metadata": {},
   "source": [
    "ahora predecimos...."
   ]
  },
  {
   "cell_type": "code",
   "execution_count": 67,
   "id": "35efd0d0",
   "metadata": {},
   "outputs": [],
   "source": [
    "y_pred_test_rf = bos.predict(X_test)\n",
    "y_pred_train_rf = bos.predict(X_train)"
   ]
  },
  {
   "cell_type": "code",
   "execution_count": 68,
   "id": "dd02a9a5",
   "metadata": {},
   "outputs": [
    {
     "data": {
      "text/html": [
       "<div>\n",
       "<style scoped>\n",
       "    .dataframe tbody tr th:only-of-type {\n",
       "        vertical-align: middle;\n",
       "    }\n",
       "\n",
       "    .dataframe tbody tr th {\n",
       "        vertical-align: top;\n",
       "    }\n",
       "\n",
       "    .dataframe thead th {\n",
       "        text-align: right;\n",
       "    }\n",
       "</style>\n",
       "<table border=\"1\" class=\"dataframe\">\n",
       "  <thead>\n",
       "    <tr style=\"text-align: right;\">\n",
       "      <th></th>\n",
       "      <th>MAE</th>\n",
       "      <th>MSE</th>\n",
       "      <th>RMSE</th>\n",
       "      <th>R2</th>\n",
       "      <th>set</th>\n",
       "      <th>modelo</th>\n",
       "    </tr>\n",
       "  </thead>\n",
       "  <tbody>\n",
       "    <tr>\n",
       "      <th>0</th>\n",
       "      <td>0.146482</td>\n",
       "      <td>0.039159</td>\n",
       "      <td>0.197886</td>\n",
       "      <td>0.800667</td>\n",
       "      <td>test</td>\n",
       "      <td>Random Forest</td>\n",
       "    </tr>\n",
       "    <tr>\n",
       "      <th>1</th>\n",
       "      <td>0.141306</td>\n",
       "      <td>0.035814</td>\n",
       "      <td>0.189247</td>\n",
       "      <td>0.816789</td>\n",
       "      <td>train</td>\n",
       "      <td>Random Forest</td>\n",
       "    </tr>\n",
       "  </tbody>\n",
       "</table>\n",
       "</div>"
      ],
      "text/plain": [
       "        MAE       MSE      RMSE        R2    set         modelo\n",
       "0  0.146482  0.039159  0.197886  0.800667   test  Random Forest\n",
       "1  0.141306  0.035814  0.189247  0.816789  train  Random Forest"
      ]
     },
     "execution_count": 68,
     "metadata": {},
     "output_type": "execute_result"
    }
   ],
   "source": [
    "rf_results = metricas(y_test, y_train, y_pred_test_rf, y_pred_train_rf, \"Random Forest\")\n",
    "rf_results"
   ]
  },
  {
   "cell_type": "markdown",
   "id": "b613f0af",
   "metadata": {},
   "source": [
    "ahora comparamos con el resto de modelos que hemos probado:"
   ]
  },
  {
   "cell_type": "code",
   "execution_count": 69,
   "id": "da396d97",
   "metadata": {},
   "outputs": [
    {
     "data": {
      "text/html": [
       "<div>\n",
       "<style scoped>\n",
       "    .dataframe tbody tr th:only-of-type {\n",
       "        vertical-align: middle;\n",
       "    }\n",
       "\n",
       "    .dataframe tbody tr th {\n",
       "        vertical-align: top;\n",
       "    }\n",
       "\n",
       "    .dataframe thead th {\n",
       "        text-align: right;\n",
       "    }\n",
       "</style>\n",
       "<table border=\"1\" class=\"dataframe\">\n",
       "  <thead>\n",
       "    <tr style=\"text-align: right;\">\n",
       "      <th></th>\n",
       "      <th>MAE</th>\n",
       "      <th>MSE</th>\n",
       "      <th>RMSE</th>\n",
       "      <th>R2</th>\n",
       "      <th>set</th>\n",
       "      <th>modelo</th>\n",
       "    </tr>\n",
       "  </thead>\n",
       "  <tbody>\n",
       "    <tr>\n",
       "      <th>0</th>\n",
       "      <td>0.181303</td>\n",
       "      <td>0.054454</td>\n",
       "      <td>0.233355</td>\n",
       "      <td>0.722805</td>\n",
       "      <td>test</td>\n",
       "      <td>Regresion lineal</td>\n",
       "    </tr>\n",
       "    <tr>\n",
       "      <th>1</th>\n",
       "      <td>0.180144</td>\n",
       "      <td>0.054077</td>\n",
       "      <td>0.232545</td>\n",
       "      <td>0.723365</td>\n",
       "      <td>train</td>\n",
       "      <td>Regresion lineal</td>\n",
       "    </tr>\n",
       "    <tr>\n",
       "      <th>0</th>\n",
       "      <td>0.165695</td>\n",
       "      <td>0.053371</td>\n",
       "      <td>0.231021</td>\n",
       "      <td>0.728322</td>\n",
       "      <td>test</td>\n",
       "      <td>Decission Tree I</td>\n",
       "    </tr>\n",
       "    <tr>\n",
       "      <th>1</th>\n",
       "      <td>0.002254</td>\n",
       "      <td>0.000603</td>\n",
       "      <td>0.024556</td>\n",
       "      <td>0.996915</td>\n",
       "      <td>train</td>\n",
       "      <td>Decission Tree I</td>\n",
       "    </tr>\n",
       "    <tr>\n",
       "      <th>0</th>\n",
       "      <td>0.168589</td>\n",
       "      <td>0.051208</td>\n",
       "      <td>0.226293</td>\n",
       "      <td>0.739329</td>\n",
       "      <td>test</td>\n",
       "      <td>Decision tree II</td>\n",
       "    </tr>\n",
       "    <tr>\n",
       "      <th>1</th>\n",
       "      <td>0.158697</td>\n",
       "      <td>0.045275</td>\n",
       "      <td>0.212779</td>\n",
       "      <td>0.768392</td>\n",
       "      <td>train</td>\n",
       "      <td>Decision tree II</td>\n",
       "    </tr>\n",
       "    <tr>\n",
       "      <th>0</th>\n",
       "      <td>0.146482</td>\n",
       "      <td>0.039159</td>\n",
       "      <td>0.197886</td>\n",
       "      <td>0.800667</td>\n",
       "      <td>test</td>\n",
       "      <td>Random Forest</td>\n",
       "    </tr>\n",
       "    <tr>\n",
       "      <th>1</th>\n",
       "      <td>0.141306</td>\n",
       "      <td>0.035814</td>\n",
       "      <td>0.189247</td>\n",
       "      <td>0.816789</td>\n",
       "      <td>train</td>\n",
       "      <td>Random Forest</td>\n",
       "    </tr>\n",
       "  </tbody>\n",
       "</table>\n",
       "</div>"
      ],
      "text/plain": [
       "        MAE       MSE      RMSE        R2    set            modelo\n",
       "0  0.181303  0.054454  0.233355  0.722805   test  Regresion lineal\n",
       "1  0.180144  0.054077  0.232545  0.723365  train  Regresion lineal\n",
       "0  0.165695  0.053371  0.231021  0.728322   test  Decission Tree I\n",
       "1  0.002254  0.000603  0.024556  0.996915  train  Decission Tree I\n",
       "0  0.168589  0.051208  0.226293  0.739329   test  Decision tree II\n",
       "1  0.158697  0.045275  0.212779  0.768392  train  Decision tree II\n",
       "0  0.146482  0.039159  0.197886  0.800667   test     Random Forest\n",
       "1  0.141306  0.035814  0.189247  0.816789  train     Random Forest"
      ]
     },
     "execution_count": 69,
     "metadata": {},
     "output_type": "execute_result"
    }
   ],
   "source": [
    "df_all = pd.concat([df_all, rf_results ], axis = 0)\n",
    "df_all"
   ]
  },
  {
   "cell_type": "code",
   "execution_count": 70,
   "id": "4fe784bc",
   "metadata": {},
   "outputs": [
    {
     "name": "stderr",
     "output_type": "stream",
     "text": [
      "/Users/eduardoarroyo/opt/anaconda3/lib/python3.9/site-packages/seaborn/_decorators.py:36: FutureWarning: Pass the following variables as keyword args: x, y. From version 0.12, the only valid positional argument will be `data`, and passing other arguments without an explicit keyword will result in an error or misinterpretation.\n",
      "  warnings.warn(\n",
      "/Users/eduardoarroyo/opt/anaconda3/lib/python3.9/site-packages/seaborn/_decorators.py:36: FutureWarning: Pass the following variables as keyword args: x, y. From version 0.12, the only valid positional argument will be `data`, and passing other arguments without an explicit keyword will result in an error or misinterpretation.\n",
      "  warnings.warn(\n"
     ]
    },
    {
     "data": {
      "image/png": "[encoded data removed]",
      "text/plain": [
       "<Figure size 1080x360 with 2 Axes>"
      ]
     },
     "metadata": {
      "needs_background": "light"
     },
     "output_type": "display_data"
    }
   ],
   "source": [
    "fig, axes = plt.subplots(1,2, figsize =(15,5))\n",
    "\n",
    "sns.barplot(df_all.modelo, df_all.RMSE, hue = df_all.set, ax = axes[0], palette=\"mako\")\n",
    "sns.barplot(df_all.modelo, df_all.R2, hue = df_all.set, ax = axes[1], palette = \"mako\");"
   ]
  },
  {
   "cell_type": "markdown",
   "id": "3ba5ca4c",
   "metadata": {},
   "source": [
    "vemos las importancias de cada variable:"
   ]
  },
  {
   "cell_type": "code",
   "execution_count": 71,
   "id": "761e38be",
   "metadata": {},
   "outputs": [],
   "source": [
    "importancia_predictores_rf = pd.DataFrame(\n",
    "                            {'predictor': X_train.columns,\n",
    "                             'importancia': bos.feature_importances_})\n",
    "importancia_predictores_rf.sort_values( ascending=False, by= \"importancia\", inplace=True)"
   ]
  },
  {
   "cell_type": "markdown",
   "id": "5d0c1286",
   "metadata": {},
   "source": [
    "# EL MEJOR MODELO ES EL RANDOM FOREST!!! YUPI JEJE"
   ]
  }
 ],
 "metadata": {
  "kernelspec": {
   "display_name": "Python 3 (ipykernel)",
   "language": "python",
   "name": "python3"
  },
  "language_info": {
   "codemirror_mode": {
    "name": "ipython",
    "version": 3
   },
   "file_extension": ".py",
   "mimetype": "text/x-python",
   "name": "python",
   "nbconvert_exporter": "python",
   "pygments_lexer": "ipython3",
   "version": "3.9.7"
  }
 },
 "nbformat": 4,
 "nbformat_minor": 5
}
